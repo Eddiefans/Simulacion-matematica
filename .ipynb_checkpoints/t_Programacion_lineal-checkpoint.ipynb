{
 "cells": [
  {
   "cell_type": "markdown",
   "metadata": {},
   "source": [
    "# Tarea - Programación lineal"
   ]
  },
  {
   "cell_type": "markdown",
   "metadata": {},
   "source": [
    "### Diseño de la Dieta Óptima\n",
    "\n",
    "Se quiere producir comida para gatos de la manera más barata, no obstante se debe también asegurar que se cumplan los datos requeridos de analisis nutricional. Por lo que se quiere variar la cantidad de cada ingrediente para cumplir con los estandares nutricionales. Los requisitos que se tienen es que en $100$ gramos, se deben tener **por lo menos** $8$ gramos de proteína y $6$ gramos de grasa. Así mismo, no se debe tener más de $2$ gramos de fibra y $0.4$ gramos de sal.  \n",
    "\n",
    "Los datos nutricionales se pueden obtener de la siguiente tabla:\n",
    "\n",
    "Ingrediente|Proteína|Grasa|Fibra|Sal\n",
    ":----|----|----|----|----\n",
    "Pollo|  10.0%|08.0%|00.1%|00.2%\n",
    "Carne|  20.0%|10.0%|00.5%|00.5%\n",
    "Cordero|15.0%|11.0%|00.5%|00.7%\n",
    "Arroz|  00.0%|01.0%|10.0%|00.2%\n",
    "Trigo|  04.0%|01.0%|15.0%|00.8%\n",
    "Gel|    00.0%|00.0%|00.0%|00.0%\n",
    "\n",
    "Los costos de cada producto son:\n",
    "\n",
    "Ingrediente|Costo por gramo\n",
    ":----|----\n",
    "Pollo|$\\$$0.013\n",
    "Carne|$\\$$0.008\n",
    "Cordero|$\\$$0.010\n",
    "Arroz|$\\$$0.002\n",
    "Trigo|$\\$$0.005\n",
    "Gel|$\\$$0.001    \n",
    "\n",
    "Lo que se busca optimizar en este caso es la cantidad de productos que se debe utilizar en la comida de gato, minimizando el costo total. Para simplificar la notación use las siguientes variables: \n",
    "\n",
    "+ $x_1:$ Gramos de pollo  \n",
    "+ $x_2:$ Gramos de carne  \n",
    "+ $x_3:$ Gramos de cordero  \n",
    "+ $x_4:$ Gramos de arroz  \n",
    "+ $x_5:$ Gramos de trigo  \n",
    "+ $x_6:$ Gramos de gel\n",
    "\n",
    "La tarea consiste en plantear el problemade programación lineal que permita satisfacer las necesidades alimenticias del gato al tiempo que minimice el costo total y resolverlo con `linprog`."
   ]
  },
  {
   "cell_type": "code",
   "execution_count": 25,
   "metadata": {},
   "outputs": [
    {
     "data": {
      "text/latex": [
       "$\\displaystyle min. 0.013 x_{1} + 0.008 x_{2} + 0.01 x_{3} + 0.002 x_{4} + 0.005 x_{5} + 0.001 x_{6}$"
      ],
      "text/plain": [
       "<IPython.core.display.Math object>"
      ]
     },
     "metadata": {},
     "output_type": "display_data"
    },
    {
     "name": "stdout",
     "output_type": "stream",
     "text": [
      "\n"
     ]
    },
    {
     "data": {
      "text/latex": [
       "$\\displaystyle x_{1} + x_{2} + x_{3} + x_{4} + x_{5} + x_{6} = 100$"
      ],
      "text/plain": [
       "<IPython.core.display.Math object>"
      ]
     },
     "metadata": {},
     "output_type": "display_data"
    },
    {
     "data": {
      "text/latex": [
       "$\\displaystyle - 0.1 x_{1} - 0.2 x_{2} - 0.15 x_{3} - 0.04 x_{5} \\geq -8$"
      ],
      "text/plain": [
       "<IPython.core.display.Math object>"
      ]
     },
     "metadata": {},
     "output_type": "display_data"
    },
    {
     "data": {
      "text/latex": [
       "$\\displaystyle - 0.08 x_{1} - 0.1 x_{2} - 0.11 x_{3} - 0.01 x_{4} - 0.01 x_{5} \\geq -6$"
      ],
      "text/plain": [
       "<IPython.core.display.Math object>"
      ]
     },
     "metadata": {},
     "output_type": "display_data"
    },
    {
     "data": {
      "text/latex": [
       "$\\displaystyle 0.001 x_{1} + 0.005 x_{2} + 0.005 x_{3} + 0.1 x_{4} + 0.15 x_{5} \\geq 2$"
      ],
      "text/plain": [
       "<IPython.core.display.Math object>"
      ]
     },
     "metadata": {},
     "output_type": "display_data"
    },
    {
     "data": {
      "text/latex": [
       "$\\displaystyle 0.002 x_{1} + 0.005 x_{2} + 0.007 x_{3} + 0.002 x_{4} + 0.008 x_{5} \\geq 0.4$"
      ],
      "text/plain": [
       "<IPython.core.display.Math object>"
      ]
     },
     "metadata": {},
     "output_type": "display_data"
    },
    {
     "name": "stdout",
     "output_type": "stream",
     "text": [
      "C: \n"
     ]
    },
    {
     "data": {
      "text/latex": [
       "$\\displaystyle \\left[\\begin{matrix}0.013\\\\0.008\\\\0.01\\\\0.002\\\\0.005\\\\0.001\\end{matrix}\\right]$"
      ],
      "text/plain": [
       "Matrix([\n",
       "[0.013],\n",
       "[0.008],\n",
       "[ 0.01],\n",
       "[0.002],\n",
       "[0.005],\n",
       "[0.001]])"
      ]
     },
     "metadata": {},
     "output_type": "display_data"
    },
    {
     "name": "stdout",
     "output_type": "stream",
     "text": [
      "X: \n"
     ]
    },
    {
     "data": {
      "text/latex": [
       "$\\displaystyle \\left[\\begin{matrix}x_{1}\\\\x_{2}\\\\x_{3}\\\\x_{4}\\\\x_{5}\\\\x_{6}\\end{matrix}\\right]$"
      ],
      "text/plain": [
       "Matrix([\n",
       "[x_1],\n",
       "[x_2],\n",
       "[x_3],\n",
       "[x_4],\n",
       "[x_5],\n",
       "[x_6]])"
      ]
     },
     "metadata": {},
     "output_type": "display_data"
    },
    {
     "name": "stdout",
     "output_type": "stream",
     "text": [
      "B: \n"
     ]
    },
    {
     "data": {
      "text/latex": [
       "$\\displaystyle \\left[\\begin{matrix}100\\\\-8\\\\-6\\\\2\\\\0.4\\end{matrix}\\right]$"
      ],
      "text/plain": [
       "Matrix([\n",
       "[100],\n",
       "[ -8],\n",
       "[ -6],\n",
       "[  2],\n",
       "[0.4]])"
      ]
     },
     "metadata": {},
     "output_type": "display_data"
    },
    {
     "name": "stdout",
     "output_type": "stream",
     "text": [
      "A: \n"
     ]
    },
    {
     "data": {
      "text/latex": [
       "$\\displaystyle \\left[\\begin{matrix}1 & 1 & 1 & 1 & 1 & 1\\\\-0.1 & -0.2 & -0.15 & 0 & -0.04 & 0\\\\-0.08 & -0.1 & -0.11 & -0.01 & -0.01 & 0\\\\0.001 & 0.005 & 0.005 & 0.1 & 0.15 & 0\\\\0.002 & 0.005 & 0.007 & 0.002 & 0.008 & 0\\end{matrix}\\right]$"
      ],
      "text/plain": [
       "Matrix([\n",
       "[    1,     1,     1,     1,     1, 1],\n",
       "[ -0.1,  -0.2, -0.15,     0, -0.04, 0],\n",
       "[-0.08,  -0.1, -0.11, -0.01, -0.01, 0],\n",
       "[0.001, 0.005, 0.005,   0.1,  0.15, 0],\n",
       "[0.002, 0.005, 0.007, 0.002, 0.008, 0]])"
      ]
     },
     "metadata": {},
     "output_type": "display_data"
    },
    {
     "name": "stdout",
     "output_type": "stream",
     "text": [
      "\n",
      "Solución\n",
      "\n",
      "Total a gastar: $0.52\n",
      "\n",
      "Ingredientes\n",
      "Carne: 60 g\n",
      "Gel: 40 g\n"
     ]
    }
   ],
   "source": [
    "import sympy as sp\n",
    "import numpy as np\n",
    "import scipy.optimize as opt\n",
    "from IPython.display import display, Math\n",
    "sp.var(\"x_1\")\n",
    "sp.var(\"x_2\")\n",
    "sp.var(\"x_3\")\n",
    "sp.var(\"x_4\")\n",
    "sp.var(\"x_5\")\n",
    "sp.var(\"x_6\")\n",
    "ing = [\"Pollo\", \"Carne\", \"Cordero\", \"Arroz\", \"Trigo\", \"Gel\"]\n",
    "optF = 0.013*x_1+0.008*x_2+0.01*x_3+0.002*x_4+0.005*x_5+0.001*x_6\n",
    "st = [sp.Eq( x_1+x_2+x_3+x_4+x_5+x_6, 100 ),\n",
    "      -0.1*x_1-0.2*x_2-0.15*x_3-0.04*x_5>=-8, \n",
    "      -0.08*x_1-0.1*x_2-0.11*x_3-0.01*x_4-0.01*x_5>=-6, \n",
    "      0.001*x_1+0.005*x_2+0.005*x_3+0.1*x_4+0.15*x_5>=2,\n",
    "      0.002*x_1+0.005*x_2+0.007*x_3+0.002*x_4+0.008*x_5>=0.4]\n",
    "display(Math('min. '+sp.latex(optF)))\n",
    "print(\"\")\n",
    "for item in st:\n",
    "    display(Math(sp.latex(item)))\n",
    "print(\"C: \")\n",
    "display(sp.Matrix([[0.013], [0.008], [0.01], [0.002], [0.005], [0.001]]))\n",
    "print(\"X: \")\n",
    "display(sp.Matrix([[x_1], [x_2], [x_3], [x_4], [x_5], [x_6]]))\n",
    "print(\"B: \")\n",
    "display(sp.Matrix([[100], [-8], [-6], [2], [0.4]]))\n",
    "print(\"A: \")\n",
    "display(sp.Matrix([[1, 1, 1, 1, 1, 1], [-0.1, -0.2, -0.15, 0.0, -0.04, 0], [-0.08, -0.1, -0.11, -0.01, -0.01, 0], [0.001, 0.005, 0.005, 0.1, 0.15, 0], [0.002, 0.005, 0.007, 0.002, 0.008, 0]]))\n",
    "\n",
    "c = np.array([[0.013], [0.008], [0.01], [0.002], [0.005], [0.001]])\n",
    "A = np.array([[-0.1, -0.2, -0.15, 0.0, -0.04, 0], [-0.08, -0.1, -0.11, -0.01, -0.01, 0], [0.001, 0.005, 0.005, 0.1, 0.15, 0], [0.002, 0.005, 0.007, 0.002, 0.008, 0]])\n",
    "b = np.array([[-8], [-6], [2], [0.4]])\n",
    "Aeq = np.array([[1, 1, 1, 1, 1, 1]])\n",
    "beq = np.array([100])\n",
    "\n",
    "sol = opt.linprog(c, A, b, Aeq, beq)\n",
    "\n",
    "print(\"\")\n",
    "print(\"Solución\")\n",
    "print(\"\")\n",
    "print(\"Total a gastar: ${}\".format(round(sol.get(\"fun\"), 3)))\n",
    "print(\"\")\n",
    "print(\"Ingredientes\")\n",
    "for i in range(6):\n",
    "    if sol.get(\"x\")[i] >= 1:\n",
    "        print(\"{}: {} g\".format(ing[i], round(sol.get(\"x\")[i])))"
   ]
  },
  {
   "cell_type": "markdown",
   "metadata": {},
   "source": [
    "### Problema de distribución de energía eléctrica\n",
    "\n",
    "La Comisión Federal de Electricidad **(CFE)** dispone de cuatro plantas de generación para satisfacer la demanda diaria eléctrica en cuatro ciudades, Guadalajara, León y Morelia. Las plantas $1$, $2$ y $3$ pueden satisfacer $80$, $40$ y $60$ millones de KW al día respectivamente. Las necesidades de las ciudades de Guadalajara, León y Morelia son de $70$, $40$ y $70$ millones de Kw al día respectivamente. \n",
    "\n",
    "\n",
    "Los costos asociados al envío de suministro energético por cada millón de Kw entre cada planta y cada ciudad son los registrados en la siguiente tabla. \n",
    "\n",
    "-|Guadalajara|León|Morelia\n",
    ":----|----|----|----\n",
    "Planta 1|5|2|7\n",
    "Planta 2|3|6|6\n",
    "Planta 3|6|1|2\n",
    "\n",
    "Y por último, las restricciones del problema, van a estar dadas por las capacidades de oferta y demanda de cada planta (en millones de KW) y cada ciudad.\n",
    "\n",
    "Para simplificar la notación use las siguientes variables:\n",
    "\n",
    "+ $x_1$: Kw (en millones) distribuidos de la Planta 1 a Guadalajara\n",
    "+ $x_2$: Kw (en millones) distribuidos de la Planta 1 a León\n",
    "+ $x_3$: Kw (en millones) distribuidos de la Planta 1 a Morelia\n",
    "+ $x_4$: Kw (en millones) distribuidos de la Planta 2 a Guadalajara\n",
    "+ $x_5$: Kw (en millones) distribuidos de la Planta 2 a León\n",
    "+ $x_6$: Kw (en millones) distribuidos de la Planta 2 a Morelia\n",
    "+ $x_7$: Kw (en millones) distribuidos de la Planta 3 a Guadalajara\n",
    "+ $x_8$: Kw (en millones) distribuidos de la Planta 3 a León\n",
    "+ $x_9$: Kw (en millones) distribuidos de la Planta 3 a Morelia\n",
    "\n",
    "La tarea consiste en plantear el problema de programación lineal que permita satisfacer las necesidades de todas las ciudades al tiempo que minimice los costos asociados a la distribución y resolverlo con `linprog`."
   ]
  },
  {
   "cell_type": "code",
   "execution_count": 32,
   "metadata": {},
   "outputs": [
    {
     "data": {
      "text/latex": [
       "$\\displaystyle min. 5 x_{1} + 2 x_{2} + 7 x_{3} + 3 x_{4} + 6 x_{5} + 6 x_{6} + 6 x_{7} + x_{8} + 2 x_{9}$"
      ],
      "text/plain": [
       "<IPython.core.display.Math object>"
      ]
     },
     "metadata": {},
     "output_type": "display_data"
    },
    {
     "name": "stdout",
     "output_type": "stream",
     "text": [
      "\n"
     ]
    },
    {
     "data": {
      "text/latex": [
       "$\\displaystyle x_{1} + x_{2} + x_{3} \\leq 80$"
      ],
      "text/plain": [
       "<IPython.core.display.Math object>"
      ]
     },
     "metadata": {},
     "output_type": "display_data"
    },
    {
     "data": {
      "text/latex": [
       "$\\displaystyle x_{4} + x_{5} + x_{6} \\leq 40$"
      ],
      "text/plain": [
       "<IPython.core.display.Math object>"
      ]
     },
     "metadata": {},
     "output_type": "display_data"
    },
    {
     "data": {
      "text/latex": [
       "$\\displaystyle x_{7} + x_{8} + x_{9} \\leq 60$"
      ],
      "text/plain": [
       "<IPython.core.display.Math object>"
      ]
     },
     "metadata": {},
     "output_type": "display_data"
    },
    {
     "data": {
      "text/latex": [
       "$\\displaystyle x_{1} + x_{4} + x_{7} = 70$"
      ],
      "text/plain": [
       "<IPython.core.display.Math object>"
      ]
     },
     "metadata": {},
     "output_type": "display_data"
    },
    {
     "data": {
      "text/latex": [
       "$\\displaystyle x_{2} + x_{5} + x_{8} = 40$"
      ],
      "text/plain": [
       "<IPython.core.display.Math object>"
      ]
     },
     "metadata": {},
     "output_type": "display_data"
    },
    {
     "data": {
      "text/latex": [
       "$\\displaystyle x_{3} + x_{6} + x_{9} = 70$"
      ],
      "text/plain": [
       "<IPython.core.display.Math object>"
      ]
     },
     "metadata": {},
     "output_type": "display_data"
    },
    {
     "name": "stdout",
     "output_type": "stream",
     "text": [
      "C: \n"
     ]
    },
    {
     "data": {
      "text/latex": [
       "$\\displaystyle \\left[\\begin{matrix}5\\\\2\\\\7\\\\3\\\\6\\\\6\\\\6\\\\1\\\\2\\end{matrix}\\right]$"
      ],
      "text/plain": [
       "Matrix([\n",
       "[5],\n",
       "[2],\n",
       "[7],\n",
       "[3],\n",
       "[6],\n",
       "[6],\n",
       "[6],\n",
       "[1],\n",
       "[2]])"
      ]
     },
     "metadata": {},
     "output_type": "display_data"
    },
    {
     "name": "stdout",
     "output_type": "stream",
     "text": [
      "X: \n"
     ]
    },
    {
     "data": {
      "text/latex": [
       "$\\displaystyle \\left[\\begin{matrix}x_{1}\\\\x_{2}\\\\x_{3}\\\\x_{4}\\\\x_{5}\\\\x_{6}\\\\x_{7}\\\\x_{8}\\\\x_{9}\\end{matrix}\\right]$"
      ],
      "text/plain": [
       "Matrix([\n",
       "[x_1],\n",
       "[x_2],\n",
       "[x_3],\n",
       "[x_4],\n",
       "[x_5],\n",
       "[x_6],\n",
       "[x_7],\n",
       "[x_8],\n",
       "[x_9]])"
      ]
     },
     "metadata": {},
     "output_type": "display_data"
    },
    {
     "name": "stdout",
     "output_type": "stream",
     "text": [
      "B: \n"
     ]
    },
    {
     "data": {
      "text/latex": [
       "$\\displaystyle \\left[\\begin{matrix}80\\\\40\\\\60\\\\70\\\\40\\\\70\\end{matrix}\\right]$"
      ],
      "text/plain": [
       "Matrix([\n",
       "[80],\n",
       "[40],\n",
       "[60],\n",
       "[70],\n",
       "[40],\n",
       "[70]])"
      ]
     },
     "metadata": {},
     "output_type": "display_data"
    },
    {
     "name": "stdout",
     "output_type": "stream",
     "text": [
      "A: \n"
     ]
    },
    {
     "data": {
      "text/latex": [
       "$\\displaystyle \\left[\\begin{matrix}1 & 1 & 1 & 0 & 0 & 0 & 0 & 0 & 0\\\\0 & 0 & 0 & 1 & 1 & 1 & 0 & 0 & 0\\\\0 & 0 & 0 & 0 & 0 & 0 & 1 & 1 & 1\\\\1 & 0 & 0 & 1 & 0 & 0 & 1 & 0 & 0\\\\0 & 1 & 0 & 0 & 1 & 0 & 0 & 1 & 0\\\\0 & 0 & 1 & 0 & 0 & 1 & 0 & 0 & 1\\end{matrix}\\right]$"
      ],
      "text/plain": [
       "Matrix([\n",
       "[1, 1, 1, 0, 0, 0, 0, 0, 0],\n",
       "[0, 0, 0, 1, 1, 1, 0, 0, 0],\n",
       "[0, 0, 0, 0, 0, 0, 1, 1, 1],\n",
       "[1, 0, 0, 1, 0, 0, 1, 0, 0],\n",
       "[0, 1, 0, 0, 1, 0, 0, 1, 0],\n",
       "[0, 0, 1, 0, 0, 1, 0, 0, 1]])"
      ]
     },
     "metadata": {},
     "output_type": "display_data"
    },
    {
     "name": "stdout",
     "output_type": "stream",
     "text": [
      "\n",
      "Solución\n",
      "\n",
      "Total a gastar: 540 um\n",
      "\n",
      "30 Kw (en millones) distribuidos de la Planta 1 a Guadalajara\n",
      "40 Kw (en millones) distribuidos de la Planta 1 a León\n",
      "10 Kw (en millones) distribuidos de la Planta 1 a Morelia\n",
      "40 Kw (en millones) distribuidos de la Planta 2 a Guadalajara\n",
      "0 Kw (en millones) distribuidos de la Planta 2 a León\n",
      "0 Kw (en millones) distribuidos de la Planta 2 a Morelia\n",
      "0 Kw (en millones) distribuidos de la Planta 3 a Guadalajara\n",
      "0 Kw (en millones) distribuidos de la Planta 3 a León\n",
      "60 Kw (en millones) distribuidos de la Planta 3 a Morelia\n"
     ]
    }
   ],
   "source": [
    "import sympy as sp\n",
    "import numpy as np\n",
    "import scipy.optimize as opt\n",
    "from IPython.display import display, Math\n",
    "sp.var(\"x_1\")\n",
    "sp.var(\"x_2\")\n",
    "sp.var(\"x_3\")\n",
    "sp.var(\"x_4\")\n",
    "sp.var(\"x_5\")\n",
    "sp.var(\"x_6\")\n",
    "sp.var(\"x_7\")\n",
    "sp.var(\"x_8\")\n",
    "sp.var(\"x_9\")\n",
    "ing = [\"Guadalajara\", \"León\", \"Morelia\"]\n",
    "optF = 5*x_1+2*x_2+7*x_3+3*x_4+6*x_5+6*x_6+6*x_7+x_8+2*x_9\n",
    "st = [x_1+x_2+x_3<=80,\n",
    "      x_4+x_5+x_6<=40,\n",
    "      x_7+x_8+x_9<=60,\n",
    "     sp.Eq( x_1+x_4+x_7, 70),\n",
    "     sp.Eq( x_2+x_5+x_8, 40),\n",
    "     sp.Eq( x_3+x_6+x_9, 70)]\n",
    "display(Math('min. '+sp.latex(optF)))\n",
    "print(\"\")\n",
    "for item in st:\n",
    "    display(Math(sp.latex(item)))\n",
    "print(\"C: \")\n",
    "display(sp.Matrix([[5], [2], [7], [3], [6], [6], [6], [1], [2]]))\n",
    "print(\"X: \")\n",
    "display(sp.Matrix([[x_1], [x_2], [x_3], [x_4], [x_5], [x_6], [x_7], [x_8], [x_9]]))\n",
    "print(\"B: \")\n",
    "display(sp.Matrix([[80], [40], [60], [70], [40], [70]]))\n",
    "print(\"A: \")\n",
    "display(sp.Matrix([[1, 1, 1, 0, 0, 0, 0, 0, 0], \n",
    "                   [0, 0, 0, 1, 1, 1, 0, 0, 0], \n",
    "                   [0, 0, 0, 0, 0, 0, 1, 1, 1], \n",
    "                   [1, 0, 0, 1, 0, 0, 1, 0, 0], \n",
    "                   [0, 1, 0, 0, 1, 0, 0, 1, 0], \n",
    "                   [0, 0, 1, 0, 0, 1, 0, 0, 1]]))\n",
    "\n",
    "c = np.array([[5], [2], [7], [3], [6], [6], [6], [1], [2]])\n",
    "A = np.array([[1, 1, 1, 0, 0, 0, 0, 0, 0], \n",
    "                   [0, 0, 0, 1, 1, 1, 0, 0, 0], \n",
    "                   [0, 0, 0, 0, 0, 0, 1, 1, 1]])\n",
    "b = np.array([[80], [40], [60]])\n",
    "\n",
    "Aeq = np.array([ \n",
    "                   [1, 0, 0, 1, 0, 0, 1, 0, 0], \n",
    "                   [0, 1, 0, 0, 1, 0, 0, 1, 0], \n",
    "                   [0, 0, 1, 0, 0, 1, 0, 0, 1]])\n",
    "beq = np.array([[70], [40], [70]])\n",
    "\n",
    "sol = opt.linprog(c, A, b, Aeq, beq)\n",
    "print(\"\")\n",
    "print(\"Solución\")\n",
    "print(\"\")\n",
    "print(\"Total a gastar: {} um\".format(round(sol.get(\"fun\"))))\n",
    "print(\"\")\n",
    "number = 0\n",
    "city = \"\"\n",
    "for i in range(9):    \n",
    "    if i < 3:\n",
    "        number = 1\n",
    "    elif i > 5:\n",
    "        number = 3\n",
    "    else:\n",
    "        number = 2\n",
    "    if i == 0 or i == 3 or i == 6:\n",
    "        city = \"Guadalajara\"\n",
    "    elif i == 1 or i == 4 or i == 7:\n",
    "        city = \"León\"\n",
    "    else:\n",
    "        city = \"Morelia\"\n",
    "    print(\"{} Kw (en millones) distribuidos de la Planta {} a {}\".format(round(sol.get(\"x\")[i]), number, city))"
   ]
  }
 ],
 "metadata": {
  "kernelspec": {
   "display_name": "Python 3 (ipykernel)",
   "language": "python",
   "name": "python3"
  },
  "language_info": {
   "codemirror_mode": {
    "name": "ipython",
    "version": 3
   },
   "file_extension": ".py",
   "mimetype": "text/x-python",
   "name": "python",
   "nbconvert_exporter": "python",
   "pygments_lexer": "ipython3",
   "version": "3.9.7"
  }
 },
 "nbformat": 4,
 "nbformat_minor": 2
}
