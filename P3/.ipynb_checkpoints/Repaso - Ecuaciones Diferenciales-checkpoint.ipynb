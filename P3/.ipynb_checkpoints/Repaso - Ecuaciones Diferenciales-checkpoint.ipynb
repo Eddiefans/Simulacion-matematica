{
 "cells": [
  {
   "cell_type": "markdown",
   "metadata": {},
   "source": [
    "# Repaso (Módulo 3)\n",
    "> Recordar que el tema principal del módulo son las ecuaciones diferenciales. Entonces, al finalizar este módulo, las competencias principales que deben tener ustedes es\n",
    "> - Resolver de forma numérica ecuaciones diferenciales ordinarias (EDO) de cualquier orden.\n",
    "> - Graficar soluciones de dichas EDO en diferentes representaciones.\n",
    "> - Interpretar o concluir acerca de las gráficas que se obtuvieron."
   ]
  },
  {
   "cell_type": "markdown",
   "metadata": {},
   "source": [
    "___\n",
    "## Ejemplo 1. Conejos vs. Ovejas."
   ]
  },
  {
   "cell_type": "markdown",
   "metadata": {
    "collapsed": true
   },
   "source": [
    "Imaginemos que en un mismo ecosistema se encuentran conejos y ovejas. Supongamos, además, que ambas compiten por el mismo alimento (hierba) y que la cantidad total de alimento es limitada. Se ignoran otros factores como depredadores, efectos de temporada (estaciones), y otras fuentes de comida. El modelo de competición entre dos especies **Lotka-Volterra** nos sirve para describir este fenómeno.\n",
    "\n",
    "Dos fenómenos importantes:\n",
    "- Cada especie crecería hasta su capacidad máxima en ausencia de la otra especie. Esto se puede modelar con la ecuación logística para cada especie. Los conejos tienen una habilidad soprendente para reproducirse, entonces comparativamente deberían crecer más.\n",
    "- Cuando conejos y ovejas se encuentran, empieza la competencia. Algunas veces los conejos comen, pero las ovejas (al ser más grandes) ganarán el derecho a la comida la mayoría de las veces. Supondremos que dichos conflictos se dan a una tasa proporcional al tamaño de cada población (si hay dos veces más ovejas, la probabilidad de que un conejo encuentre a una oveja será el doble). Supondremos que dicha competencia disminuirá la tasa de crecimiento para cada especie, y el efecto será mayor para los conejos."
   ]
  },
  {
   "cell_type": "markdown",
   "metadata": {},
   "source": [
    "Con las consideraciones anteriores, un modelo específico es:\n",
    "\n",
    "\\begin{align}\n",
    "\\frac{dx_1}{dt} &= x_1(3-x_1-2x_2)\\\\\n",
    "\\frac{dx_2}{dt} &= x_2(2-x_2-x_1),\n",
    "\\end{align}\n",
    "\n",
    "donde $x_1(t)\\geq 0$ es la población de conejos al instante $t$ y $x_2(t)\\geq 0$ es la población de ovejas al instante $t$. Definimos $x=\\left[x_1\\quad x_2\\right]^T$.\n",
    "\n",
    "Esta selección de coeficientes se tiene para recrear el escenario descrito. Sin embargo, este modelo se puede utilizar para estudiar competición entre especies en general y los coeficientes cambiarán en cada caso."
   ]
  },
  {
   "cell_type": "markdown",
   "metadata": {},
   "source": [
    "Simule el sistema para cada una de las siguientes condiciones iniciales. Para cada caso, obtenga gráficas de $x_1$ vs. $t$, $x_2$ vs. $t$ y $x_2$ vs. $x_1$. ¿Qué pasa con las poblaciones de conejos y de ovejas cuando $t\\to\\infty$? ¿Pueden coexistir?\n",
    "\n",
    "1. $x(0)=\\left[x_1(0)\\quad x_2(0)\\right]^T = [0.5 \\quad 1]^T$.\n",
    "2. $x(0)=\\left[x_1(0)\\quad x_2(0)\\right]^T = [1 \\quad 0.5]^T$.\n",
    "3. $x(0)=\\left[x_1(0)\\quad x_2(0)\\right]^T = [1.5 \\quad 1]^T$.\n",
    "4. $x(0)=\\left[x_1(0)\\quad x_2(0)\\right]^T = [1 \\quad 1.5]^T$.\n",
    "5. $x(0)=\\left[x_1(0)\\quad x_2(0)\\right]^T = [1 \\quad 1]^T$."
   ]
  },
  {
   "cell_type": "code",
   "execution_count": null,
   "metadata": {},
   "outputs": [],
   "source": []
  },
  {
   "cell_type": "code",
   "execution_count": null,
   "metadata": {},
   "outputs": [],
   "source": []
  },
  {
   "cell_type": "code",
   "execution_count": null,
   "metadata": {},
   "outputs": [],
   "source": []
  },
  {
   "cell_type": "markdown",
   "metadata": {},
   "source": [
    "**Conclusión:**\n"
   ]
  },
  {
   "cell_type": "markdown",
   "metadata": {},
   "source": [
    "Referencia:\n",
    "- Strogatz, Steven. *NONLINEAR DYNAMICS AND CHAOS*, ISBN: 9780813349107, (eBook disponible en biblioteca)."
   ]
  },
  {
   "cell_type": "markdown",
   "metadata": {},
   "source": [
    "## Ejemplo 2\n",
    "\n",
    "### Primer punto. \n",
    "Resolver analíticamente con sympy la siguientes ecuación diferencial:\n",
    "$$\\frac{dx}{dt}=\\frac{x}{t+1}$$\n",
    "\n",
    "$$ x(0) = e$$"
   ]
  },
  {
   "cell_type": "code",
   "execution_count": null,
   "metadata": {},
   "outputs": [],
   "source": []
  },
  {
   "cell_type": "code",
   "execution_count": null,
   "metadata": {},
   "outputs": [],
   "source": []
  },
  {
   "cell_type": "code",
   "execution_count": null,
   "metadata": {},
   "outputs": [],
   "source": []
  },
  {
   "cell_type": "markdown",
   "metadata": {},
   "source": [
    "### Segundo punto.\n",
    "Obtener la solución numérica con una condición inicial $x(0)=1$ y graficarla"
   ]
  },
  {
   "cell_type": "code",
   "execution_count": null,
   "metadata": {},
   "outputs": [],
   "source": []
  },
  {
   "cell_type": "code",
   "execution_count": null,
   "metadata": {},
   "outputs": [],
   "source": []
  },
  {
   "cell_type": "code",
   "execution_count": null,
   "metadata": {},
   "outputs": [],
   "source": []
  },
  {
   "cell_type": "markdown",
   "metadata": {},
   "source": [
    "### Tercer punto\n",
    "Comparar la solución numérica con la solución analítica (exacta). Graficar el error."
   ]
  },
  {
   "cell_type": "code",
   "execution_count": null,
   "metadata": {},
   "outputs": [],
   "source": []
  },
  {
   "cell_type": "code",
   "execution_count": null,
   "metadata": {},
   "outputs": [],
   "source": []
  },
  {
   "cell_type": "code",
   "execution_count": null,
   "metadata": {},
   "outputs": [],
   "source": []
  }
 ],
 "metadata": {
  "kernelspec": {
   "display_name": "Python 3 (ipykernel)",
   "language": "python",
   "name": "python3"
  },
  "language_info": {
   "codemirror_mode": {
    "name": "ipython",
    "version": 3
   },
   "file_extension": ".py",
   "mimetype": "text/x-python",
   "name": "python",
   "nbconvert_exporter": "python",
   "pygments_lexer": "ipython3",
   "version": "3.9.7"
  }
 },
 "nbformat": 4,
 "nbformat_minor": 2
}
