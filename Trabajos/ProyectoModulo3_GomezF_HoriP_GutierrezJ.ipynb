{
 "cells": [
  {
   "cell_type": "markdown",
   "id": "87708546",
   "metadata": {},
   "source": [
    "Fernanda Martin del Campo Gómez **741359**\n",
    "– Paulina Elizabeth Mejia Hori **739553**\n",
    "– Jeanette Valenzuela Gutierrez **739825**"
   ]
  },
  {
   "cell_type": "markdown",
   "id": "d02fc9f6",
   "metadata": {},
   "source": [
    "# Proyecto 3: Modelo de ahorro"
   ]
  },
  {
   "cell_type": "markdown",
   "id": "338efdf0",
   "metadata": {},
   "source": [
    "### Objetivos\n",
    "#### General:\n",
    "Mediante el uso de ecuaciones diferenciales, encontrar los valores deseados de un modelo de ahorro.\n",
    "\n",
    "#### Específico:\n",
    "Utilizar teoría de ecuaciones diferenciales para llegar a una solución analítica de un modelo de ahorro, posterioirmente hacer uso de Scipy para simular y acelerar este proceso, comparando los resultados obtenidos."
   ]
  },
  {
   "cell_type": "markdown",
   "id": "18831b5c",
   "metadata": {},
   "source": [
    "## Problema:\n",
    "\n",
    "Un negocio de ropa maneja recurrentemente diferentes títulos de crédito para realizar diersos pagos y tratos de la empresa. Entre todos estos títulos, se da cuenta que tiene un pagaré vencido que nunca pagó. \n",
    "\n",
    "Para no generar más problemas con el acreedor, decide pagar el pagaré de forma inmediata, para esto, debe saber el valor total del pagaré junto con la deuda. \n",
    "\n",
    "El pagaré fue firmado el 1 de marzo de 2020, por $550,000.00 a dos años.\n",
    "Las tasas de interés acordadas son las siguientes:\n",
    "- 6.50% de interés ordinario simple\n",
    "- 9.50% de interés moratorio continuo\n",
    "\n",
    "El negocio desea pagar el pagaré el 1 de noviembre de 2022."
   ]
  },
  {
   "cell_type": "markdown",
   "id": "f042ccc2",
   "metadata": {},
   "source": [
    "## Modelo que representa el problema:"
   ]
  },
  {
   "cell_type": "markdown",
   "id": "9ad363d1",
   "metadata": {},
   "source": [
    "Primeramente, tenemos que definir el valor del pagaré al termino de la fecha pactada. \n",
    "\n",
    "El interés ordinario (interés dentro de la fecha pactada) es simple, por lo tanto se puede calcular directamente como un cambio porcentual. Dicha fórmula es la siguiente:\n",
    "\n",
    "  $ C_{f} = C_{i}(1+\\frac{r}{100}t) $\n",
    "\n",
    "Donde:\n",
    "- $C_{f}$ es el capital o valor final\n",
    "- $C_{i}$ es el capital o valor inicial\n",
    "- r es la tasa de interés\n",
    "- t es el tiempo "
   ]
  },
  {
   "cell_type": "markdown",
   "id": "6debdd52",
   "metadata": {},
   "source": [
    "Sabiendo el valor vencido del pagaré, podemos calcular su valor actual tomando en cuenta los interés moratorios (fuera de la fecha pactada).\n",
    "\n",
    "Al ser una tasa continua, podemos decir que la razón del crecimiento de nuestro capital a lo largo del tiempo es igual a nuestro capital por la tasa de interés.\n",
    "\n",
    "$$\\frac{dS}{dt} = r*S$$\n",
    "\n",
    "Donde S es capital.\n",
    "\n",
    "- Al despejar el capital de un solo lado, tenemos que: $\\frac{dS}{S} = r*dt$\n",
    "\n",
    "- Si integramos dicha ecuación para resolver las derivadas:  $\\int \\frac{dS}{S} = r* \\int dt$\n",
    "\n",
    "- Tenemos que: $\\ln{S} = r * t + C$\n",
    "\n",
    "- Al despejar para S (Capital final): $S = e^{rt}*e^C$\n",
    "\n",
    "- Que es igual a:\n",
    "\n",
    "$S = Ce^{rt}$\n",
    "\n",
    "Donde:\n",
    "- S es capital final\n",
    "- C es capital inicial \n",
    "- r es la tasa de interés\n",
    "- t es el tiempo\n",
    "\n",
    "Si sabemos que el pagaré terminó el 1 de marzo de 2022 y quiere pagar el 1 de noviembre del mismo año, el periodo de los interés moratorios es de 8 meses. \n",
    "\n",
    "También si sabemos que la tasa anual moratoria es de 9.50%, entonces mensual sería: \n",
    "\n",
    "$Tasa = \\frac{9.50\\%}{12} = 0.7916\\%$\n",
    "\n",
    "Teniendo este modelo, podemos llevar a cabo la solución analítica y la solución numérica, para posteriormente comparar los resultados. "
   ]
  },
  {
   "cell_type": "markdown",
   "id": "fc53d258",
   "metadata": {},
   "source": [
    "## Solución del problema:"
   ]
  },
  {
   "cell_type": "code",
   "execution_count": 2,
   "id": "91561b68",
   "metadata": {},
   "outputs": [],
   "source": [
    "import numpy as np\n",
    "import matplotlib.pyplot as pt\n",
    "from scipy.integrate import odeint"
   ]
  },
  {
   "cell_type": "code",
   "execution_count": 11,
   "id": "a6a095f8",
   "metadata": {},
   "outputs": [
    {
     "name": "stdout",
     "output_type": "stream",
     "text": [
      "Valor vencido: 550715.0\n",
      "Solución analítica: 586721.7971076036\n",
      "Solución numérica: 586721.7971324075\n"
     ]
    }
   ],
   "source": [
    "def simple(t, Ci, r):\n",
    "    return Ci*(1+(r*t)/100)\n",
    "\n",
    "def continuo(t, C, r):\n",
    "    return C*np.exp(r*t)\n",
    "\n",
    "def continuo_num(S, t, r):\n",
    "    return r*S\n",
    "\n",
    "valor_vencido = simple(2, 550000, 0.065)\n",
    "print(\"Valor vencido: \" + str(valor_vencido))\n",
    "\n",
    "r = (0.095/12)\n",
    "t = np.linspace(0, 8, 500)\n",
    "\n",
    "solucion_analitica = continuo(t, valor_vencido, r)\n",
    "print(\"Solución analítica: \" + str(solucion_analitica[-1]))\n",
    "\n",
    "solucion_numerica = odeint(continuo_num, valor_vencido, t, args=(r, ))\n",
    "print(\"Solución numérica: \" + str(solucion_numerica[-1][0]))"
   ]
  },
  {
   "cell_type": "markdown",
   "id": "65bee8af",
   "metadata": {},
   "source": [
    "**Como podemos observar, si el pagaré se hubiera pagado en la fecha pactada, su valor vencido hubiera sido de $\\$$550,715.00, sin embargo, al tener que pagar moratorios, su valor el 1 de noviembre de 2022 es de $\\$$586,721.00**"
   ]
  },
  {
   "cell_type": "markdown",
   "id": "45b06889",
   "metadata": {},
   "source": [
    "**También, podemos observar que la solución numérica tuvo un resultado casi identico al analítico, haciendo su error practicamente mínimo.**"
   ]
  },
  {
   "cell_type": "markdown",
   "id": "fcb8f597",
   "metadata": {},
   "source": [
    "## Visualización de la solución:"
   ]
  },
  {
   "cell_type": "code",
   "execution_count": 16,
   "id": "b05bf7f2",
   "metadata": {},
   "outputs": [
    {
     "data": {
      "image/png": "[encoded data removed]",
      "text/plain": [
       "<Figure size 432x288 with 1 Axes>"
      ]
     },
     "metadata": {
      "needs_background": "light"
     },
     "output_type": "display_data"
    }
   ],
   "source": [
    "pt.figure()\n",
    "pt.title(\"Comparación de solución analítica y númerica\")\n",
    "pt.ylabel(\"Valor del pagaré\")\n",
    "pt.xlabel(\"Tiempo\")\n",
    "pt.plot(t, solucion_numerica, lw=5, label=\"Solución númerica\")\n",
    "pt.plot(t, solucion_analitica, label=\"Solución analítica\")\n",
    "pt.legend()\n",
    "pt.grid()"
   ]
  },
  {
   "cell_type": "markdown",
   "id": "08480265",
   "metadata": {},
   "source": [
    "## Conclusiones:\n",
    "\n",
    "En conclusión, se logró implementar el uso de herramientas tecnológicas para la resolución de problemas financieros; en este caso, se utilizó la librería \"scipy\" para la resolución de ecuaciones diferenciales, lo cual, como pudimos observar lleva a un resultado muuy similar al real y hace el proceso más rápido y eficaz."
   ]
  },
  {
   "cell_type": "markdown",
   "id": "35e5e501",
   "metadata": {},
   "source": [
    "## Referencias:\n",
    "\n",
    "- Hernández, H. & Núñez, L. (2016, 18 enero). Matemáticas Avanzadas. halley.uis. https://halley.uis.edu.co/clases/lnunez/wp-content/uploads/2016/01/EcDifOrdinarias.pdf"
   ]
  }
 ],
 "metadata": {
  "kernelspec": {
   "display_name": "Python 3 (ipykernel)",
   "language": "python",
   "name": "python3"
  },
  "language_info": {
   "codemirror_mode": {
    "name": "ipython",
    "version": 3
   },
   "file_extension": ".py",
   "mimetype": "text/x-python",
   "name": "python",
   "nbconvert_exporter": "python",
   "pygments_lexer": "ipython3",
   "version": "3.9.7"
  }
 },
 "nbformat": 4,
 "nbformat_minor": 5
}
