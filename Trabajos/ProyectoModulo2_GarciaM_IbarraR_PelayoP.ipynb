{
 "cells": [
  {
   "cell_type": "markdown",
   "id": "71b5aaf7",
   "metadata": {},
   "source": [
    "1. Mario García\n",
    "– 2. Ricardo Ibarra \n",
    "– 3. Paula Pelayo"
   ]
  },
  {
   "cell_type": "markdown",
   "id": "8ec9b72c",
   "metadata": {},
   "source": [
    "# PROYECTO MÓDULO 2"
   ]
  },
  {
   "cell_type": "markdown",
   "id": "d9285da6",
   "metadata": {},
   "source": [
    "### Objetivos\n",
    "#### General:\n",
    "Mediante el uso de simulación Montecarlo, optimizar y maximizar las ganancias de una inversión.\n",
    "\n",
    "#### Específico:\n",
    "Utilizar la teoría del método Montecarlo, y eventualmente herramientas computacionales, para llevar a cabo un modelo de predicción en base a un portafolio de inversión, el cual necesita ser conformado mediante condiciones del cliente y probabilidades de ganancia."
   ]
  },
  {
   "cell_type": "markdown",
   "id": "76153f95",
   "metadata": {},
   "source": [
    "\n",
    "### Problema:\n",
    "\n",
    "Hay un inversionista que quiere añadir dos nuevas acciones a su portafolio de inversión, ya que cuenta con $15,000.00 (quince mil dólares USD) más para invertir en nuevas acciones. (Siguiendo con el caso propuesto en el proyecto 1). \n",
    "\n",
    "Al ya contar con un portafolio actual de inversión, él solo desea añadir dos nuevas acciones.\n",
    "\n",
    "Condiciones del inversionista:\n",
    "\n",
    "- El inversionista quiere invertir en dos sectores diferentes para mantener un portafolio variado:\n",
    " - Tecnología electrónica.\n",
    " - Comercio minorista.\n",
    " \n",
    " \n",
    "- Del sector \"Tecnología electrónica\" tiene dos opciones para invertir:\n",
    " - Intel Corporation (INTC)\n",
    " - Cisco Systems, Inc. (CSCO)\n",
    " \n",
    " \n",
    "- Del sector \"Comercio minorista\" tiene otras dos opciones para invertir:\n",
    " - Home Depot, Inc. (HD)\n",
    " - Costco Wholesale Corporation (COST)\n",
    " \n",
    "\n",
    "- Desea invertir en una sola acción de cada sector.\n",
    "\n",
    "\n",
    "- Desea invertir dos tercios de su nuevo capital en la acción que más probabilidad de éxito anual tenga, y el resto en la otra acción.\n",
    "\n",
    "El objetivo es encontrar la acción con la probabilidad más alta de generar ganancias del 15%, en cada sector."
   ]
  },
  {
   "cell_type": "markdown",
   "id": "bbf3495f",
   "metadata": {},
   "source": [
    "**El precio de las acciones está representado en la siguiente tabla, la cual fue recuperada de Yahoo Finance:**\n",
    "\n",
    "Empresa|Precio de acción|Sector\n",
    ":----|----|----\n",
    "Intel|$\\$$30.85|Tecnología electrónica\n",
    "Cisco|$\\$$45.96|Tecnología electrónica\n",
    "Home depot|$\\$$293.08|Comercio minorista\n",
    "Costco|$\\$$490.06|Comercio minorista"
   ]
  },
  {
   "cell_type": "markdown",
   "id": "259a53c9",
   "metadata": {},
   "source": [
    "### Modelo que representa el problema"
   ]
  },
  {
   "cell_type": "markdown",
   "id": "dca80c96",
   "metadata": {},
   "source": [
    "**1. Media y desviación estándar de los rendimientos**\n",
    "\n",
    "- Para esta simulación Montecarlo se utilizará una distribución normal para generar números aleatorios y poder simular rendimientos. Por lo tanto se extraerán valores históricos de las acciones para determinar sus rendimientos y datos estadísticos.\n",
    "\n",
    "**2. Deducción del modelo:** \n",
    "\n",
    "Para saber los rendimientos de cada acción, se usará el precio anterior con el actual para obtener un rendimiento logarítmico:\n",
    "\n",
    "$r_t=\\ln\\left(\\frac{S_t}{S_{t-1}}\\right)$\n",
    "\n",
    "Posteriormente para calcular los precios simulados teniendo los rendimientos, es la multiplicación del precio anterior por el rendimiento más 1. Al escalar esta ecuación a k número de datos, se tiene que:\n",
    "\n",
    "$p_{k}=p_{-1}(R_0+1)\\cdots(R_{k}+1)$\n",
    "\n",
    "\n",
    "**3. Situación a representar y limitaciones:**\n",
    "\n",
    "Con este modelo estaremos representando una aproximación de los valores futuros de una acción (en este caso a un año). De esta forma, podemos tener una idea de como se va a comportar el valor de esa acción y saber las ganancias o precios que podemos esperar.\n"
   ]
  },
  {
   "cell_type": "markdown",
   "id": "53202b98",
   "metadata": {},
   "source": [
    "### Solución del problema de optimización"
   ]
  },
  {
   "cell_type": "code",
   "execution_count": 1,
   "id": "3e81f8d7",
   "metadata": {},
   "outputs": [],
   "source": [
    "from pandas_datareader import data as web\n",
    "import pandas as pd\n",
    "import numpy as np\n",
    "import matplotlib.pyplot as pt\n",
    "import yfinance\n",
    "%matplotlib inline\n",
    "yfinance.pdr_override()"
   ]
  },
  {
   "cell_type": "code",
   "execution_count": 17,
   "id": "6aa0d011",
   "metadata": {},
   "outputs": [
    {
     "name": "stdout",
     "output_type": "stream",
     "text": [
      "[*********************100%***********************]  4 of 4 completed\n"
     ]
    },
    {
     "data": {
      "text/html": [
       "<div>\n",
       "<style scoped>\n",
       "    .dataframe tbody tr th:only-of-type {\n",
       "        vertical-align: middle;\n",
       "    }\n",
       "\n",
       "    .dataframe tbody tr th {\n",
       "        vertical-align: top;\n",
       "    }\n",
       "\n",
       "    .dataframe thead th {\n",
       "        text-align: right;\n",
       "    }\n",
       "</style>\n",
       "<table border=\"1\" class=\"dataframe\">\n",
       "  <thead>\n",
       "    <tr style=\"text-align: right;\">\n",
       "      <th></th>\n",
       "      <th>COST</th>\n",
       "      <th>CSCO</th>\n",
       "      <th>HD</th>\n",
       "      <th>INTC</th>\n",
       "    </tr>\n",
       "    <tr>\n",
       "      <th>Date</th>\n",
       "      <th></th>\n",
       "      <th></th>\n",
       "      <th></th>\n",
       "      <th></th>\n",
       "    </tr>\n",
       "  </thead>\n",
       "  <tbody>\n",
       "    <tr>\n",
       "      <th>2021-05-03</th>\n",
       "      <td>374.834045</td>\n",
       "      <td>48.188721</td>\n",
       "      <td>315.266663</td>\n",
       "      <td>53.357819</td>\n",
       "    </tr>\n",
       "    <tr>\n",
       "      <th>2021-05-04</th>\n",
       "      <td>370.851685</td>\n",
       "      <td>47.755531</td>\n",
       "      <td>317.653107</td>\n",
       "      <td>53.022354</td>\n",
       "    </tr>\n",
       "    <tr>\n",
       "      <th>2021-05-05</th>\n",
       "      <td>368.094696</td>\n",
       "      <td>48.151062</td>\n",
       "      <td>316.965820</td>\n",
       "      <td>52.975761</td>\n",
       "    </tr>\n",
       "    <tr>\n",
       "      <th>2021-05-06</th>\n",
       "      <td>378.233368</td>\n",
       "      <td>49.384735</td>\n",
       "      <td>322.244629</td>\n",
       "      <td>53.620827</td>\n",
       "    </tr>\n",
       "    <tr>\n",
       "      <th>2021-05-07</th>\n",
       "      <td>379.774902</td>\n",
       "      <td>50.317055</td>\n",
       "      <td>323.838806</td>\n",
       "      <td>54.070866</td>\n",
       "    </tr>\n",
       "    <tr>\n",
       "      <th>...</th>\n",
       "      <td>...</td>\n",
       "      <td>...</td>\n",
       "      <td>...</td>\n",
       "      <td>...</td>\n",
       "    </tr>\n",
       "    <tr>\n",
       "      <th>2023-04-25</th>\n",
       "      <td>503.170013</td>\n",
       "      <td>47.090000</td>\n",
       "      <td>296.329987</td>\n",
       "      <td>28.879999</td>\n",
       "    </tr>\n",
       "    <tr>\n",
       "      <th>2023-04-26</th>\n",
       "      <td>494.660004</td>\n",
       "      <td>46.540001</td>\n",
       "      <td>288.070007</td>\n",
       "      <td>29.049999</td>\n",
       "    </tr>\n",
       "    <tr>\n",
       "      <th>2023-04-27</th>\n",
       "      <td>501.269989</td>\n",
       "      <td>46.560001</td>\n",
       "      <td>293.929993</td>\n",
       "      <td>29.860001</td>\n",
       "    </tr>\n",
       "    <tr>\n",
       "      <th>2023-04-28</th>\n",
       "      <td>503.220001</td>\n",
       "      <td>47.250000</td>\n",
       "      <td>300.540009</td>\n",
       "      <td>31.059999</td>\n",
       "    </tr>\n",
       "    <tr>\n",
       "      <th>2023-05-01</th>\n",
       "      <td>493.589996</td>\n",
       "      <td>47.340000</td>\n",
       "      <td>297.700012</td>\n",
       "      <td>30.299999</td>\n",
       "    </tr>\n",
       "  </tbody>\n",
       "</table>\n",
       "<p>503 rows × 4 columns</p>\n",
       "</div>"
      ],
      "text/plain": [
       "                  COST       CSCO          HD       INTC\n",
       "Date                                                    \n",
       "2021-05-03  374.834045  48.188721  315.266663  53.357819\n",
       "2021-05-04  370.851685  47.755531  317.653107  53.022354\n",
       "2021-05-05  368.094696  48.151062  316.965820  52.975761\n",
       "2021-05-06  378.233368  49.384735  322.244629  53.620827\n",
       "2021-05-07  379.774902  50.317055  323.838806  54.070866\n",
       "...                ...        ...         ...        ...\n",
       "2023-04-25  503.170013  47.090000  296.329987  28.879999\n",
       "2023-04-26  494.660004  46.540001  288.070007  29.049999\n",
       "2023-04-27  501.269989  46.560001  293.929993  29.860001\n",
       "2023-04-28  503.220001  47.250000  300.540009  31.059999\n",
       "2023-05-01  493.589996  47.340000  297.700012  30.299999\n",
       "\n",
       "[503 rows x 4 columns]"
      ]
     },
     "execution_count": 17,
     "metadata": {},
     "output_type": "execute_result"
    }
   ],
   "source": [
    "\n",
    "def get_closes(tickers, start_date=None, end_date=None):\n",
    "    closes = web.get_data_yahoo(tickers, start=start_date, end=end_date, interval='1d')['Adj Close']\n",
    "    closes= closes.sort_index()\n",
    "    return closes\n",
    "\n",
    "def sim_r(media, std, inicio, dias, N):\n",
    "    r = np.random.normal(media, std, size=(dias, N))\n",
    "    fechas = pd.date_range(inicio, periods=dias)\n",
    "    return pd.DataFrame(index=fechas, data=r)\n",
    "\n",
    "\n",
    "acciones = [{\"Nombre\": \"Sempra energy\", \"Ticker\": \"SRE.MX\"},\n",
    "            {\"Nombre\": \"Vista oil\", \"Ticker\": \"VISTAA.MX\"},\n",
    "            {\"Nombre\": \"Genomma Lab\", \"Ticker\": \"LABB.MX\"},\n",
    "            {\"Nombre\": \"Medica sur\", \"Ticker\": \"MEDICAB.MX\"}]\n",
    "\n",
    "#for i in acciones:\n",
    " #   i[\"data\"] = get_closes(i[\"Ticker\"], \"2020-11-03\", \"2022-11-03\")\n",
    "  #  i[\"r\"] = ((i[\"data\"] - i[\"data\"].shift())/i[\"data\"].shift()).dropna()\n",
    "  #  i[\"simulacion\"] = sim_r(i[\"r\"].mean(), i[\"r\"].std(), \"2022-11-04\", 365, 100000)\n",
    "   # i[\"precios\"] = (1 + i[\"simulacion\"]).cumprod()*i[\"data\"][-1]\n",
    "   # i[\"deseado\"] = i[\"data\"][-1]*1.15\n",
    "  #  i[\"pasa\"] = i[\"precios\"] >= i[\"deseado\"]\n",
    "  #  i[\"probabilidad\"] = i[\"pasa\"].mean(axis=1)\n",
    "  #  i[\"probabilidad\"].plot(grid = True, label=i[\"Ticker\"])\n",
    "\n",
    "tickers = ['INTC', 'CSCO', 'HD', 'COST']\n",
    "acciones = get_closes(tickers, \"2021-05-02\", \"2023-05-02\")\n",
    "acciones\n",
    "\n",
    "for ticker in tickers:\n",
    "    accion = acciones.loc[ticker]\n",
    "    print(accion)\n",
    "    r = ((accion - accion.shift())/accion.shift()).dropna()\n",
    "    simulacion = sim_r(r.mean(), rstd(), \"2023-05-03\", 365, 100000)\n",
    "    precios = (1 + simulacion).cumprod()*accion[-1]\n",
    "    deseado = accion[-1]*1.15\n",
    "    pasa = precios >= deseado\n",
    "    probabilidad = pasa.mean(axis=1)\n",
    "    probabilidad.plot(grid = True, label=ticker)\n",
    "    \n",
    "pt.legend()"
   ]
  },
  {
   "cell_type": "markdown",
   "id": "5536f915",
   "metadata": {},
   "source": [
    "Por lo tanto, el número de acciones a invertir en cada empresa son los siguientes:\n",
    "\n",
    "- Tesla: 40 acciones\n",
    "- Amazon: 0 acciones\n",
    "- Walmart: 183 acciones\n",
    "- Apple: 50 acciones\n",
    "- Johnson & Johnson: 20 acciones\n",
    "- NVIDIA: 20 acciones"
   ]
  },
  {
   "cell_type": "markdown",
   "id": "f1058e1d",
   "metadata": {},
   "source": [
    "El algoritmo de optimización se condujo a una solución factible debido a que, los resultados obtenidos representan el monto a invertir en cada empresa respetando las cláusulas presentadas por el inversionista, y al mismo tiempo, maximizando su ganancia anual esperada."
   ]
  },
  {
   "cell_type": "markdown",
   "id": "4e98cb96",
   "metadata": {},
   "source": [
    "Empresa|Esperado (acciones)|Obtenido (acciones)\n",
    ":----|----|----\n",
    "Tesla|40|40\n",
    "Amazon|Máximo 80|0\n",
    "Walmart|Mínimo 30|183\n",
    "Apple|50|50\n",
    "Johnson & Johnson|Mínimo 20|20 \n",
    "NVIDIA| - |20"
   ]
  },
  {
   "cell_type": "markdown",
   "id": "f67ddd62",
   "metadata": {},
   "source": [
    "Sector|Esperado (acciones)|Obtenido (acciones)\n",
    ":----|----|----\n",
    "Tecnología Electrónica|Mínimo 70 |70\n",
    "Comercio minorista|Mínimo 50|183"
   ]
  },
  {
   "cell_type": "markdown",
   "id": "850227e1",
   "metadata": {},
   "source": [
    "**Resultados:**\n",
    "\n",
    "Empresa|Acciones|Precio|Monto|Tasa rendimiento|Ganancia anual\n",
    ":----|----|----|----|----|----\n",
    "Tesla|40|$\\$$197.58|$\\$$7,903|2.21%|$\\$$156.04\n",
    "Amazon|0|$\\$$100.61|$\\$$0|1.19%|$\\$$0\n",
    "Walmart|183|$\\$$140.42|$\\$$25,815|5.38%|$\\$$1,368.19\n",
    "Apple|50|$\\$$159.28|$\\$$7,964|4.47%|$\\$$350.41\n",
    "Johnson & Johnson|20|$\\$$153.89|$\\$$3,078|4.96%|$\\$$150.82\n",
    "NVIDIA|20|$\\$$261.99|$\\$$5,240|0.82%|$\\$$42.96\n",
    "|||||$\\$$2,086.44"
   ]
  },
  {
   "cell_type": "markdown",
   "id": "315c48b2",
   "metadata": {},
   "source": [
    "Como conclusión, se logró maximizar la ganancia del inversionista, esto con base en las restricciones que él mismo propuso en un primer momento. Tanto las empresas en las que obligatoriamente quería invertir, como el mínimo y máximo de acciones en distintos sectores. De esta forma, se obtiene un portafolio de inversión diverso, con diferentes empresas y la máxima ganancia posible.\n",
    "\n",
    "Sin embargo, consideramos que a pesar de que se maximizó la ganancia esperada con las cláusulas dadas por el cliente, no hay necesidad de invertir un número tan específico de acciones en las empresas que él deseaba, de esta forma, hay otras maneras de invertir para conseguir un portafolio diverso y tal vez con más ganancias.\n",
    "\n",
    "También hay que tener en cuenta que los múltiplos bursátiles, en este caso el usado Precio Utilidad, están basados en datos e información del pasado, por lo que no pueden ser tan acertados para predecir el futuro de las acciones y sus valores. Debido a esto, la tasa de rendimiento usada es calculada a partir de múltiplos bursátiles, por lo cual su uso dentro del ejercicio es una predicción de la ganancia, la cual puede variar demasiado durante el año de vida de la acción. Además en el mundo bursátil, las acciones siempre cambian debido al comportamiento humano, por lo tanto pueden llegar a ser impredecibles."
   ]
  },
  {
   "cell_type": "markdown",
   "id": "e2b06392",
   "metadata": {},
   "source": [
    "**Referencias:**\n",
    "\n",
    "- Yahoo Finance. (s. f.). Recuperado 21 de marzo de 2023, de https://finance.yahoo.com/"
   ]
  }
 ],
 "metadata": {
  "kernelspec": {
   "display_name": "Python 3 (ipykernel)",
   "language": "python",
   "name": "python3"
  },
  "language_info": {
   "codemirror_mode": {
    "name": "ipython",
    "version": 3
   },
   "file_extension": ".py",
   "mimetype": "text/x-python",
   "name": "python",
   "nbconvert_exporter": "python",
   "pygments_lexer": "ipython3",
   "version": "3.9.7"
  }
 },
 "nbformat": 4,
 "nbformat_minor": 5
}
