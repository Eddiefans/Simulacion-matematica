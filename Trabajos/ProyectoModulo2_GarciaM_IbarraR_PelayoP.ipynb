{
 "cells": [
  {
   "cell_type": "markdown",
   "id": "71b5aaf7",
   "metadata": {},
   "source": [
    "1. Mario García\n",
    "– 2. Ricardo Ibarra \n",
    "– 3. Paula Pelayo"
   ]
  },
  {
   "cell_type": "markdown",
   "id": "8ec9b72c",
   "metadata": {},
   "source": [
    "# PROYECTO MÓDULO 2"
   ]
  },
  {
   "cell_type": "markdown",
   "id": "d9285da6",
   "metadata": {},
   "source": [
    "### Objetivos\n",
    "#### General:\n",
    "Mediante el uso de simulación Montecarlo, optimizar y maximizar las ganancias de una inversión.\n",
    "\n",
    "#### Específico:\n",
    "Utilizar la teoría del método Montecarlo, y eventualmente herramientas computacionales, para llevar a cabo un modelo de predicción en base a un portafolio de inversión, el cual necesita ser conformado mediante condiciones del cliente y probabilidades de ganancia."
   ]
  },
  {
   "cell_type": "markdown",
   "id": "76153f95",
   "metadata": {},
   "source": [
    "\n",
    "### Problema:\n",
    "\n",
    "Hay un inversionista que quiere añadir dos nuevas acciones a su portafolio de inversión, ya que cuenta con $15,000.00 (quince mil dólares USD) más para invertir en nuevas acciones. (Siguiendo con el caso propuesto en el proyecto 1). \n",
    "\n",
    "Al ya contar con un portafolio actual de inversión, él solo desea añadir dos nuevas acciones.\n",
    "\n",
    "Condiciones del inversionista:\n",
    "\n",
    "- El inversionista quiere invertir en dos sectores diferentes para mantener un portafolio variado:\n",
    " - Tecnología electrónica.\n",
    " - Comercio minorista.\n",
    " \n",
    " \n",
    "- Del sector \"Tecnología electrónica\" tiene dos opciones para invertir:\n",
    " - Intel Corporation (INTC)\n",
    " - Cisco Systems, Inc. (CSCO)\n",
    " \n",
    " \n",
    "- Del sector \"Comercio minorista\" tiene otras dos opciones para invertir:\n",
    " - Home Depot, Inc. (HD)\n",
    " - Costco Wholesale Corporation (COST)\n",
    " \n",
    "\n",
    "- Desea invertir en una sola acción de cada sector.\n",
    "\n",
    "\n",
    "- Desea invertir dos tercios de su nuevo capital en la acción que más probabilidad de éxito anual tenga, y el resto en la otra acción.\n",
    "\n",
    "El objetivo es encontrar la acción con la probabilidad más alta de generar ganancias del 15%, en cada sector."
   ]
  },
  {
   "cell_type": "markdown",
   "id": "bbf3495f",
   "metadata": {},
   "source": [
    "**El precio de las acciones está representado en la siguiente tabla, la cual fue recuperada de Yahoo Finance:**\n",
    "\n",
    "Empresa|Precio de acción|Sector\n",
    ":----|----|----\n",
    "Intel|$\\$$30.85|Tecnología electrónica\n",
    "Cisco|$\\$$45.96|Tecnología electrónica\n",
    "Home depot|$\\$$293.08|Comercio minorista\n",
    "Costco|$\\$$490.06|Comercio minorista"
   ]
  },
  {
   "cell_type": "markdown",
   "id": "259a53c9",
   "metadata": {},
   "source": [
    "### Modelo que representa el problema"
   ]
  },
  {
   "cell_type": "markdown",
   "id": "dca80c96",
   "metadata": {},
   "source": [
    "**1. Media y desviación estándar de los rendimientos**\n",
    "\n",
    "- Para esta simulación Montecarlo se utilizará una distribución normal para generar números aleatorios y poder simular rendimientos. Por lo tanto se extraerán valores históricos de las acciones para determinar sus rendimientos y datos estadísticos.\n",
    "\n",
    "**2. Deducción del modelo:** \n",
    "\n",
    "Para saber los rendimientos de cada acción, se usará el precio anterior con el actual para obtener un rendimiento logarítmico:\n",
    "\n",
    "$r_t=\\ln\\left(\\frac{S_t}{S_{t-1}}\\right)$\n",
    "\n",
    "Posteriormente para calcular los precios simulados teniendo los rendimientos, es la multiplicación del precio anterior por el rendimiento más 1. Al escalar esta ecuación a k número de datos, se tiene que:\n",
    "\n",
    "$p_{k}=p_{-1}(R_0+1)\\cdots(R_{k}+1)$\n",
    "\n",
    "\n",
    "**3. Situación a representar y limitaciones:**\n",
    "\n",
    "Con este modelo estaremos representando una aproximación de los valores futuros de una acción (en este caso a un año). De esta forma, podemos tener una idea de como se va a comportar el valor de esa acción y saber las ganancias o precios que podemos esperar.\n"
   ]
  },
  {
   "cell_type": "markdown",
   "id": "53202b98",
   "metadata": {},
   "source": [
    "### Solución del problema de optimización"
   ]
  },
  {
   "cell_type": "code",
   "execution_count": 11,
   "id": "3e81f8d7",
   "metadata": {},
   "outputs": [],
   "source": [
    "from pandas_datareader import data as web\n",
    "import pandas as pd\n",
    "import numpy as np\n",
    "import matplotlib.pyplot as plt\n",
    "import yfinance\n",
    "%matplotlib inline\n",
    "yfinance.pdr_override()"
   ]
  },
  {
   "cell_type": "code",
   "execution_count": 13,
   "id": "6aa0d011",
   "metadata": {},
   "outputs": [
    {
     "name": "stdout",
     "output_type": "stream",
     "text": [
      "[*********************100%***********************]  4 of 4 completed\n"
     ]
    },
    {
     "data": {
      "text/plain": [
       "<matplotlib.legend.Legend at 0x2a02d71e3d0>"
      ]
     },
     "execution_count": 13,
     "metadata": {},
     "output_type": "execute_result"
    },
    {
     "data": {
      "image/png": "[encoded data removed]",
      "text/plain": [
       "<Figure size 432x288 with 1 Axes>"
      ]
     },
     "metadata": {
      "needs_background": "light"
     },
     "output_type": "display_data"
    }
   ],
   "source": [
    "\n",
    "def get_closes(tickers, start_date=None, end_date=None):\n",
    "    closes = web.get_data_yahoo(tickers, start=start_date, end=end_date, interval='1d')['Adj Close']\n",
    "    closes= closes.sort_index()\n",
    "    return closes\n",
    "\n",
    "def sim_r(media, std, inicio, dias, N):\n",
    "    r = np.random.normal(media, std, size=(dias, N))\n",
    "    fechas = pd.date_range(inicio, periods=dias)\n",
    "    return pd.DataFrame(index=fechas, data=r)\n",
    "\n",
    "tickers = ['INTC', 'CSCO', 'HD', 'COST']\n",
    "acciones = get_closes(tickers, \"2021-05-02\", \"2023-05-02\")\n",
    "\n",
    "for ticker in tickers:\n",
    "    accion = acciones.loc[:, ticker]\n",
    "    r = ((accion - accion.shift())/accion.shift()).dropna()\n",
    "    simulacion = sim_r(r.mean(), r.std(), \"2023-05-03\", 365, 100000)\n",
    "    precios = (1 + simulacion).cumprod()*accion[-1]\n",
    "    deseado = accion[-1]*1.15\n",
    "    pasa = precios >= deseado\n",
    "    probabilidad = pasa.mean(axis=1)\n",
    "    probabilidad.plot(grid = True, label=ticker)\n",
    "\n",
    "plt.legend()"
   ]
  },
  {
   "cell_type": "markdown",
   "id": "1711c96f",
   "metadata": {},
   "source": [
    "### Visualización de la solución del problema"
   ]
  },
  {
   "cell_type": "markdown",
   "id": "f2b2514c",
   "metadata": {},
   "source": [
    "Como podemos ver de la gráfica:\n",
    "\n",
    "- Del sector Tecnología electrónica (Intel y Cisco), la acción que más probabilidad de superar un 15% tiene, es Intel.\n",
    "\n",
    "- Del sector Comercio minorista (Home depot y Costco), la acción que más probabilidad de superar un 15% tiene, es Costco.\n",
    "\n",
    "Entre Costco e Intel, la acción que más probabilidad de superar un 15% tiene, es Costco.\n",
    "\n",
    "Por lo tanto, la inversión a recomendar al cliente es la siguiente:\n",
    "\n",
    "Empresa|Sector|Precio|Monto|N. acciones\n",
    ":----|----|----|----|----\n",
    "Intel|Tecnología electrónica|$\\$$30.8|$\\$$50,000.00|1623 acciones\n",
    "Cisco|Tecnología electrónica|$\\$$45.96|$\\$$0.00|0 acciones\n",
    "Home depot|Comercio minorista|$\\$$293.08|$\\$$0.00|0 acciones\n",
    "Costco|Comercio minorista|$\\$$490.06|$\\$$100,000.00|204 acciones"
   ]
  },
  {
   "cell_type": "markdown",
   "id": "7b46db6f",
   "metadata": {},
   "source": [
    "### Conclusión"
   ]
  },
  {
   "cell_type": "markdown",
   "id": "ff006623",
   "metadata": {},
   "source": [
    "Como conclusión, se logró encontrar una estrategia de inversión que intente lograr una mayor ganancia del inversionista, esto con base en las condiciones que él mismo propuso en un primer momento. Tanto los sectores en los que quiera invertir, como el monto que estaba dispuesto a utilizar. De esta forma, agrega acciones a su porafolio para generar más ganancias y diversificarlo. \n",
    "\n",
    "A pesar de llegar a un caso exitoso con las condiciones dadas, cabe aclarar y comentar al inversionista acerca de las limitaciones que la integración Montecarlo tiene al momento de hacer predicciones, ya que los datos de salida, o pronóstico, es igual de bueno que los datos de entrada, si se hace una simulación Montecarlo sencilla, probablemente los resultados no sean tan fiables. Además de no tomar en cuenta fenómenos imprevistos en el mercado bursátil que pueden cambiar el futuro de las acciones drásticamente. "
   ]
  },
  {
   "cell_type": "markdown",
   "id": "e2b06392",
   "metadata": {},
   "source": [
    "**Referencias:**\n",
    "\n",
    "- Yahoo Finance. (s. f.). Recuperado 21 de marzo de 2023, de https://finance.yahoo.com/"
   ]
  }
 ],
 "metadata": {
  "kernelspec": {
   "display_name": "Python 3 (ipykernel)",
   "language": "python",
   "name": "python3"
  },
  "language_info": {
   "codemirror_mode": {
    "name": "ipython",
    "version": 3
   },
   "file_extension": ".py",
   "mimetype": "text/x-python",
   "name": "python",
   "nbconvert_exporter": "python",
   "pygments_lexer": "ipython3",
   "version": "3.9.7"
  }
 },
 "nbformat": 4,
 "nbformat_minor": 5
}
