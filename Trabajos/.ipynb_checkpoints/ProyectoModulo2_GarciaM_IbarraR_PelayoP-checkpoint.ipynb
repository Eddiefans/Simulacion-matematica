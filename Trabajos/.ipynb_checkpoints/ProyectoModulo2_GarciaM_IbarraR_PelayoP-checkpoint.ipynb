{
 "cells": [
  {
   "cell_type": "markdown",
   "id": "71b5aaf7",
   "metadata": {},
   "source": [
    "1. Mario García\n",
    "– 2. Ricardo Ibarra \n",
    "– 3. Paula Pelayo"
   ]
  },
  {
   "cell_type": "markdown",
   "id": "8ec9b72c",
   "metadata": {},
   "source": [
    "# PROYECTO MÓDULO 2"
   ]
  },
  {
   "cell_type": "markdown",
   "id": "d9285da6",
   "metadata": {},
   "source": [
    "### Objetivos\n",
    "#### General:\n",
    "Mediante el uso de programación lineal, optimizar y maximizar las ganancias de una inversión.\n",
    "\n",
    "#### Específico:\n",
    "Utilizar teoría de programación lineal, y eventualmente herramientas computacionales, para llevar a cabo un modelo de optimización en base a un portafolio de inversión, el cual necesita ser optimizado tomando en cuenta los requisitos del cliente."
   ]
  },
  {
   "cell_type": "markdown",
   "id": "76153f95",
   "metadata": {},
   "source": [
    "\n",
    "### Problema:\n",
    "\n",
    "Hay un inversionista que quiere invertir en la Bolsa de Valores en seis diferentes empresas.\n",
    "\n",
    "Cuenta con un capital máximo de $50,000.00 (cincuenta mil dólares USD) y quiere dividir su inversión en las siguientes empresas:\n",
    "\n",
    "- Tesla, Inc.\n",
    "- Amazon.com, Inc.\n",
    "- Walmart Inc.\n",
    "- Apple Inc.\n",
    "- Johnson & Johnson \n",
    "- NVIDIA Corporation\n",
    "\n",
    "El inversionista desea tener un número de acciones definidas en las siguientes empresas:\n",
    "\n",
    "- Tesla, Inc. (40 acciones)\n",
    "- Apple Inc. (50 acciones)\n",
    "\n",
    "Además de eso, quiere tener un mínimo de acciones en las siguientes empresas:\n",
    "\n",
    "- Walmart Inc. (30 acciones)\n",
    "- Johnson & Johnson  (20 acciones)\n",
    "\n",
    "Y un máximo de acciones en la siguiente empresa:\n",
    "\n",
    "- Amazon.com, Inc. (80 acciones)\n",
    "\n",
    "Por último, desea tener un mínimo de acciones en diferentes sectores del mercado bursátil:\n",
    "\n",
    "- Tecnología electrónica (70 acciones)\n",
    "- Comercio minorista (50 acciones)\n",
    "\n",
    "El objetivo será maximizar el valor de su portafolio en base a lo que quiere invertir."
   ]
  },
  {
   "cell_type": "markdown",
   "id": "bbf3495f",
   "metadata": {},
   "source": [
    "**El precio de las acciones está representado en la siguiente tabla, la cual fue recuperado de Yahoo Finance:**\n",
    "\n",
    "Empresa|Precio de acción|Sector\n",
    ":----|----|----\n",
    "Tesla|$\\$$197.58|Servicios y bienes de consumo no básico\n",
    "Amazon|$\\$$100.61|Comercio minorista\n",
    "Walmart|$\\$$140.42|Comercio minorista\n",
    "Apple|$\\$$159.28|Tecnología electrónica\n",
    "Johnson & Johnson|$\\$$153.89|Tecnología de salud\n",
    "NVIDIA|$\\$$261.99|Tecnología electrónica"
   ]
  },
  {
   "cell_type": "markdown",
   "id": "0bc0abdd",
   "metadata": {
    "scrolled": true
   },
   "source": [
    "Dentro del mercado bursátil, se utilizan herramientas llamadas múltiplos bursátiles, los cuales se basan en las tendencias de las acciones para brindar información útil acerca de los posibles sucesos de las acciones en el futuro. Esto debido a que no hay una forma exacta de saber la ganancia esperada de una acción.\n",
    "\n",
    "Una de estas herramientas es el _precio utilidad por acción (P/U)_ el cual se obtiene de dividir el market cap (valor de la empresa) entre la utilidad anual de la empresa. Esta herramienta señala los años aproximados en que tardarías en recuperar el 100% de tu inversión.\n",
    "\n",
    "$$P/U = \\frac{Market cap}{Utilidades}$$\n",
    "\n",
    "A su vez, el recíproco de este representa, en vía utilidades, cuánto se generó en rendimiento. Por lo tanto, se puede tomar en cuenta esta tasa de rendimiento para predecir la ganancia que se espera de cada acción\n",
    "\n",
    "$$\\text{Tasa de rendimiento} = \\frac{1}{P/U}$$\n",
    "\n",
    "Por lo tanto, en la siguiente tabla se muestran las tasas de rendimiento calculadas de cada acción, el market cap fue recuperado de yahoo finance:\n",
    "\n",
    "Empresa|Market Cap|Utilidad|Precio utilidad por acción|Tasa de rendimiento\n",
    ":----|----|----|----|----\n",
    "Tesla|$\\$$623,802,000,000.00 |$\\$$13,832,000,000.00|45.098467|2.2174%\n",
    "Amazon|$\\$$1,028,000,000,000.00|$\\$$12,248,000,000.00|83.93207|1.1914%\n",
    "Walmart|$\\$$379,091,000,000.00|$\\$$20,428,000,000.00|18.55742|5.3887%\n",
    "Apple|$\\$$2,538,000,000,000.00|$\\$$113,485,000,000.00|22.36419|4.4714%\n",
    "Johnson & Johnson|$\\$$477,242,000,000.00|$\\$$23,703,000,000.00|20.13424|4.9667%\n",
    "NVIDIA|$\\$$675,282,000,000.00|$\\$$5,577,000,000.00|121.08338|0.8259%"
   ]
  },
  {
   "cell_type": "markdown",
   "id": "259a53c9",
   "metadata": {},
   "source": [
    "### Modelo que representa el problema"
   ]
  },
  {
   "cell_type": "markdown",
   "id": "dca80c96",
   "metadata": {},
   "source": [
    "**1. Criterio de optimización:**\n",
    "\n",
    "- Maximizar\n",
    "\n",
    "**2. Función:** \n",
    "\n",
    "La función a optimizar es el monto invertido en acciones de cada empresa multiplicado por la tasa de rendimiento anual. Se desea maximizar dicha función para llegar a la máxima ganancia posible.\n",
    "\n",
    "$$max. 0.022x_1 + 0.011x_2 + 0.053x_3 + 0.044x_4 + 0.049x_5 + 0.0082x_6$$\n",
    "\n",
    "\n",
    "**3. Definir Variables:**\n",
    "\n",
    "Cada x representa el monto invertido en acciones de las siguientes empresas:\n",
    "\n",
    "- $x_1$: Tesla, Inc.\n",
    "- $x_2$: Amazon.com, Inc.\n",
    "- $x_3$: Walmart Inc.\n",
    "- $x_4$: Apple Inc.\n",
    "- $x_5$: Johnson & Johnson \n",
    "- $x_6$: NVIDIA Corporation\n",
    "\n",
    "**4. Restricciones:**\n",
    "\n",
    "El monto total de todas las acciones no debe superar los \\$50,000\n",
    "- $x_{1} + x_{2} + x_{3} + x_{4} + x_{5} + x_{6}\\leq 50000$\n",
    "\n",
    "El número de acciones (monto entre precio de acción) de ciertas empresas (Tesla y Apple) deben ser un valor único, por lo tanto:\n",
    "- $\\frac{x_{1}}{197.58} = 40$\n",
    "- $\\frac{x_{4}}{159.28} = 50$\n",
    "\n",
    "El número de acciones de ciertas empresas (Walmart y Johnson & Johnson) debe ser como mínimo: \n",
    "- $\\frac{x_{3}}{140.42} \\geq 30$\n",
    "- $\\frac{x_{5}}{153.89} \\geq 20$\n",
    "\n",
    "El número de acciones de Amazon no debe de superar un número en específico:\n",
    "- $\\frac{x_{2}}{100.61} \\leq 80$\n",
    "\n",
    "El número de acciones en el sector de Tecnología Electrónica (Apple y NVIDIA) debe ser como mínimo 70\n",
    "- $(\\frac{x_{4}}{159.28}+\\frac{x_{6}}{261.99}) \\geq 70$\n",
    "\n",
    "El número de acciones en el sector de Comercio minorista (Amazon y Walmart) debe ser como mínimo 50\n",
    "- $(\\frac{x_{2}}{100.61}+\\frac{x_{3}}{140.42}) \\geq 50$\n"
   ]
  },
  {
   "cell_type": "markdown",
   "id": "6abdd631",
   "metadata": {},
   "source": [
    "\n",
    "\n",
    "5. Matrices\n",
    "\\begin{gather}\n",
    "x\n",
    " =\n",
    "  \\begin{bmatrix}\n",
    "   x_1 \\\\\n",
    "   x_2 \\\\\n",
    "   x_3 \\\\\n",
    "   x_4 \\\\\n",
    "   x_5 \\\\\n",
    "   x_6 \\\\\n",
    "   \\end{bmatrix}\n",
    "\\end{gather}\n",
    "\n",
    "\\begin{gather}\n",
    "c\n",
    " =\n",
    "  \\begin{bmatrix}\n",
    "   0.022 \\\\\n",
    "   0.011 \\\\\n",
    "   0.053 \\\\\n",
    "   0.044 \\\\\n",
    "   0.049 \\\\\n",
    "   0.0082 \\\\\n",
    "   \\end{bmatrix}\n",
    "\\end{gather}\n",
    "\n",
    "\\begin{gather}\n",
    "A_{ub}\n",
    " =\n",
    "  \\begin{bmatrix}\n",
    "   1 & 1 & 1 & 1 & 1 & 1\\\\\n",
    "   0 & 0 & \\frac{-1}{140.42} & 0 & 0 & 0\\\\\n",
    "   0 & 0 & 0 & 0 & \\frac{-1}{153.89} & 0\\\\\n",
    "   0 & \\frac{1}{100.61} & 0 & 0 & 0 & 0\\\\\n",
    "   0 & 0 & 0 & \\frac{-1}{159.28} & 0 & \\frac{-1}{261.99}\\\\\n",
    "   0 & \\frac{-1}{100.61} & \\frac{-1}{140.42} & 0 & 0 & 0\\\\\n",
    "   \\end{bmatrix}\n",
    "\\end{gather}\n",
    "\n",
    "\\begin{gather}\n",
    "b_{ub}\n",
    " =\n",
    "  \\begin{bmatrix}\n",
    "   50000\\\\\n",
    "   -30\\\\\n",
    "   -20\\\\\n",
    "   80\\\\\n",
    "   -70\\\\\n",
    "   -50\\\\\n",
    "   \\end{bmatrix}\n",
    "\\end{gather}\n",
    "\n",
    "\\begin{gather}\n",
    "A_{eq}\n",
    " =\n",
    "  \\begin{bmatrix}\n",
    "   \\frac{1}{197.58} & 0 & 0 & 0 & 0 & 0\\\\\n",
    "   0 & 0 & 0 & \\frac{1}{159.28} & 0 & 0\\\\\n",
    "   \\end{bmatrix}\n",
    "\\end{gather}\n",
    "\n",
    "\\begin{gather}\n",
    "b_{eq}\n",
    " =\n",
    "  \\begin{bmatrix}\n",
    "   40\\\\\n",
    "   50\\\\\n",
    "   \\end{bmatrix}\n",
    "\\end{gather}\n"
   ]
  },
  {
   "cell_type": "markdown",
   "id": "53202b98",
   "metadata": {},
   "source": [
    "### Solución del problema de optimización"
   ]
  },
  {
   "cell_type": "code",
   "execution_count": 3,
   "id": "3e81f8d7",
   "metadata": {},
   "outputs": [],
   "source": [
    "import numpy as np\n",
    "import scipy.optimize as opt"
   ]
  },
  {
   "cell_type": "code",
   "execution_count": 10,
   "id": "6aa0d011",
   "metadata": {},
   "outputs": [
    {
     "name": "stdout",
     "output_type": "stream",
     "text": [
      "Ganancia anual esperada: $ 2086.27\n",
      "\n",
      "$ 7903 invertido en Tesla\n",
      "$ 0 invertido en Amazon\n",
      "$ 25815 invertido en Walmart\n",
      "$ 7964 invertido en Apple\n",
      "$ 3078 invertido en Johnson & Johnson\n",
      "$ 5240 invertido en NVIDIA\n"
     ]
    }
   ],
   "source": [
    "empresas = [\"Tesla\", \"Amazon\", \"Walmart\", \"Apple\", \"Johnson & Johnson\", \"NVIDIA\"]\n",
    "c = np.array([-0.022, -0.011, -0.053, -0.044, -0.049, -0.0082])\n",
    "A_ub = np.array([[1, 1, 1, 1, 1, 1],\n",
    "                [0, 0, -1/140.42, 0, 0, 0],\n",
    "                [0, 0, 0, 0, -1/153.89, 0],\n",
    "                [0, 1/100.61, 0, 0, 0, 0],\n",
    "                [0, 0, 0, -1/159.28, 0, -1/261.99],\n",
    "                [0, -1/100.61, -1/140.42, 0, 0, 0]])\n",
    "b_ub = np.array([50000, -30, -20, 80, -70, -50])\n",
    "A_eq = np.array([[1/197.58, 0, 0, 0, 0, 0],\n",
    "                [0, 0, 0, 1/159.28, 0, 0]])\n",
    "b_eq = np.array([40, 50])\n",
    "sol = opt.linprog(c, A_ub, b_ub, A_eq, b_eq)\n",
    "print(\"Ganancia anual esperada: $\",round(sol.get(\"fun\"), 2)*-1)\n",
    "print(\"\")\n",
    "for i in range(6):\n",
    "    print(\"$\", round(sol.get(\"x\")[i]), \"invertido en\", empresas[i])\n",
    "    "
   ]
  },
  {
   "cell_type": "markdown",
   "id": "5536f915",
   "metadata": {},
   "source": [
    "Por lo tanto, el número de acciones a invertir en cada empresa son los siguientes:\n",
    "\n",
    "- Tesla: 40 acciones\n",
    "- Amazon: 0 acciones\n",
    "- Walmart: 183 acciones\n",
    "- Apple: 50 acciones\n",
    "- Johnson & Johnson: 20 acciones\n",
    "- NVIDIA: 20 acciones"
   ]
  },
  {
   "cell_type": "markdown",
   "id": "f1058e1d",
   "metadata": {},
   "source": [
    "El algoritmo de optimización se condujo a una solución factible debido a que, los resultados obtenidos representan el monto a invertir en cada empresa respetando las cláusulas presentadas por el inversionista, y al mismo tiempo, maximizando su ganancia anual esperada."
   ]
  },
  {
   "cell_type": "markdown",
   "id": "4e98cb96",
   "metadata": {},
   "source": [
    "Empresa|Esperado (acciones)|Obtenido (acciones)\n",
    ":----|----|----\n",
    "Tesla|40|40\n",
    "Amazon|Máximo 80|0\n",
    "Walmart|Mínimo 30|183\n",
    "Apple|50|50\n",
    "Johnson & Johnson|Mínimo 20|20 \n",
    "NVIDIA| - |20"
   ]
  },
  {
   "cell_type": "markdown",
   "id": "f67ddd62",
   "metadata": {},
   "source": [
    "Sector|Esperado (acciones)|Obtenido (acciones)\n",
    ":----|----|----\n",
    "Tecnología Electrónica|Mínimo 70 |70\n",
    "Comercio minorista|Mínimo 50|183"
   ]
  },
  {
   "cell_type": "markdown",
   "id": "850227e1",
   "metadata": {},
   "source": [
    "**Resultados:**\n",
    "\n",
    "Empresa|Acciones|Precio|Monto|Tasa rendimiento|Ganancia anual\n",
    ":----|----|----|----|----|----\n",
    "Tesla|40|$\\$$197.58|$\\$$7,903|2.21%|$\\$$156.04\n",
    "Amazon|0|$\\$$100.61|$\\$$0|1.19%|$\\$$0\n",
    "Walmart|183|$\\$$140.42|$\\$$25,815|5.38%|$\\$$1,368.19\n",
    "Apple|50|$\\$$159.28|$\\$$7,964|4.47%|$\\$$350.41\n",
    "Johnson & Johnson|20|$\\$$153.89|$\\$$3,078|4.96%|$\\$$150.82\n",
    "NVIDIA|20|$\\$$261.99|$\\$$5,240|0.82%|$\\$$42.96\n",
    "|||||$\\$$2,086.44"
   ]
  },
  {
   "cell_type": "markdown",
   "id": "315c48b2",
   "metadata": {},
   "source": [
    "Como conclusión, se logró maximizar la ganancia del inversionista, esto con base en las restricciones que él mismo propuso en un primer momento. Tanto las empresas en las que obligatoriamente quería invertir, como el mínimo y máximo de acciones en distintos sectores. De esta forma, se obtiene un portafolio de inversión diverso, con diferentes empresas y la máxima ganancia posible.\n",
    "\n",
    "Sin embargo, consideramos que a pesar de que se maximizó la ganancia esperada con las cláusulas dadas por el cliente, no hay necesidad de invertir un número tan específico de acciones en las empresas que él deseaba, de esta forma, hay otras maneras de invertir para conseguir un portafolio diverso y tal vez con más ganancias.\n",
    "\n",
    "También hay que tener en cuenta que los múltiplos bursátiles, en este caso el usado Precio Utilidad, están basados en datos e información del pasado, por lo que no pueden ser tan acertados para predecir el futuro de las acciones y sus valores. Debido a esto, la tasa de rendimiento usada es calculada a partir de múltiplos bursátiles, por lo cual su uso dentro del ejercicio es una predicción de la ganancia, la cual puede variar demasiado durante el año de vida de la acción. Además en el mundo bursátil, las acciones siempre cambian debido al comportamiento humano, por lo tanto pueden llegar a ser impredecibles."
   ]
  },
  {
   "cell_type": "markdown",
   "id": "e2b06392",
   "metadata": {},
   "source": [
    "**Referencias:**\n",
    "\n",
    "- Yahoo Finance. (s. f.). Recuperado 21 de marzo de 2023, de https://finance.yahoo.com/"
   ]
  }
 ],
 "metadata": {
  "kernelspec": {
   "display_name": "Python 3 (ipykernel)",
   "language": "python",
   "name": "python3"
  },
  "language_info": {
   "codemirror_mode": {
    "name": "ipython",
    "version": 3
   },
   "file_extension": ".py",
   "mimetype": "text/x-python",
   "name": "python",
   "nbconvert_exporter": "python",
   "pygments_lexer": "ipython3",
   "version": "3.9.7"
  }
 },
 "nbformat": 4,
 "nbformat_minor": 5
}
