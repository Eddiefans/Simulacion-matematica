{
 "cells": [
  {
   "cell_type": "markdown",
   "metadata": {},
   "source": [
    "\n",
    "<img style=\"float: left;;\" src='Figures/iteso.jpg' width=\"100\" height=\"200\"/></a>\n",
    "\n",
    "# <center> <font color= #000047>  Aplicando Python para análisis de precios: simulación de escenarios futuros de precios</font> </center>\n",
    "\n",
    "\n",
    "<img style=\"float: right; margin: 0px 0px 15px 15px;\" src=\"https://upload.wikimedia.org/wikipedia/commons/d/d7/Philippine-stock-market-board.jpg\" width=\"400px\" height=\"125px\" />\n",
    "\n",
    "> En la clase anterior vimos como importar datos de activos de la base de datos de Yahoo Finance usando el paquete pandas-datareader. En esta clase, veremos como pronosticar escenarios de evolución de precios, suponiendo que los rendimientos diarios se distribuyen normalmente. Como esta evolución de precios es aleatoria, utilizaremos la simulación montecarlo (hacer muchas simulaciones de escenarios de evolución de precios) para obtener probabilidades de que los precios de cierre estén encima de un valor umbral y tomar decisiones con base en estas probabilidades.\n",
    "\n",
    "**Referencias:**\n",
    "- http://pandas.pydata.org/\n",
    "- http://www.learndatasci.com/python-finance-part-yahoo-finance-api-pandas-matplotlib/"
   ]
  },
  {
   "cell_type": "code",
   "execution_count": null,
   "metadata": {},
   "outputs": [],
   "source": []
  },
  {
   "cell_type": "markdown",
   "metadata": {},
   "source": [
    "## 1. Recordemos como descargar datos..."
   ]
  },
  {
   "cell_type": "markdown",
   "metadata": {},
   "source": [
    "Antes que nada, para poder hacer simular escenarios de predicción de precios, vamos a recordar lo que hicimos en la clase pasada de descargar los datos de Yahoo Finance, utilizando el paquete `data` de la librería `pandas_datareader`.\n",
    "\n",
    "Esta vez, utilizaremos los datos de precios de cierre ajustados de activos de la compañía Apple en el año 2016 para nuestra aplicación."
   ]
  },
  {
   "cell_type": "code",
   "execution_count": 1,
   "metadata": {},
   "outputs": [],
   "source": [
    "# Importamos librerías\n",
    "from pandas_datareader import data as web\n",
    "import pandas as pd\n",
    "import numpy as np\n",
    "import yfinance"
   ]
  },
  {
   "cell_type": "code",
   "execution_count": 2,
   "metadata": {},
   "outputs": [],
   "source": [
    "yfinance.pdr_override()"
   ]
  },
  {
   "cell_type": "code",
   "execution_count": 3,
   "metadata": {},
   "outputs": [],
   "source": [
    "# Función para descargar precios de cierre ajustados de varios activos a la vez:\n",
    "def get_closes(tickers, start_date=None, end_date=None):\n",
    "    closes = web.get_data_yahoo(tickers, start=start_date, end=end_date, interval='1d')['Adj Close']\n",
    "    closes= closes.sort_index()\n",
    "    return closes"
   ]
  },
  {
   "cell_type": "code",
   "execution_count": 4,
   "metadata": {},
   "outputs": [
    {
     "name": "stdout",
     "output_type": "stream",
     "text": [
      "[*********************100%***********************]  2 of 2 completed\n"
     ]
    }
   ],
   "source": [
    "# Descargamos datos...\n",
    "# Instrumento: Apple\n",
    "name = ['AAPL', 'WMT']\n",
    "# Fechas de interés (inicio y fin): 2010-2016\n",
    "start = '2010-01-01'\n",
    "end = '2016-12-31'\n",
    "# Función DataReader\n",
    "closes = get_closes(tickers=name,\n",
    "                    start_date=start,\n",
    "                    end_date=end)"
   ]
  },
  {
   "cell_type": "code",
   "execution_count": 16,
   "metadata": {},
   "outputs": [
    {
     "data": {
      "text/html": [
       "<div>\n",
       "<style scoped>\n",
       "    .dataframe tbody tr th:only-of-type {\n",
       "        vertical-align: middle;\n",
       "    }\n",
       "\n",
       "    .dataframe tbody tr th {\n",
       "        vertical-align: top;\n",
       "    }\n",
       "\n",
       "    .dataframe thead th {\n",
       "        text-align: right;\n",
       "    }\n",
       "</style>\n",
       "<table border=\"1\" class=\"dataframe\">\n",
       "  <thead>\n",
       "    <tr style=\"text-align: right;\">\n",
       "      <th></th>\n",
       "      <th>AAPL</th>\n",
       "      <th>WMT</th>\n",
       "    </tr>\n",
       "    <tr>\n",
       "      <th>Date</th>\n",
       "      <th></th>\n",
       "      <th></th>\n",
       "    </tr>\n",
       "  </thead>\n",
       "  <tbody>\n",
       "    <tr>\n",
       "      <th>2010-01-04</th>\n",
       "      <td>6.505280</td>\n",
       "      <td>40.165070</td>\n",
       "    </tr>\n",
       "    <tr>\n",
       "      <th>2010-01-05</th>\n",
       "      <td>6.516527</td>\n",
       "      <td>39.765114</td>\n",
       "    </tr>\n",
       "    <tr>\n",
       "      <th>2010-01-06</th>\n",
       "      <td>6.412874</td>\n",
       "      <td>39.676239</td>\n",
       "    </tr>\n",
       "    <tr>\n",
       "      <th>2010-01-07</th>\n",
       "      <td>6.401018</td>\n",
       "      <td>39.698452</td>\n",
       "    </tr>\n",
       "    <tr>\n",
       "      <th>2010-01-08</th>\n",
       "      <td>6.443573</td>\n",
       "      <td>39.498486</td>\n",
       "    </tr>\n",
       "  </tbody>\n",
       "</table>\n",
       "</div>"
      ],
      "text/plain": [
       "                AAPL        WMT\n",
       "Date                           \n",
       "2010-01-04  6.505280  40.165070\n",
       "2010-01-05  6.516527  39.765114\n",
       "2010-01-06  6.412874  39.676239\n",
       "2010-01-07  6.401018  39.698452\n",
       "2010-01-08  6.443573  39.498486"
      ]
     },
     "execution_count": 16,
     "metadata": {},
     "output_type": "execute_result"
    }
   ],
   "source": [
    "closes.head()"
   ]
  },
  {
   "cell_type": "code",
   "execution_count": 17,
   "metadata": {},
   "outputs": [
    {
     "data": {
      "image/png": "[encoded data removed]",
      "text/plain": [
       "<Figure size 432x288 with 1 Axes>"
      ]
     },
     "metadata": {
      "needs_background": "light"
     },
     "output_type": "display_data"
    }
   ],
   "source": [
    "# Graficamos\n",
    "closes.plot();"
   ]
  },
  {
   "cell_type": "markdown",
   "metadata": {},
   "source": [
    "## 2. Simulación de rendimientos diarios\n",
    "\n",
    "Recordemos que los precios diarios de cierre ajustados no son un proceso estocástico estacionario, pero los rendimientos diarios si lo son. Por tanto calculamos los rendimientos a partir de los precios de cierre, obtenemos sus propiedades estadísticas muestrales y proyectamos los rendimientos. Luego, obtenemos la proyección de los precios.\n",
    "\n",
    "Para una sucesión de precios $\\{S_t\\}_{t=0}^{n}$, el rendimiento simple $R_t$ se define como el el cambio porcentual\n",
    "\n",
    "$$\n",
    "R_t=\\frac{S_t-S_{t-1}}{S_{t-1}}\\approx \\ln\\left(\\frac{S_t}{S_{t-1}}\\right)=r_t.\n",
    "$$\n",
    "para $t=1,\\ldots,n$.\n",
    "\n",
    "Para el ejemplo en curso, ¿cómo calcular esto?"
   ]
  },
  {
   "cell_type": "markdown",
   "metadata": {},
   "source": [
    "Además, supusimos que los rendimientos diarios eran una variable aleatoria con distribución normal (que se caracteriza con su media y varianza). Por tanto obtenemos la media y desviación estandar muestrales. Hagamos una función que retorne lo anterior."
   ]
  },
  {
   "cell_type": "code",
   "execution_count": 18,
   "metadata": {},
   "outputs": [],
   "source": [
    "# Calcular rendimientos diarios y graficarlos\n",
    "ret = closes.pct_change().dropna()"
   ]
  },
  {
   "cell_type": "code",
   "execution_count": 19,
   "metadata": {},
   "outputs": [
    {
     "data": {
      "text/html": [
       "<div>\n",
       "<style scoped>\n",
       "    .dataframe tbody tr th:only-of-type {\n",
       "        vertical-align: middle;\n",
       "    }\n",
       "\n",
       "    .dataframe tbody tr th {\n",
       "        vertical-align: top;\n",
       "    }\n",
       "\n",
       "    .dataframe thead th {\n",
       "        text-align: right;\n",
       "    }\n",
       "</style>\n",
       "<table border=\"1\" class=\"dataframe\">\n",
       "  <thead>\n",
       "    <tr style=\"text-align: right;\">\n",
       "      <th></th>\n",
       "      <th>AAPL</th>\n",
       "      <th>WMT</th>\n",
       "    </tr>\n",
       "    <tr>\n",
       "      <th>Date</th>\n",
       "      <th></th>\n",
       "      <th></th>\n",
       "    </tr>\n",
       "  </thead>\n",
       "  <tbody>\n",
       "    <tr>\n",
       "      <th>2010-01-05</th>\n",
       "      <td>0.001729</td>\n",
       "      <td>-0.009958</td>\n",
       "    </tr>\n",
       "    <tr>\n",
       "      <th>2010-01-06</th>\n",
       "      <td>-0.015906</td>\n",
       "      <td>-0.002235</td>\n",
       "    </tr>\n",
       "    <tr>\n",
       "      <th>2010-01-07</th>\n",
       "      <td>-0.001849</td>\n",
       "      <td>0.000560</td>\n",
       "    </tr>\n",
       "    <tr>\n",
       "      <th>2010-01-08</th>\n",
       "      <td>0.006648</td>\n",
       "      <td>-0.005037</td>\n",
       "    </tr>\n",
       "    <tr>\n",
       "      <th>2010-01-11</th>\n",
       "      <td>-0.008821</td>\n",
       "      <td>0.016501</td>\n",
       "    </tr>\n",
       "  </tbody>\n",
       "</table>\n",
       "</div>"
      ],
      "text/plain": [
       "                AAPL       WMT\n",
       "Date                          \n",
       "2010-01-05  0.001729 -0.009958\n",
       "2010-01-06 -0.015906 -0.002235\n",
       "2010-01-07 -0.001849  0.000560\n",
       "2010-01-08  0.006648 -0.005037\n",
       "2010-01-11 -0.008821  0.016501"
      ]
     },
     "execution_count": 19,
     "metadata": {},
     "output_type": "execute_result"
    }
   ],
   "source": [
    "ret.head()"
   ]
  },
  {
   "cell_type": "code",
   "execution_count": 20,
   "metadata": {},
   "outputs": [
    {
     "data": {
      "text/plain": [
       "1761"
      ]
     },
     "execution_count": 20,
     "metadata": {},
     "output_type": "execute_result"
    }
   ],
   "source": [
    "len(ret)"
   ]
  },
  {
   "cell_type": "code",
   "execution_count": 21,
   "metadata": {},
   "outputs": [
    {
     "data": {
      "image/png": "[encoded data removed]",
      "text/plain": [
       "<Figure size 432x288 with 1 Axes>"
      ]
     },
     "metadata": {
      "needs_background": "light"
     },
     "output_type": "display_data"
    }
   ],
   "source": [
    "ret.plot();"
   ]
  },
  {
   "cell_type": "markdown",
   "metadata": {},
   "source": [
    "Entonces, suponemos que la diferencia logaritmica de los precios (rendimientos diarios) tiene una distribución normal.\n",
    "\n",
    "¿Cómo se caracteriza una [distribución normal](https://es.wikipedia.org/wiki/Distribuci%C3%B3n_normal)?"
   ]
  },
  {
   "cell_type": "code",
   "execution_count": 22,
   "metadata": {},
   "outputs": [
    {
     "data": {
      "text/plain": [
       "AAPL    0.000946\n",
       "WMT     0.000292\n",
       "dtype: float64"
      ]
     },
     "execution_count": 22,
     "metadata": {},
     "output_type": "execute_result"
    }
   ],
   "source": [
    "ret.mean()"
   ]
  },
  {
   "cell_type": "code",
   "execution_count": 23,
   "metadata": {},
   "outputs": [
    {
     "data": {
      "text/plain": [
       "(0.0009460435018226646, 0.016507170455532627)"
      ]
     },
     "execution_count": 23,
     "metadata": {},
     "output_type": "execute_result"
    }
   ],
   "source": [
    "# Calculamos media y desviación estándar\n",
    "mu = ret.mean()['AAPL']\n",
    "sigma = ret.std()['AAPL']\n",
    "mu, sigma"
   ]
  },
  {
   "cell_type": "markdown",
   "metadata": {},
   "source": [
    "Habiendo caracterizado los rendimientos diarios como una variable aleatoria normal con la media y la varianza muestral obtenida de los datos del 2016, podemos generar números aleatorios con estas características para simular el comportamiento de los precios de cierre de las acciones en el 2017 (hay un supuesto de que las cosas no cambiarán fundamentalmente).\n",
    "\n",
    "Sin embargo, cada simulación que hagamos nos conducirá a distintos resultados (los precios siguen evolucionando aleatoriamente). Entonces, lo que haremos es simular varios escenarios para así ver alguna tendencia y tomar decisiones.\n",
    "\n",
    "Hagamos una una función que simule varios escenarios de rendimientos diarios rendimientos diarios y que devuelva un dataframe con esta simulación."
   ]
  },
  {
   "cell_type": "code",
   "execution_count": 24,
   "metadata": {
    "scrolled": true
   },
   "outputs": [
    {
     "name": "stdout",
     "output_type": "stream",
     "text": [
      "Help on built-in function randn:\n",
      "\n",
      "randn(...) method of numpy.random.mtrand.RandomState instance\n",
      "    randn(d0, d1, ..., dn)\n",
      "    \n",
      "    Return a sample (or samples) from the \"standard normal\" distribution.\n",
      "    \n",
      "    .. note::\n",
      "        This is a convenience function for users porting code from Matlab,\n",
      "        and wraps `standard_normal`. That function takes a\n",
      "        tuple to specify the size of the output, which is consistent with\n",
      "        other NumPy functions like `numpy.zeros` and `numpy.ones`.\n",
      "    \n",
      "    .. note::\n",
      "        New code should use the ``standard_normal`` method of a ``default_rng()``\n",
      "        instance instead; please see the :ref:`random-quick-start`.\n",
      "    \n",
      "    If positive int_like arguments are provided, `randn` generates an array\n",
      "    of shape ``(d0, d1, ..., dn)``, filled\n",
      "    with random floats sampled from a univariate \"normal\" (Gaussian)\n",
      "    distribution of mean 0 and variance 1. A single float randomly sampled\n",
      "    from the distribution is returned if no argument is provided.\n",
      "    \n",
      "    Parameters\n",
      "    ----------\n",
      "    d0, d1, ..., dn : int, optional\n",
      "        The dimensions of the returned array, must be non-negative.\n",
      "        If no argument is given a single Python float is returned.\n",
      "    \n",
      "    Returns\n",
      "    -------\n",
      "    Z : ndarray or float\n",
      "        A ``(d0, d1, ..., dn)``-shaped array of floating-point samples from\n",
      "        the standard normal distribution, or a single such float if\n",
      "        no parameters were supplied.\n",
      "    \n",
      "    See Also\n",
      "    --------\n",
      "    standard_normal : Similar, but takes a tuple as its argument.\n",
      "    normal : Also accepts mu and sigma arguments.\n",
      "    Generator.standard_normal: which should be used for new code.\n",
      "    \n",
      "    Notes\n",
      "    -----\n",
      "    For random samples from :math:`N(\\mu, \\sigma^2)`, use:\n",
      "    \n",
      "    ``sigma * np.random.randn(...) + mu``\n",
      "    \n",
      "    Examples\n",
      "    --------\n",
      "    >>> np.random.randn()\n",
      "    2.1923875335537315  # random\n",
      "    \n",
      "    Two-by-four array of samples from N(3, 6.25):\n",
      "    \n",
      "    >>> 3 + 2.5 * np.random.randn(2, 4)\n",
      "    array([[-4.49401501,  4.00950034, -1.81814867,  7.29718677],   # random\n",
      "           [ 0.39924804,  4.68456316,  4.99394529,  4.84057254]])  # random\n",
      "\n"
     ]
    }
   ],
   "source": [
    "# Ayuda en la función np.random.randn\n",
    "help(np.random.randn)"
   ]
  },
  {
   "cell_type": "code",
   "execution_count": 25,
   "metadata": {},
   "outputs": [],
   "source": [
    "# Función que simula varios escenarios de rendimientos diarios\n",
    "def ret_sim(mu, sigma, n_days, n_esc, start):\n",
    "    dates = pd.date_range(start=start, periods=n_days)\n",
    "    return pd.DataFrame(data=sigma * np.random.randn(n_days, n_esc) + mu, index=dates)"
   ]
  },
  {
   "cell_type": "code",
   "execution_count": 26,
   "metadata": {},
   "outputs": [
    {
     "data": {
      "text/html": [
       "<div>\n",
       "<style scoped>\n",
       "    .dataframe tbody tr th:only-of-type {\n",
       "        vertical-align: middle;\n",
       "    }\n",
       "\n",
       "    .dataframe tbody tr th {\n",
       "        vertical-align: top;\n",
       "    }\n",
       "\n",
       "    .dataframe thead th {\n",
       "        text-align: right;\n",
       "    }\n",
       "</style>\n",
       "<table border=\"1\" class=\"dataframe\">\n",
       "  <thead>\n",
       "    <tr style=\"text-align: right;\">\n",
       "      <th></th>\n",
       "      <th>0</th>\n",
       "      <th>1</th>\n",
       "      <th>2</th>\n",
       "      <th>3</th>\n",
       "      <th>4</th>\n",
       "      <th>5</th>\n",
       "      <th>6</th>\n",
       "      <th>7</th>\n",
       "      <th>8</th>\n",
       "      <th>9</th>\n",
       "      <th>...</th>\n",
       "      <th>999990</th>\n",
       "      <th>999991</th>\n",
       "      <th>999992</th>\n",
       "      <th>999993</th>\n",
       "      <th>999994</th>\n",
       "      <th>999995</th>\n",
       "      <th>999996</th>\n",
       "      <th>999997</th>\n",
       "      <th>999998</th>\n",
       "      <th>999999</th>\n",
       "    </tr>\n",
       "  </thead>\n",
       "  <tbody>\n",
       "    <tr>\n",
       "      <th>2017-01-01</th>\n",
       "      <td>-0.016654</td>\n",
       "      <td>0.004489</td>\n",
       "      <td>0.008773</td>\n",
       "      <td>-0.006807</td>\n",
       "      <td>0.007083</td>\n",
       "      <td>0.002240</td>\n",
       "      <td>-0.023863</td>\n",
       "      <td>0.007724</td>\n",
       "      <td>-0.002284</td>\n",
       "      <td>0.005276</td>\n",
       "      <td>...</td>\n",
       "      <td>0.021466</td>\n",
       "      <td>-0.000049</td>\n",
       "      <td>-0.006032</td>\n",
       "      <td>0.000481</td>\n",
       "      <td>0.006696</td>\n",
       "      <td>-2.323227e-02</td>\n",
       "      <td>0.026721</td>\n",
       "      <td>-0.015624</td>\n",
       "      <td>-0.020336</td>\n",
       "      <td>0.010033</td>\n",
       "    </tr>\n",
       "    <tr>\n",
       "      <th>2017-01-02</th>\n",
       "      <td>0.027221</td>\n",
       "      <td>-0.005387</td>\n",
       "      <td>0.008920</td>\n",
       "      <td>-0.008270</td>\n",
       "      <td>-0.004631</td>\n",
       "      <td>0.016761</td>\n",
       "      <td>0.003601</td>\n",
       "      <td>-0.010874</td>\n",
       "      <td>-0.008593</td>\n",
       "      <td>-0.006769</td>\n",
       "      <td>...</td>\n",
       "      <td>0.045700</td>\n",
       "      <td>0.034614</td>\n",
       "      <td>0.023863</td>\n",
       "      <td>0.017515</td>\n",
       "      <td>0.000603</td>\n",
       "      <td>-2.365600e-07</td>\n",
       "      <td>0.003670</td>\n",
       "      <td>-0.019238</td>\n",
       "      <td>0.001645</td>\n",
       "      <td>-0.005045</td>\n",
       "    </tr>\n",
       "    <tr>\n",
       "      <th>2017-01-03</th>\n",
       "      <td>-0.005067</td>\n",
       "      <td>-0.005144</td>\n",
       "      <td>0.012111</td>\n",
       "      <td>-0.015071</td>\n",
       "      <td>0.022338</td>\n",
       "      <td>0.006661</td>\n",
       "      <td>-0.008899</td>\n",
       "      <td>0.012076</td>\n",
       "      <td>-0.015005</td>\n",
       "      <td>-0.015521</td>\n",
       "      <td>...</td>\n",
       "      <td>0.021489</td>\n",
       "      <td>0.001085</td>\n",
       "      <td>0.001837</td>\n",
       "      <td>-0.008824</td>\n",
       "      <td>0.037839</td>\n",
       "      <td>-5.586141e-03</td>\n",
       "      <td>0.004581</td>\n",
       "      <td>-0.003191</td>\n",
       "      <td>0.009461</td>\n",
       "      <td>0.006758</td>\n",
       "    </tr>\n",
       "    <tr>\n",
       "      <th>2017-01-04</th>\n",
       "      <td>0.002107</td>\n",
       "      <td>-0.002696</td>\n",
       "      <td>0.009507</td>\n",
       "      <td>-0.021176</td>\n",
       "      <td>0.003263</td>\n",
       "      <td>-0.007618</td>\n",
       "      <td>-0.015660</td>\n",
       "      <td>0.012770</td>\n",
       "      <td>-0.004097</td>\n",
       "      <td>0.010457</td>\n",
       "      <td>...</td>\n",
       "      <td>-0.012119</td>\n",
       "      <td>0.003970</td>\n",
       "      <td>-0.017555</td>\n",
       "      <td>-0.003102</td>\n",
       "      <td>0.019693</td>\n",
       "      <td>-7.877603e-04</td>\n",
       "      <td>0.001224</td>\n",
       "      <td>-0.022193</td>\n",
       "      <td>0.007791</td>\n",
       "      <td>-0.018194</td>\n",
       "    </tr>\n",
       "    <tr>\n",
       "      <th>2017-01-05</th>\n",
       "      <td>0.008436</td>\n",
       "      <td>-0.011505</td>\n",
       "      <td>-0.026953</td>\n",
       "      <td>0.022095</td>\n",
       "      <td>0.003489</td>\n",
       "      <td>0.027026</td>\n",
       "      <td>0.004199</td>\n",
       "      <td>-0.031660</td>\n",
       "      <td>-0.003246</td>\n",
       "      <td>0.006625</td>\n",
       "      <td>...</td>\n",
       "      <td>0.021007</td>\n",
       "      <td>0.005845</td>\n",
       "      <td>0.006798</td>\n",
       "      <td>0.003472</td>\n",
       "      <td>-0.030996</td>\n",
       "      <td>-1.306709e-02</td>\n",
       "      <td>-0.016604</td>\n",
       "      <td>-0.008137</td>\n",
       "      <td>-0.002619</td>\n",
       "      <td>0.005588</td>\n",
       "    </tr>\n",
       "  </tbody>\n",
       "</table>\n",
       "<p>5 rows × 1000000 columns</p>\n",
       "</div>"
      ],
      "text/plain": [
       "              0         1         2         3         4         5       \\\n",
       "2017-01-01 -0.016654  0.004489  0.008773 -0.006807  0.007083  0.002240   \n",
       "2017-01-02  0.027221 -0.005387  0.008920 -0.008270 -0.004631  0.016761   \n",
       "2017-01-03 -0.005067 -0.005144  0.012111 -0.015071  0.022338  0.006661   \n",
       "2017-01-04  0.002107 -0.002696  0.009507 -0.021176  0.003263 -0.007618   \n",
       "2017-01-05  0.008436 -0.011505 -0.026953  0.022095  0.003489  0.027026   \n",
       "\n",
       "              6         7         8         9       ...    999990    999991  \\\n",
       "2017-01-01 -0.023863  0.007724 -0.002284  0.005276  ...  0.021466 -0.000049   \n",
       "2017-01-02  0.003601 -0.010874 -0.008593 -0.006769  ...  0.045700  0.034614   \n",
       "2017-01-03 -0.008899  0.012076 -0.015005 -0.015521  ...  0.021489  0.001085   \n",
       "2017-01-04 -0.015660  0.012770 -0.004097  0.010457  ... -0.012119  0.003970   \n",
       "2017-01-05  0.004199 -0.031660 -0.003246  0.006625  ...  0.021007  0.005845   \n",
       "\n",
       "              999992    999993    999994        999995    999996    999997  \\\n",
       "2017-01-01 -0.006032  0.000481  0.006696 -2.323227e-02  0.026721 -0.015624   \n",
       "2017-01-02  0.023863  0.017515  0.000603 -2.365600e-07  0.003670 -0.019238   \n",
       "2017-01-03  0.001837 -0.008824  0.037839 -5.586141e-03  0.004581 -0.003191   \n",
       "2017-01-04 -0.017555 -0.003102  0.019693 -7.877603e-04  0.001224 -0.022193   \n",
       "2017-01-05  0.006798  0.003472 -0.030996 -1.306709e-02 -0.016604 -0.008137   \n",
       "\n",
       "              999998    999999  \n",
       "2017-01-01 -0.020336  0.010033  \n",
       "2017-01-02  0.001645 -0.005045  \n",
       "2017-01-03  0.009461  0.006758  \n",
       "2017-01-04  0.007791 -0.018194  \n",
       "2017-01-05 -0.002619  0.005588  \n",
       "\n",
       "[5 rows x 1000000 columns]"
      ]
     },
     "execution_count": 26,
     "metadata": {},
     "output_type": "execute_result"
    }
   ],
   "source": [
    "# Simulamos 100 escenarios para todo el 2017\n",
    "n_esc = 1000000\n",
    "n_days = 255\n",
    "sim_ret = ret_sim(mu, sigma, n_days, n_esc, start='2017-01-01')\n",
    "sim_ret.head()"
   ]
  },
  {
   "cell_type": "code",
   "execution_count": 27,
   "metadata": {},
   "outputs": [],
   "source": [
    "# Mostrar\n",
    "#sim_ret.plot(legend=False);"
   ]
  },
  {
   "cell_type": "code",
   "execution_count": 28,
   "metadata": {},
   "outputs": [
    {
     "data": {
      "image/png": "[encoded data removed]",
      "text/plain": [
       "<Figure size 432x288 with 1 Axes>"
      ]
     },
     "metadata": {
      "needs_background": "light"
     },
     "output_type": "display_data"
    }
   ],
   "source": [
    "ret.plot();"
   ]
  },
  {
   "cell_type": "markdown",
   "metadata": {},
   "source": [
    "## 3. Proyección de precios de cierre"
   ]
  },
  {
   "cell_type": "markdown",
   "metadata": {},
   "source": [
    "Por tanto, para calcular los precios, tenemos:\n",
    "\n",
    "$$\\begin{align}\n",
    "p_i&=p_{i-1}(R_i+1)\\\\\n",
    "p_{i+1}&=p_i(R_{i+1}+1)=p_{i-1}(R_i+1)(R_{i+1}+1)\\\\\n",
    "&\\vdots\\\\\n",
    "p_{i+k}&=p_{i-1}(R_i+1)\\cdots(R_{i+k}+1).\n",
    "\\end{align}$$\n",
    "\n",
    "Si hacemos $i=0$ en la última ecuación, tenemos que $p_{k}=p_{-1}\\exp(r_0+\\cdots+r_{k})$, donde $p_{-1}$ es el último precio reportado en el 2016."
   ]
  },
  {
   "cell_type": "markdown",
   "metadata": {},
   "source": [
    "Con los rendimientos, calculamos los precios de cierre..."
   ]
  },
  {
   "cell_type": "code",
   "execution_count": 29,
   "metadata": {},
   "outputs": [
    {
     "data": {
      "text/html": [
       "<div>\n",
       "<style scoped>\n",
       "    .dataframe tbody tr th:only-of-type {\n",
       "        vertical-align: middle;\n",
       "    }\n",
       "\n",
       "    .dataframe tbody tr th {\n",
       "        vertical-align: top;\n",
       "    }\n",
       "\n",
       "    .dataframe thead th {\n",
       "        text-align: right;\n",
       "    }\n",
       "</style>\n",
       "<table border=\"1\" class=\"dataframe\">\n",
       "  <thead>\n",
       "    <tr style=\"text-align: right;\">\n",
       "      <th></th>\n",
       "      <th>AAPL</th>\n",
       "      <th>WMT</th>\n",
       "    </tr>\n",
       "    <tr>\n",
       "      <th>Date</th>\n",
       "      <th></th>\n",
       "      <th></th>\n",
       "    </tr>\n",
       "  </thead>\n",
       "  <tbody>\n",
       "    <tr>\n",
       "      <th>2016-12-23</th>\n",
       "      <td>27.219765</td>\n",
       "      <td>61.611679</td>\n",
       "    </tr>\n",
       "    <tr>\n",
       "      <th>2016-12-27</th>\n",
       "      <td>27.392630</td>\n",
       "      <td>61.753422</td>\n",
       "    </tr>\n",
       "    <tr>\n",
       "      <th>2016-12-28</th>\n",
       "      <td>27.275826</td>\n",
       "      <td>61.407890</td>\n",
       "    </tr>\n",
       "    <tr>\n",
       "      <th>2016-12-29</th>\n",
       "      <td>27.268816</td>\n",
       "      <td>61.363598</td>\n",
       "    </tr>\n",
       "    <tr>\n",
       "      <th>2016-12-30</th>\n",
       "      <td>27.056240</td>\n",
       "      <td>61.239563</td>\n",
       "    </tr>\n",
       "  </tbody>\n",
       "</table>\n",
       "</div>"
      ],
      "text/plain": [
       "                 AAPL        WMT\n",
       "Date                            \n",
       "2016-12-23  27.219765  61.611679\n",
       "2016-12-27  27.392630  61.753422\n",
       "2016-12-28  27.275826  61.407890\n",
       "2016-12-29  27.268816  61.363598\n",
       "2016-12-30  27.056240  61.239563"
      ]
     },
     "execution_count": 29,
     "metadata": {},
     "output_type": "execute_result"
    }
   ],
   "source": [
    "closes.tail()"
   ]
  },
  {
   "cell_type": "code",
   "execution_count": 30,
   "metadata": {},
   "outputs": [
    {
     "data": {
      "text/plain": [
       "AAPL    27.392630\n",
       "WMT     61.753422\n",
       "Name: 2016-12-27 00:00:00, dtype: float64"
      ]
     },
     "execution_count": 30,
     "metadata": {},
     "output_type": "execute_result"
    }
   ],
   "source": [
    "closes.loc['2016-12-27']"
   ]
  },
  {
   "cell_type": "code",
   "execution_count": 31,
   "metadata": {},
   "outputs": [
    {
     "data": {
      "text/plain": [
       "AAPL    27.056240\n",
       "WMT     61.239563\n",
       "Name: 2016-12-30 00:00:00, dtype: float64"
      ]
     },
     "execution_count": 31,
     "metadata": {},
     "output_type": "execute_result"
    }
   ],
   "source": [
    "closes.iloc[-1]"
   ]
  },
  {
   "cell_type": "code",
   "execution_count": 32,
   "metadata": {},
   "outputs": [],
   "source": [
    "# Obtenemos los precios\n",
    "ultimo_precio = closes.iloc[-1]['AAPL']\n",
    "sim_closes = ultimo_precio * (1 + sim_ret).cumprod()"
   ]
  },
  {
   "cell_type": "code",
   "execution_count": 33,
   "metadata": {},
   "outputs": [
    {
     "data": {
      "text/html": [
       "<div>\n",
       "<style scoped>\n",
       "    .dataframe tbody tr th:only-of-type {\n",
       "        vertical-align: middle;\n",
       "    }\n",
       "\n",
       "    .dataframe tbody tr th {\n",
       "        vertical-align: top;\n",
       "    }\n",
       "\n",
       "    .dataframe thead th {\n",
       "        text-align: right;\n",
       "    }\n",
       "</style>\n",
       "<table border=\"1\" class=\"dataframe\">\n",
       "  <thead>\n",
       "    <tr style=\"text-align: right;\">\n",
       "      <th></th>\n",
       "      <th>0</th>\n",
       "      <th>1</th>\n",
       "      <th>2</th>\n",
       "      <th>3</th>\n",
       "      <th>4</th>\n",
       "      <th>5</th>\n",
       "      <th>6</th>\n",
       "      <th>7</th>\n",
       "      <th>8</th>\n",
       "      <th>9</th>\n",
       "      <th>...</th>\n",
       "      <th>999990</th>\n",
       "      <th>999991</th>\n",
       "      <th>999992</th>\n",
       "      <th>999993</th>\n",
       "      <th>999994</th>\n",
       "      <th>999995</th>\n",
       "      <th>999996</th>\n",
       "      <th>999997</th>\n",
       "      <th>999998</th>\n",
       "      <th>999999</th>\n",
       "    </tr>\n",
       "  </thead>\n",
       "  <tbody>\n",
       "    <tr>\n",
       "      <th>2017-01-01</th>\n",
       "      <td>26.605654</td>\n",
       "      <td>27.177690</td>\n",
       "      <td>27.293609</td>\n",
       "      <td>26.872056</td>\n",
       "      <td>27.247876</td>\n",
       "      <td>27.116844</td>\n",
       "      <td>26.410604</td>\n",
       "      <td>27.265211</td>\n",
       "      <td>26.994443</td>\n",
       "      <td>27.198983</td>\n",
       "      <td>...</td>\n",
       "      <td>27.637019</td>\n",
       "      <td>27.054921</td>\n",
       "      <td>26.893049</td>\n",
       "      <td>27.069253</td>\n",
       "      <td>27.237401</td>\n",
       "      <td>26.427662</td>\n",
       "      <td>27.779219</td>\n",
       "      <td>26.633510</td>\n",
       "      <td>26.506027</td>\n",
       "      <td>27.327686</td>\n",
       "    </tr>\n",
       "    <tr>\n",
       "      <th>2017-01-02</th>\n",
       "      <td>27.329874</td>\n",
       "      <td>27.031280</td>\n",
       "      <td>27.537077</td>\n",
       "      <td>26.649820</td>\n",
       "      <td>27.121687</td>\n",
       "      <td>27.571359</td>\n",
       "      <td>26.505702</td>\n",
       "      <td>26.968737</td>\n",
       "      <td>26.762486</td>\n",
       "      <td>27.014873</td>\n",
       "      <td>...</td>\n",
       "      <td>28.900020</td>\n",
       "      <td>27.991410</td>\n",
       "      <td>27.534795</td>\n",
       "      <td>27.543361</td>\n",
       "      <td>27.253813</td>\n",
       "      <td>26.427656</td>\n",
       "      <td>27.881164</td>\n",
       "      <td>26.121145</td>\n",
       "      <td>26.549641</td>\n",
       "      <td>27.189817</td>\n",
       "    </tr>\n",
       "    <tr>\n",
       "      <th>2017-01-03</th>\n",
       "      <td>27.191388</td>\n",
       "      <td>26.892232</td>\n",
       "      <td>27.870564</td>\n",
       "      <td>26.248178</td>\n",
       "      <td>27.727524</td>\n",
       "      <td>27.755025</td>\n",
       "      <td>26.269817</td>\n",
       "      <td>27.294416</td>\n",
       "      <td>26.360908</td>\n",
       "      <td>26.595565</td>\n",
       "      <td>...</td>\n",
       "      <td>29.521060</td>\n",
       "      <td>28.021769</td>\n",
       "      <td>27.585378</td>\n",
       "      <td>27.300315</td>\n",
       "      <td>28.285070</td>\n",
       "      <td>26.280027</td>\n",
       "      <td>28.008901</td>\n",
       "      <td>26.037791</td>\n",
       "      <td>26.800833</td>\n",
       "      <td>27.373570</td>\n",
       "    </tr>\n",
       "    <tr>\n",
       "      <th>2017-01-04</th>\n",
       "      <td>27.248676</td>\n",
       "      <td>26.819743</td>\n",
       "      <td>28.135517</td>\n",
       "      <td>25.692356</td>\n",
       "      <td>27.817994</td>\n",
       "      <td>27.543594</td>\n",
       "      <td>25.858435</td>\n",
       "      <td>27.642962</td>\n",
       "      <td>26.252898</td>\n",
       "      <td>26.873670</td>\n",
       "      <td>...</td>\n",
       "      <td>29.163288</td>\n",
       "      <td>28.133014</td>\n",
       "      <td>27.101115</td>\n",
       "      <td>27.215626</td>\n",
       "      <td>28.842098</td>\n",
       "      <td>26.259325</td>\n",
       "      <td>28.043174</td>\n",
       "      <td>25.459946</td>\n",
       "      <td>27.009642</td>\n",
       "      <td>26.875525</td>\n",
       "    </tr>\n",
       "    <tr>\n",
       "      <th>2017-01-05</th>\n",
       "      <td>27.478533</td>\n",
       "      <td>26.511179</td>\n",
       "      <td>27.377185</td>\n",
       "      <td>26.260027</td>\n",
       "      <td>27.915043</td>\n",
       "      <td>28.287995</td>\n",
       "      <td>25.967021</td>\n",
       "      <td>26.767777</td>\n",
       "      <td>26.167684</td>\n",
       "      <td>27.051712</td>\n",
       "      <td>...</td>\n",
       "      <td>29.775908</td>\n",
       "      <td>28.297459</td>\n",
       "      <td>27.285361</td>\n",
       "      <td>27.310131</td>\n",
       "      <td>27.948114</td>\n",
       "      <td>25.916192</td>\n",
       "      <td>27.577532</td>\n",
       "      <td>25.252769</td>\n",
       "      <td>26.938890</td>\n",
       "      <td>27.025703</td>\n",
       "    </tr>\n",
       "  </tbody>\n",
       "</table>\n",
       "<p>5 rows × 1000000 columns</p>\n",
       "</div>"
      ],
      "text/plain": [
       "               0          1          2          3          4          5       \\\n",
       "2017-01-01  26.605654  27.177690  27.293609  26.872056  27.247876  27.116844   \n",
       "2017-01-02  27.329874  27.031280  27.537077  26.649820  27.121687  27.571359   \n",
       "2017-01-03  27.191388  26.892232  27.870564  26.248178  27.727524  27.755025   \n",
       "2017-01-04  27.248676  26.819743  28.135517  25.692356  27.817994  27.543594   \n",
       "2017-01-05  27.478533  26.511179  27.377185  26.260027  27.915043  28.287995   \n",
       "\n",
       "               6          7          8          9       ...     999990  \\\n",
       "2017-01-01  26.410604  27.265211  26.994443  27.198983  ...  27.637019   \n",
       "2017-01-02  26.505702  26.968737  26.762486  27.014873  ...  28.900020   \n",
       "2017-01-03  26.269817  27.294416  26.360908  26.595565  ...  29.521060   \n",
       "2017-01-04  25.858435  27.642962  26.252898  26.873670  ...  29.163288   \n",
       "2017-01-05  25.967021  26.767777  26.167684  27.051712  ...  29.775908   \n",
       "\n",
       "               999991     999992     999993     999994     999995     999996  \\\n",
       "2017-01-01  27.054921  26.893049  27.069253  27.237401  26.427662  27.779219   \n",
       "2017-01-02  27.991410  27.534795  27.543361  27.253813  26.427656  27.881164   \n",
       "2017-01-03  28.021769  27.585378  27.300315  28.285070  26.280027  28.008901   \n",
       "2017-01-04  28.133014  27.101115  27.215626  28.842098  26.259325  28.043174   \n",
       "2017-01-05  28.297459  27.285361  27.310131  27.948114  25.916192  27.577532   \n",
       "\n",
       "               999997     999998     999999  \n",
       "2017-01-01  26.633510  26.506027  27.327686  \n",
       "2017-01-02  26.121145  26.549641  27.189817  \n",
       "2017-01-03  26.037791  26.800833  27.373570  \n",
       "2017-01-04  25.459946  27.009642  26.875525  \n",
       "2017-01-05  25.252769  26.938890  27.025703  \n",
       "\n",
       "[5 rows x 1000000 columns]"
      ]
     },
     "execution_count": 33,
     "metadata": {},
     "output_type": "execute_result"
    }
   ],
   "source": [
    "sim_closes.head()"
   ]
  },
  {
   "cell_type": "markdown",
   "metadata": {},
   "source": [
    "Concatenamos y graficamos..."
   ]
  },
  {
   "cell_type": "code",
   "execution_count": 34,
   "metadata": {},
   "outputs": [],
   "source": [
    "# Concatenar y graficar\n",
    "#sim_closes_cat = pd.concat([closes.iloc[-255:], sim_closes])\n",
    "#sim_closes_cat.plot(legend=False);"
   ]
  },
  {
   "cell_type": "markdown",
   "metadata": {},
   "source": [
    "## 4. Probabilidad Precio-Umbral\n",
    "\n",
    "Ya que tenemos muchos escenarios de precios proyectados, podemos ver varias cosas. Por ejemplo, ¿cuál es la probabilidad de que el precio de cierre sobrepase algún valor umbral en algún momento?"
   ]
  },
  {
   "cell_type": "code",
   "execution_count": 35,
   "metadata": {},
   "outputs": [],
   "source": [
    "# Umbral de 10% del ultimo precio\n",
    "umbral = 1.15 * ultimo_precio\n",
    "# Fechas\n",
    "dates = sim_ret.index\n",
    "# DataFrame de Strikes\n",
    "umbrales = pd.DataFrame(index=dates, data=umbral * np.ones(len(dates)))\n",
    "# Concatenar y graficar\n",
    "#sim_closes_cat_strikes = pd.concat([sim_closes_cat.T, umbrales.T]).T\n",
    "#sim_closes_cat_strikes.plot(legend=False);"
   ]
  },
  {
   "cell_type": "code",
   "execution_count": 36,
   "metadata": {
    "scrolled": false
   },
   "outputs": [
    {
     "data": {
      "image/png": "[encoded data removed]",
      "text/plain": [
       "<Figure size 432x288 with 1 Axes>"
      ]
     },
     "metadata": {
      "needs_background": "light"
     },
     "output_type": "display_data"
    }
   ],
   "source": [
    "# Comparar cada escenario en cada fecha\n",
    "conteo = sim_closes > umbral\n",
    "# Sumamos para cada fecha y dividimos entre el número de escenarios\n",
    "prob_est = conteo.sum(axis=1) / n_esc\n",
    "# Gráfico de probabilidad\n",
    "prob_est.plot();"
   ]
  },
  {
   "cell_type": "code",
   "execution_count": 37,
   "metadata": {},
   "outputs": [
    {
     "name": "stdout",
     "output_type": "stream",
     "text": [
      "[*********************100%***********************]  1 of 1 completed\n"
     ]
    }
   ],
   "source": [
    "closes_AAPL_2017 = get_closes(tickers=['AAPL'],\n",
    "                              start_date='2017-01-01',\n",
    "                              end_date='2017-12-31')"
   ]
  },
  {
   "cell_type": "code",
   "execution_count": 38,
   "metadata": {},
   "outputs": [
    {
     "data": {
      "text/plain": [
       "31.114676094055174"
      ]
     },
     "execution_count": 38,
     "metadata": {},
     "output_type": "execute_result"
    }
   ],
   "source": [
    "umbral"
   ]
  },
  {
   "cell_type": "code",
   "execution_count": 39,
   "metadata": {},
   "outputs": [
    {
     "data": {
      "image/png": "[encoded data removed]",
      "text/plain": [
       "<Figure size 432x288 with 1 Axes>"
      ]
     },
     "metadata": {
      "needs_background": "light"
     },
     "output_type": "display_data"
    }
   ],
   "source": [
    "closes_AAPL_2017.plot();"
   ]
  },
  {
   "cell_type": "markdown",
   "metadata": {},
   "source": [
    "___\n",
    "Entonces, ya aprendimos a bajar datos con pandas-datareader. En específico, a partir de los precios de cierre ajustados obtuvimos los rendimientos diarios.\n",
    "\n",
    "Suponiendo que los rendimientos diarios son un proceso estocástico estacionario de distribución normal, pudimos caracaterizarlo y proyectar varios escenarios de evolución de los precios (montecarlo).\n",
    "\n",
    "Con estas proyecciones pudimos calcular probabilidades de sobrepasar cierto precio umbral: toma de decisiones."
   ]
  }
 ],
 "metadata": {
  "kernelspec": {
   "display_name": "Python 3 (ipykernel)",
   "language": "python",
   "name": "python3"
  },
  "language_info": {
   "codemirror_mode": {
    "name": "ipython",
    "version": 3
   },
   "file_extension": ".py",
   "mimetype": "text/x-python",
   "name": "python",
   "nbconvert_exporter": "python",
   "pygments_lexer": "ipython3",
   "version": "3.9.7"
  }
 },
 "nbformat": 4,
 "nbformat_minor": 2
}
