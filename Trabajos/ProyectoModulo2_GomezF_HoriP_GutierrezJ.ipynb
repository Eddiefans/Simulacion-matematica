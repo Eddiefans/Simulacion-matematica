{
 "cells": [
  {
   "cell_type": "markdown",
   "id": "87708546",
   "metadata": {},
   "source": [
    "Fernanda Martin del Campo Gómez **741359**\n",
    "– Paulina Elizabeth Mejia Hori **739553**\n",
    "– Jeanette Valenzuela Gutierrez **739825**"
   ]
  },
  {
   "cell_type": "markdown",
   "id": "d02fc9f6",
   "metadata": {},
   "source": [
    "# Proyecto 2: Cálculo de Betas"
   ]
  },
  {
   "cell_type": "markdown",
   "id": "338efdf0",
   "metadata": {},
   "source": [
    "### Objetivos\n",
    "#### General:\n",
    "Mediante el cálculo de betas de distintas acciones, encontrar la accion que nos genere un menor riesgo al invertir.\n",
    "\n",
    "#### Específico:\n",
    "Utilizar pandas para importar los datos de las acciones y el índice del mercado desde Yahoo Finance, para así realizar un análisis de los datos y llegar a un resultado."
   ]
  },
  {
   "cell_type": "markdown",
   "id": "18831b5c",
   "metadata": {},
   "source": [
    "## Problema:\n",
    "Una persona quiere comenzar a invertir en la Bolsa de Valores Mexicana, por esta razón, desea empezar con la acción que presente un riesgo pequeño y más parecido al mercado posible. Tiene pensado invertir en una de las siguientes acciones:\n",
    "- **Walmart**\n",
    "- **Alsea**\n",
    "- **Coca-Cola**\n",
    "- **Banorte** \n",
    "- **Cemex**\n",
    "\n",
    "Por lo tanto, hay que encontrar que acción significa un menor riesgo para él a la hora de invertir. "
   ]
  },
  {
   "cell_type": "markdown",
   "id": "f042ccc2",
   "metadata": {},
   "source": [
    "## Modelo que representa el problema:\n",
    "\n",
    "\"**La Beta $\\beta$** es una medida de sensibilidad que se utiliza para conocer la variación relativa de rentabilidad que sufre dicho activo en relación a un índice de referncia\" (Economipedia, 2015).\n",
    "\n",
    "Esto significa que toda acción tiene una beta que indica la variación y rentabilidad que tiene en base a un índice.\n",
    "\n",
    "El valor de la beta representa la variación o riesgo de la acción:\n",
    "- Si es menor a 1, varia poco con respecto al mercado.\n",
    "- Si es igual a 1, varia igual que el mercado\n",
    "- Si es mayor a 1, varia bastante con respecto al mercado.\n",
    "\n",
    "**Por lo cual, hay que encontrar la acción con una Beta más parecida a 1, ya que será la acción con un riesgo y movimiento más parecido al mercado.**\n",
    "\n",
    "El valor de Beta de una acción está dado por:\n",
    "\n",
    "$$ \\beta_{p} = \\frac{Cov(r_{p}, r_{b})}{Var(r_{b})}$$\n",
    "Donde: \n",
    "- Cov es la covarianza de los cambios porcentuales del Indice junto con los cambios porcentuales de la acción.\n",
    "- Var es la varianza de los cambios porcentuales del Indice.\n",
    "\n",
    "\n",
    "Al trabajar con la Bolsa de Valores Mexicana, **el índice a usar será el IPC** (Indice de precios al consumidor). "
   ]
  },
  {
   "cell_type": "markdown",
   "id": "fc53d258",
   "metadata": {},
   "source": [
    "## Solución del problema:"
   ]
  },
  {
   "cell_type": "code",
   "execution_count": 96,
   "id": "91561b68",
   "metadata": {},
   "outputs": [],
   "source": [
    "import numpy as np\n",
    "import pandas as pd\n",
    "from matplotlib import pyplot as plt\n",
    "from pandas_datareader import data as web"
   ]
  },
  {
   "cell_type": "code",
   "execution_count": 97,
   "id": "6567d3d6",
   "metadata": {},
   "outputs": [],
   "source": [
    "# Recuperamos los datos del IPC de todo 1 año\n",
    "ipc = web.DataReader('^MXX', start='2021-10-30', end='2022-10-30', data_source='yahoo')"
   ]
  },
  {
   "cell_type": "code",
   "execution_count": 98,
   "id": "43c246b6",
   "metadata": {},
   "outputs": [],
   "source": [
    "# Solamente utilizaremos del precio de cierre de ajuste del IPC\n",
    "ipc = ipc['Adj Close']"
   ]
  },
  {
   "cell_type": "code",
   "execution_count": 99,
   "id": "0efe4937",
   "metadata": {},
   "outputs": [],
   "source": [
    "#Función para descargar los precios de cierre ajustados de cualquier acción en cualquier fecha\n",
    "def get_closes(tickers, start_date=None, end_date=None):\n",
    "    closes = web.DataReader(tickers, start=start_date, end=end_date, data_source='yahoo')['Adj Close']\n",
    "    closes = closes.sort_index()\n",
    "    return closes"
   ]
  },
  {
   "cell_type": "code",
   "execution_count": 102,
   "id": "c23ae3b4",
   "metadata": {},
   "outputs": [],
   "source": [
    "# Acciones y fechas a recuperar\n",
    "names = ['GFNORTEO.MX','WALMEX.MX', 'ALSEA.MX', 'KOFUBL.MX','CEMEXCPO.MX']\n",
    "start = '2021-10-30'\n",
    "end = '2022-10-30'"
   ]
  },
  {
   "cell_type": "code",
   "execution_count": 108,
   "id": "d00bb823",
   "metadata": {},
   "outputs": [
    {
     "data": {
      "text/html": [
       "<div>\n",
       "<style scoped>\n",
       "    .dataframe tbody tr th:only-of-type {\n",
       "        vertical-align: middle;\n",
       "    }\n",
       "\n",
       "    .dataframe tbody tr th {\n",
       "        vertical-align: top;\n",
       "    }\n",
       "\n",
       "    .dataframe thead th {\n",
       "        text-align: right;\n",
       "    }\n",
       "</style>\n",
       "<table border=\"1\" class=\"dataframe\">\n",
       "  <thead>\n",
       "    <tr style=\"text-align: right;\">\n",
       "      <th>Symbols</th>\n",
       "      <th>GFNORTEO.MX</th>\n",
       "      <th>WALMEX.MX</th>\n",
       "      <th>ALSEA.MX</th>\n",
       "      <th>KOFUBL.MX</th>\n",
       "      <th>CEMEXCPO.MX</th>\n",
       "    </tr>\n",
       "    <tr>\n",
       "      <th>Date</th>\n",
       "      <th></th>\n",
       "      <th></th>\n",
       "      <th></th>\n",
       "      <th></th>\n",
       "      <th></th>\n",
       "    </tr>\n",
       "  </thead>\n",
       "  <tbody>\n",
       "    <tr>\n",
       "      <th>2021-11-01</th>\n",
       "      <td>118.856430</td>\n",
       "      <td>72.617142</td>\n",
       "      <td>44.270000</td>\n",
       "      <td>97.102516</td>\n",
       "      <td>13.18</td>\n",
       "    </tr>\n",
       "    <tr>\n",
       "      <th>2021-11-03</th>\n",
       "      <td>124.378090</td>\n",
       "      <td>74.330322</td>\n",
       "      <td>43.990002</td>\n",
       "      <td>96.629608</td>\n",
       "      <td>13.05</td>\n",
       "    </tr>\n",
       "    <tr>\n",
       "      <th>2021-11-04</th>\n",
       "      <td>123.404785</td>\n",
       "      <td>75.132454</td>\n",
       "      <td>43.889999</td>\n",
       "      <td>96.853165</td>\n",
       "      <td>12.71</td>\n",
       "    </tr>\n",
       "    <tr>\n",
       "      <th>2021-11-05</th>\n",
       "      <td>124.892830</td>\n",
       "      <td>75.548370</td>\n",
       "      <td>43.680000</td>\n",
       "      <td>95.606392</td>\n",
       "      <td>12.94</td>\n",
       "    </tr>\n",
       "    <tr>\n",
       "      <th>2021-11-08</th>\n",
       "      <td>123.966324</td>\n",
       "      <td>75.122551</td>\n",
       "      <td>43.959999</td>\n",
       "      <td>94.067261</td>\n",
       "      <td>14.26</td>\n",
       "    </tr>\n",
       "    <tr>\n",
       "      <th>...</th>\n",
       "      <td>...</td>\n",
       "      <td>...</td>\n",
       "      <td>...</td>\n",
       "      <td>...</td>\n",
       "      <td>...</td>\n",
       "    </tr>\n",
       "    <tr>\n",
       "      <th>2022-10-24</th>\n",
       "      <td>161.300003</td>\n",
       "      <td>74.809998</td>\n",
       "      <td>36.650002</td>\n",
       "      <td>120.769997</td>\n",
       "      <td>7.07</td>\n",
       "    </tr>\n",
       "    <tr>\n",
       "      <th>2022-10-25</th>\n",
       "      <td>164.910004</td>\n",
       "      <td>75.480003</td>\n",
       "      <td>37.270000</td>\n",
       "      <td>122.790001</td>\n",
       "      <td>7.25</td>\n",
       "    </tr>\n",
       "    <tr>\n",
       "      <th>2022-10-26</th>\n",
       "      <td>160.479996</td>\n",
       "      <td>76.739998</td>\n",
       "      <td>37.830002</td>\n",
       "      <td>124.529999</td>\n",
       "      <td>7.43</td>\n",
       "    </tr>\n",
       "    <tr>\n",
       "      <th>2022-10-27</th>\n",
       "      <td>156.309998</td>\n",
       "      <td>75.910004</td>\n",
       "      <td>38.290001</td>\n",
       "      <td>124.220001</td>\n",
       "      <td>7.05</td>\n",
       "    </tr>\n",
       "    <tr>\n",
       "      <th>2022-10-28</th>\n",
       "      <td>157.220001</td>\n",
       "      <td>75.339996</td>\n",
       "      <td>37.110001</td>\n",
       "      <td>123.489998</td>\n",
       "      <td>7.45</td>\n",
       "    </tr>\n",
       "  </tbody>\n",
       "</table>\n",
       "<p>253 rows × 5 columns</p>\n",
       "</div>"
      ],
      "text/plain": [
       "Symbols     GFNORTEO.MX  WALMEX.MX   ALSEA.MX   KOFUBL.MX  CEMEXCPO.MX\n",
       "Date                                                                  \n",
       "2021-11-01   118.856430  72.617142  44.270000   97.102516        13.18\n",
       "2021-11-03   124.378090  74.330322  43.990002   96.629608        13.05\n",
       "2021-11-04   123.404785  75.132454  43.889999   96.853165        12.71\n",
       "2021-11-05   124.892830  75.548370  43.680000   95.606392        12.94\n",
       "2021-11-08   123.966324  75.122551  43.959999   94.067261        14.26\n",
       "...                 ...        ...        ...         ...          ...\n",
       "2022-10-24   161.300003  74.809998  36.650002  120.769997         7.07\n",
       "2022-10-25   164.910004  75.480003  37.270000  122.790001         7.25\n",
       "2022-10-26   160.479996  76.739998  37.830002  124.529999         7.43\n",
       "2022-10-27   156.309998  75.910004  38.290001  124.220001         7.05\n",
       "2022-10-28   157.220001  75.339996  37.110001  123.489998         7.45\n",
       "\n",
       "[253 rows x 5 columns]"
      ]
     },
     "execution_count": 108,
     "metadata": {},
     "output_type": "execute_result"
    }
   ],
   "source": [
    "# Recuperamos los datos de las 5 acciones de todo 1 año \n",
    "acciones = get_closes(tickers=names, start_date=start, end_date = end)\n",
    "acciones"
   ]
  },
  {
   "cell_type": "code",
   "execution_count": 109,
   "id": "93fb247d",
   "metadata": {},
   "outputs": [
    {
     "data": {
      "text/plain": [
       "<AxesSubplot:xlabel='Date'>"
      ]
     },
     "execution_count": 109,
     "metadata": {},
     "output_type": "execute_result"
    },
    {
     "data": {
      "image/png": "[encoded data removed]",
      "text/plain": [
       "<Figure size 432x288 with 1 Axes>"
      ]
     },
     "metadata": {
      "needs_background": "light"
     },
     "output_type": "display_data"
    }
   ],
   "source": [
    "# Observamos la variación de precios de las 5 acciones\n",
    "acciones.plot()"
   ]
  },
  {
   "cell_type": "markdown",
   "id": "a14fd728",
   "metadata": {},
   "source": [
    "Recordando el cálculo de covarianza, esta es igual a:\n",
    "\n",
    "$$\\frac{\\sum(x_i-x_{avg})(y_i-y_{avg})}{n-1}$$\n",
    "Donde:\n",
    "- x, y son dos conjunto de datos (En este caso el Indice y la acción).\n",
    "- $x_{avg}$ y $y_{avg}$ son los promedios de esos conjuntos de datos.\n",
    "- n es el número de datos de dichos conjuntos."
   ]
  },
  {
   "cell_type": "code",
   "execution_count": 113,
   "id": "97c3a7e8",
   "metadata": {},
   "outputs": [
    {
     "name": "stdout",
     "output_type": "stream",
     "text": [
      "GFNORTEO.MX = 1.35\n",
      "WALMEX.MX = 0.9\n",
      "ALSEA.MX = 0.73\n",
      "KOFUBL.MX = 0.52\n",
      "CEMEXCPO.MX = 1.57\n"
     ]
    }
   ],
   "source": [
    "for i in acciones: # Para cada acción:\n",
    "    \n",
    "    # Calculamos la covarianza del cambio p. de la acción e indice:\n",
    "    \n",
    "    # Obtenemos el cambio porcentual de la acción (actual - anterior / anterior)\n",
    "    cp = (acciones[i] - acciones[i].shift()) / acciones[i].shift()\n",
    "    # Calculamos el cambio porcentual del índice\n",
    "    cp_ipc = (ipc - ipc.shift()) / ipc.shift()\n",
    "    # Recuperamos los valores promedio de estos conjuntos\n",
    "    promedio = cp.mean() # mean es una función que te el promedio\n",
    "    promedio_ipc = cp_ipc.mean()\n",
    "    # Restamos el promedio a cada valor del conjunto\n",
    "    resta = cp - promedio\n",
    "    resta_ipc = cp_ipc - promedio_ipc\n",
    "    # Multiplicamos las dos restas\n",
    "    multiplicacion = resta * resta_ipc\n",
    "    # Hacemos una sumatoria de estos valores (la función sum lo hace directamente)\n",
    "    sumatoria = multiplicacion.sum()\n",
    "    # Por último dividimos la sumatoria entre n - 1\n",
    "    covarianza = sumatoria / (cp.count() - 1)\n",
    "    \n",
    "    \n",
    "    # Posteriormente, calculamos la varianza del cambio p. del índice:\n",
    "    \n",
    "    # La función std nos da la desviación estándar\n",
    "    desviacion = cp_ipc.std()\n",
    "    # La varianza es igual al cuadrado de la desviación\n",
    "    varianza = desviacion ** 2\n",
    "    \n",
    "    \n",
    "    # Por último, dividimos la covarianza entre la varianza:\n",
    "    \n",
    "    beta = covarianza / varianza\n",
    "    beta = round(beta, 2) # Redondeamos beta a 2 decimales\n",
    "    \n",
    "    # Imprimimos la beta de la acción\n",
    "    print(i, \"=\", beta)\n",
    "    "
   ]
  },
  {
   "cell_type": "markdown",
   "id": "65bee8af",
   "metadata": {},
   "source": [
    "**Como podemos observar, la beta más cercana a 1 es de Walmart, por lo tanto la recomendación al nuevo inversionista es comprar acciones de esta empresa**"
   ]
  },
  {
   "cell_type": "markdown",
   "id": "fcb8f597",
   "metadata": {},
   "source": [
    "## Visualización de la solución:"
   ]
  },
  {
   "cell_type": "code",
   "execution_count": 141,
   "id": "6ef616cc",
   "metadata": {
    "scrolled": true
   },
   "outputs": [
    {
     "data": {
      "text/plain": [
       "<matplotlib.legend.Legend at 0x277b48bb310>"
      ]
     },
     "execution_count": 141,
     "metadata": {},
     "output_type": "execute_result"
    },
    {
     "data": {
      "image/png": "[encoded data removed]",
      "text/plain": [
       "<Figure size 432x288 with 1 Axes>"
      ]
     },
     "metadata": {
      "needs_background": "light"
     },
     "output_type": "display_data"
    }
   ],
   "source": [
    "x = range(100)\n",
    "plt.figure()\n",
    "plt.grid()\n",
    "plt.plot(x, 1*np.ones(len(x)), linewidth=5, c=\"black\")\n",
    "plt.plot(x, 1.35*np.ones(len(x)), label=\"Banorte\")\n",
    "plt.plot(x, 0.9*np.ones(len(x)), label=\"Walmart\")\n",
    "plt.plot(x, 0.73*np.ones(len(x)), label=\"Alsea\")\n",
    "plt.plot(x, 0.52*np.ones(len(x)), label=\"Coca Cola\")\n",
    "plt.plot(x, 1.57*np.ones(len(x)), label=\"Cemex\")\n",
    "plt.legend()"
   ]
  },
  {
   "cell_type": "markdown",
   "id": "08480265",
   "metadata": {},
   "source": [
    "## Conclusiones:\n",
    "\n",
    "En conclusión, se logró implementar el uso de herramientas tecnológicas para la resolución de problemas financieros; en este caso, se utilizó la librería “pandas” para calcular la beta de diferentes acciones y de esta manera, tomar una decisión a la hora de invertir. Cabe aclarar que la beta es solo un parámetro de los varios que pueden ser tomados en cuenta al momento que compramos acciones, sin embargo, es un muy buen ejemplo de como podemos usar la simulación matemática en las finanzas y  bolsa de valores."
   ]
  },
  {
   "cell_type": "markdown",
   "id": "35e5e501",
   "metadata": {},
   "source": [
    "## Referencias:\n",
    "\n",
    "- Alfonso Peiro Ucha, 26 de noviembre, 2015\n",
    "Beta de un activo financiero. Economipedia.com"
   ]
  },
  {
   "cell_type": "code",
   "execution_count": null,
   "id": "35506f8b",
   "metadata": {},
   "outputs": [],
   "source": []
  }
 ],
 "metadata": {
  "kernelspec": {
   "display_name": "Python 3 (ipykernel)",
   "language": "python",
   "name": "python3"
  },
  "language_info": {
   "codemirror_mode": {
    "name": "ipython",
    "version": 3
   },
   "file_extension": ".py",
   "mimetype": "text/x-python",
   "name": "python",
   "nbconvert_exporter": "python",
   "pygments_lexer": "ipython3",
   "version": "3.9.7"
  }
 },
 "nbformat": 4,
 "nbformat_minor": 5
}
