{
 "cells": [
  {
   "cell_type": "markdown",
   "id": "8ec9b72c",
   "metadata": {},
   "source": [
    "# PROYECTO 1"
   ]
  },
  {
   "cell_type": "markdown",
   "id": "98ed6494",
   "metadata": {},
   "source": [
    "**Integrantes:**\n",
    "- Diego Armando Roman Amezcua\n",
    "- Diego Vega\n",
    "- Sergio Alatorre Soto"
   ]
  },
  {
   "cell_type": "markdown",
   "id": "8cccd0b0",
   "metadata": {},
   "source": [
    "## Reducción de costos de una construcción"
   ]
  },
  {
   "cell_type": "markdown",
   "id": "a52dba8a",
   "metadata": {},
   "source": [
    "### Objetivos\n",
    "#### General:\n",
    "Mediante el uso de programación lineal, optimizar y maximizar las ganancias de una inversión.\n",
    "\n",
    "#### Específicos:\n",
    "- Definir la función o datos a optimizar. \n",
    "- Definir las restricciones del problema.\n",
    "- Utilizar teoría de programación lineal para el planteamiento del problema. \n",
    "- Usar herramientas computacionales para llevar a cabo un modelo de optimización.\n",
    "- Resolver y cumplir el motivo principal del problema."
   ]
  },
  {
   "cell_type": "markdown",
   "id": "ba544aab",
   "metadata": {},
   "source": [
    "### Problema:\n",
    "\n",
    "Una constructora llevará a cabo la construcción de un nuevo edificio. Como constructora con experiencia tiene diferentes opciones de materiales que puede usar, pero necesita saber la forma exacta de comprar sus materiales para reducir sus costos lo más posible. \n",
    "\n",
    "Sin embargo, también necesita cumpmlir con ciertos requerimientos y mínimos de calidad para cada uno de los materiales. \n",
    "\n",
    "Los materiales en los que la constructora desea reducir costos son:\n",
    "- Concreto\n",
    "- Barras de refuerzo\n",
    "\n",
    "De los cuales necesita: \n",
    "- 15,000 kg de concreto. \n",
    "- 600 barras de refuerzo de 3 m. \n",
    "\n",
    "Según CEMEX, la resistencia a la compresión simple (PSI) es la característica mecánica principal del concreto. Esta es la forma de medir la resistencia y calidad del cemento usado en la obra, el cual tiene que ser como promedio mínimo de 3000 PSI. \n",
    "\n",
    "Los precios de los cementos son los siguientes: \n",
    "\n",
    "Cemento|Precio por bolsa 50kg|PSI\n",
    ":----|----|----\n",
    "Cemex|$\\$$165.4|2500\n",
    "Moctezuma|$\\$$190.00|2900\n",
    "Apasco|$\\$$219.30|3100\n",
    "\n",
    "Las barras de refuerzo necesitan cumplir con un promedio mínimo de resistencia mecánica de 70 kg/mm^2\n",
    "\n",
    "Los precios de las barras son los siguientes:\n",
    "\n",
    "Barras de refuerzo|Precio por barra|Resistencia\n",
    ":----|----|----\n",
    "Acero al carbono|$\\$$145.60|62 kg/mm^2\n",
    "Aleación de acero|$\\$$153.50|68 kg/mm^2\n",
    "Acero inoxidable|$\\$$243.30|80 kg/mm^2"
   ]
  },
  {
   "cell_type": "markdown",
   "id": "259a53c9",
   "metadata": {},
   "source": [
    "### Modelo que representa el problema"
   ]
  },
  {
   "cell_type": "markdown",
   "id": "dca80c96",
   "metadata": {},
   "source": [
    "**1. Criterio de optimización:**\n",
    "\n",
    "- Minimizar\n",
    "\n",
    "**2. Función:** \n",
    "\n",
    "La función a optimizar es la cantidad comprada de cada material y opción multiplicado por el precio de cada uno. Se desea minimizar dicha función para llegar al costo más bajo.\n",
    "\n",
    "$$min. 165.4x_1 + 190x_2 + 219.3x_3 + 145.6x_4 + 153.5x_5 + 243.3x_6$$\n",
    "\n",
    "\n",
    "**3. Definir Variables:**\n",
    "\n",
    "Cada x representa la cantidad de cada opción de material:\n",
    "\n",
    "- $x_1$: Cemento Cemex.\n",
    "- $x_2$: Cemento Moctezuma.\n",
    "- $x_3$: Cemento Apasco.\n",
    "- $x_4$: Barra de refuerzo de acero al carbono.\n",
    "- $x_5$: Barra de refuerzo de aleación de acero.\n",
    "- $x_6$: Barra de refuerzo de acero inoxidable.\n",
    "\n",
    "**4. Restricciones:**\n",
    "\n",
    "La cantidad de cemento tiene que ser igual a 15,000 kg, por lo tanto el número de bolsas de cemento tiene que ser igual a 300. \n",
    "- $x_{1} + x_{2} + x_{3} = 300$\n",
    "\n",
    "La cantidad de barras de refuerzo tiene que ser igual a 600. \n",
    "- $x_{4} + x_{5} + x_{6} = 600$\n",
    "\n",
    "El promedio de PSI de todo el cemento de la obra tiene que ser mínimo de 3000.\n",
    "- $2500x_{1} + 2900x_{2} + 3100x_{3} \\geq 3000*300$\n",
    "\n",
    "El promedio de resistencia mecánica de todas las barras de refuerzo usadas en la obra tiene que ser mínimo 70 kg/mm^2.\n",
    "- $62x_{4} + 68x_{5} + 80x_{6} \\geq 70*600$"
   ]
  },
  {
   "cell_type": "markdown",
   "id": "6abdd631",
   "metadata": {},
   "source": [
    "\n",
    "$$min. 165.4x_1 + 190x_2 + 219.3x_3 + 145.6x_4 + 153.5x_5 + 243.3x_6$$\n",
    "5. Matrices\n",
    "\\begin{gather}\n",
    "x\n",
    " =\n",
    "  \\begin{bmatrix}\n",
    "   x_1 \\\\\n",
    "   x_2 \\\\\n",
    "   x_3 \\\\\n",
    "   x_4 \\\\\n",
    "   x_5 \\\\\n",
    "   x_6 \\\\\n",
    "   \\end{bmatrix}\n",
    "\\end{gather}\n",
    "\n",
    "\\begin{gather}\n",
    "c\n",
    " =\n",
    "  \\begin{bmatrix}\n",
    "   165.4 \\\\\n",
    "   190 \\\\\n",
    "   219.3 \\\\\n",
    "   145.6 \\\\\n",
    "   153.5 \\\\\n",
    "   243.3 \\\\\n",
    "   \\end{bmatrix}\n",
    "\\end{gather}\n",
    "\n",
    "\\begin{gather}\n",
    "A_{ub}\n",
    " =\n",
    "  \\begin{bmatrix}\n",
    "   -2500 & -2900 & -3100 & 0 & 0 & 0 \\\\\n",
    "   0 & 0 & 0 & -62 & -68 & -80 \\\\\n",
    "   \\end{bmatrix}\n",
    "\\end{gather}\n",
    "\n",
    "\\begin{gather}\n",
    "b_{ub}\n",
    " =\n",
    "  \\begin{bmatrix}\n",
    "   -(3000*300)\\\\\n",
    "   -(70*600)\\\\\n",
    "   \\end{bmatrix}\n",
    "\\end{gather}\n",
    "\n",
    "\\begin{gather}\n",
    "A_{eq}\n",
    " =\n",
    "  \\begin{bmatrix}\n",
    "   1 & 1 & 1 & 0 & 0 & 0 \\\\\n",
    "   0 & 0 & 0 & 1 & 1 & 1 \\\\\n",
    "   \\end{bmatrix}\n",
    "\\end{gather}\n",
    "\n",
    "\\begin{gather}\n",
    "b_{eq}\n",
    " =\n",
    "  \\begin{bmatrix}\n",
    "   300\\\\\n",
    "   600\\\\\n",
    "   \\end{bmatrix}\n",
    "\\end{gather}\n"
   ]
  },
  {
   "cell_type": "markdown",
   "id": "53202b98",
   "metadata": {},
   "source": [
    "### Solución del problema de optimización"
   ]
  },
  {
   "cell_type": "code",
   "execution_count": 5,
   "id": "3e81f8d7",
   "metadata": {},
   "outputs": [],
   "source": [
    "from scipy.optimize import linprog"
   ]
  },
  {
   "cell_type": "code",
   "execution_count": 22,
   "id": "6aa0d011",
   "metadata": {},
   "outputs": [
    {
     "name": "stdout",
     "output_type": "stream",
     "text": [
      "Bolsas de cemento Cemex: 0.0\n",
      "Bolsas de cemento Moctezuma: 150.0\n",
      "Bolsas de cemento Apasco: 150.0\n",
      "Barras de refuerzo de acero al carbono: 0.0\n",
      "Barras de refuerzo de aleación de acero: 500.0\n",
      "Barras de refuerzo de acero inoxidable: 100.0\n"
     ]
    }
   ],
   "source": [
    "\n",
    "c = [165.4, 190, 219.3, 145.6, 153.5, 243.3]\n",
    "\n",
    "A_ub = [[-2500, -2900, -3100, 0, 0, 0],\n",
    "        [0, 0, 0, -62, -68, -80]]\n",
    "\n",
    "b_ub = [-(3000*300), -(70*600)]\n",
    "\n",
    "A_eq = [[1, 1, 1, 0, 0, 0],\n",
    "        [0, 0, 0, 1, 1, 1]]\n",
    "\n",
    "b_eq = [300, 600]\n",
    "\n",
    "x_bounds = (0, None)\n",
    "\n",
    "result = linprog(c, A_ub, b_ub, A_eq, b_eq, bounds=x_bounds)\n",
    "\n",
    "print(\"Bolsas de cemento Cemex:\", round(result.x[0], 0))\n",
    "print(\"Bolsas de cemento Moctezuma:\", round(result.x[1], 0))\n",
    "print(\"Bolsas de cemento Apasco:\", round(result.x[2], 0))\n",
    "print(\"Barras de refuerzo de acero al carbono:\", round(result.x[3], 0))\n",
    "print(\"Barras de refuerzo de aleación de acero:\", round(result.x[4], 0))\n",
    "print(\"Barras de refuerzo de acero inoxidable:\", round(result.x[5], 0))\n"
   ]
  },
  {
   "cell_type": "markdown",
   "id": "f1058e1d",
   "metadata": {},
   "source": [
    "El algoritmo de optimización se condujo a una solución factible debido a que, los resultados obtenidos representan la cantidad a comprar de cada material y opción respetando las cláusulas presentadas, y al mismo tiempo, minimizando el costo."
   ]
  },
  {
   "cell_type": "markdown",
   "id": "4e98cb96",
   "metadata": {},
   "source": [
    "Material|Obtenido\n",
    ":----|----\n",
    "Cemex|0\n",
    "Moctezuma|150\n",
    "Apasco|150\n",
    "Acero al carbono|0\n",
    "Aleación de acero|500\n",
    "Acero inoxidable|100"
   ]
  },
  {
   "cell_type": "markdown",
   "id": "f67ddd62",
   "metadata": {},
   "source": [
    "Calidad|Esperado |Obtenido \n",
    ":----|----|----\n",
    "PSI del cemento|Mínimo 3000 |3000\n",
    "Resistencia mecánica de las barras|Mínimo 70|70"
   ]
  },
  {
   "cell_type": "markdown",
   "id": "850227e1",
   "metadata": {},
   "source": [
    "**Resultados:**\n",
    "\n",
    "Material|Precio|Cantidad|Total\n",
    ":----|----|----|----\n",
    "Cemex|$\\$$165.4|0|$\\$$0\n",
    "Moctezuma|$\\$$190.00|150|$\\$$28,500.00\n",
    "Apasco|$\\$$219.30|150|$\\$$32,895.00\n",
    "Acero al carbono|$\\$$145.60|0|$\\$$0\n",
    "Aleación de acero|$\\$$153.50|500|$\\$$76,750.00\n",
    "Acero inoxidable|$\\$$243.30|100|$\\$$24,330.00\n",
    "Costo total|||$\\$$162,475.00"
   ]
  },
  {
   "cell_type": "markdown",
   "id": "315c48b2",
   "metadata": {},
   "source": [
    "Como conclusión, se logró minimizar el costo de la constructora, esto con base en las restricciones que ellos mismos propusieron en un primer momento. Tanto la cantidad exacta de material, como el mínimo de calidad aceptable en la obra. De esta forma, se obtiene el uso de materiales de calidad con un costo menor.\n",
    "\n",
    "También cabe mencionar que al usar diferentes barras de refuerzo, su promedio de resistencia puede ser mayor al esperado, sin embargo, se utilizan algunas barras que por si solas no cumplen con ese requerimiento, es un buen comentario hacia la constructora dejar ver que mezclar diferentes calidades de barras puede resultar en un bajo rendimiento y calidad. \n"
   ]
  },
  {
   "cell_type": "markdown",
   "id": "e2b06392",
   "metadata": {},
   "source": [
    "**Referencias:**\n",
    "\n",
    "- Características mecánicas del acero. (s. f.). https://ingemecanica.com/tutorialsemanal/tutorialn100.html \n",
    "\n",
    "- Juan. (2022). Control de Calidad para el Acero: Diferentes tipos de inspecciones. HQTS. https://www.hqts.com/es/control-de-calidad-acero-inspecciones/ \n",
    "\n",
    "- ¿Por qué se determina la resistencia a la compresión en el concreto? | CEMEX Peru. (s. f.). https://www.cemex.com.pe/-/-por-que-se-determina-la-resistencia-a-la-compresion-en-el-concreto-#:~:text=La%20resistencia%20a%20la%20compresi%C3%B3n%20simple%20es%20la%20caracter%C3%ADstica%20mec%C3%A1nica,por%20pulgada%20cuadrada%20(psi)."
   ]
  }
 ],
 "metadata": {
  "kernelspec": {
   "display_name": "Python 3 (ipykernel)",
   "language": "python",
   "name": "python3"
  },
  "language_info": {
   "codemirror_mode": {
    "name": "ipython",
    "version": 3
   },
   "file_extension": ".py",
   "mimetype": "text/x-python",
   "name": "python",
   "nbconvert_exporter": "python",
   "pygments_lexer": "ipython3",
   "version": "3.9.7"
  }
 },
 "nbformat": 4,
 "nbformat_minor": 5
}
