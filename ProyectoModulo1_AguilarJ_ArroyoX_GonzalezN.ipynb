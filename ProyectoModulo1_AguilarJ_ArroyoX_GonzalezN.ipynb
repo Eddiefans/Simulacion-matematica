{
 "cells": [
  {
   "cell_type": "markdown",
   "id": "8ec9b72c",
   "metadata": {},
   "source": [
    "# PROYECTO MÓDULO 1"
   ]
  },
  {
   "cell_type": "markdown",
   "id": "98ed6494",
   "metadata": {},
   "source": [
    "**Integrantes:**\n",
    "- José Eddie Aguilar Ceballos\n",
    "- Nancy Esmeralda González Monterrubio\n",
    "- Ximena Arroyo Ruvalcaba"
   ]
  },
  {
   "cell_type": "markdown",
   "id": "8cccd0b0",
   "metadata": {},
   "source": [
    "## Brokers Latinos"
   ]
  },
  {
   "cell_type": "markdown",
   "id": "76153f95",
   "metadata": {},
   "source": [
    "\n",
    "**Objetivo General:**\n",
    "\n",
    "El objetivo de este proyecto es mostrar un programa que puede ayudar a algún inversionista a maximizar la ganancia anual esperada, y de esta manera de sus ganancias, dependiendo de las empresas en las que éste quiere invertir.\n",
    "\n",
    "Para esto se utilizará programación lineal, a fin de optimizar.\n",
    "\n",
    "**Objetivo Específico:**\n",
    "\n",
    "Hay un inversionista en México que quiere invertir en la Bolsa Mexicana de Valores en siete diferentes empresas.\n",
    "\n",
    "Cuenta con un capital máximo de $500,000.00 (quinientos mil pesos 00/100 M.N.) y quiere dividir su inversión en las siguientes empresas:\n",
    "\n",
    "- Alsea, S.A.B. de C.V. \n",
    "- Megacable Holdings, S.A.B de C.V.\n",
    "- América Móvil, S.A.B de C.V. \n",
    "- Grupo Bimbo, S.A.B de C.V. \n",
    "- Arca Continental, S.A.B de C.V. \n",
    "- Grupo Financiero Banorte, S.A.B de C.V. \n",
    "- Grupo Carso, S.A.B de C.V. \n",
    "\n",
    "El inversionista desea tener un número de acciones definidas en las siguientes empresas:\n",
    "\n",
    "- Arca Continental, S.A.B de C.V. (300 acciones)\n",
    "- Grupo Financiero Banorte, S.A.B de C.V. (350 acciones)\n",
    "- Grupo Carso, S.A.B de C.V. (450 acciones)\n",
    "\n",
    "Además de eso, quiere tener un mínimo de acciones en las siguientes empresas:\n",
    "\n",
    "- Megacable Holdings, S.A.B de C.V. (900 acciones)\n",
    "- Alsea, S.A.B. de C.V. (700 acciones)\n",
    "\n",
    "Y un máximo de acciones en la siguiente empresa:\n",
    "\n",
    "- América Móvil, S.A.B de C.V. (1400 acciones)\n",
    "\n",
    "Por último, desea tener un mínimo de acciones en diferentes sectores del mercado bursátil:\n",
    "\n",
    "- Servicio de telecomunicaciones (2500 acciones)\n",
    "- Productos de consumo frecuente (1000 acciones)\n",
    "\n",
    "El objetivo será maximizar el valor de su portafolio en base a lo que quiere invertir."
   ]
  },
  {
   "cell_type": "markdown",
   "id": "bbf3495f",
   "metadata": {},
   "source": [
    "**El precio de las acciones está representado en la siguiente tabla, la cual fue recuperado de Grupo BMV:**\n",
    "\n",
    "Empresa|Precio de acción|Sector\n",
    ":----|----|----\n",
    "Alsea|$\\$$38.46|Servicios y bienes de consumo no básico\n",
    "Megacable|$\\$$45.14|Servicio de Telecomunicaciones\n",
    "América móvil|$\\$$17.03|Servicio de Telecomunicaciones\n",
    "Grupo Bimbo|$\\$$73.45|Productos de consumo frecuente\n",
    "Arca continental|$\\$$139.96|Productos de consumo frecuente\n",
    "Grupo Financiero Banorte|$\\$$133.94|Servicios Financieros\n",
    "Grupo Carso|$\\$$75.19|Industrial"
   ]
  },
  {
   "cell_type": "markdown",
   "id": "0bc0abdd",
   "metadata": {
    "scrolled": true
   },
   "source": [
    "Dentro del mercado bursátil, se utilizan herramientas llamadas múltiplos bursátiles, los cuales se basan en las tendencias de las acciones para brindar información útil acerca de los posibles sucesos de las acciones en el futuro. Esto debido a que no hay una forma exacta de saber la ganancia esperada de una acción.\n",
    "\n",
    "Una de estas herramientas es el _precio utilidad por acción (P/U)_ el cual se obtiene de dividir el market cap (valor de la empresa) entre la utilidad anual de la empresa. Esta herramienta señala los años aproximados en que tardarías en recuperar el 100% de tu inversión.\n",
    "\n",
    "$$P/U = \\frac{Market cap}{Utilidades}$$\n",
    "\n",
    "A su vez, el recíproco de este representa, en vía utilidades, cuánto se generó en rendimiento. Por lo tanto, se puede tomar en cuenta esta tasa de rendimiento para predecir la ganancia que se espera de cada acción\n",
    "\n",
    "$$\\text{Tasa de rendimiento} = \\frac{1}{P/U}$$\n",
    "\n",
    "Por lo tanto, en la siguiente tabla se muestran las tasas de rendimiento calculadas de cada acción, el market cap fue recuperado de yahoo finance:\n",
    "\n",
    "Empresa|Market Cap|Utilidad|Precio utilidad por acción|Tasa de rendimiento\n",
    ":----|----|----|----|----\n",
    "Alsea|$\\$$31,634,250,887.04|$\\$$736,864,000.00|42.930922|2.3229%\n",
    "Megacable|$\\$$113,400,000,000.00|$\\$$2,186,481,000.00|51.864160|1.9281%\n",
    "América móvil|$\\$$725,251,528,520.48|$\\$$44,480,540,000.00|16.304917|6.1331%\t\n",
    "Grupo Bimbo|$\\$$319,210,000,000.00|$\\$$10,610,933,000.00|30.083123|3.3241%\t\n",
    "Arca continental|$\\$$243,100,000,000.00|$\\$$7,316,255,000.00|33.227382|3.0096%\n",
    "Grupo Financiero Banorte|$\\$$386,210,176,200.36|$\\$$22,271,777,634.00|17.340788|5.7668%\n",
    "Grupo Carso|$\\$$168,510,000,000.00|$\\$$6,464,580,000.00|26.066659|3.8363%\t"
   ]
  },
  {
   "cell_type": "markdown",
   "id": "259a53c9",
   "metadata": {},
   "source": [
    "### Modelo que representa el problema"
   ]
  },
  {
   "cell_type": "markdown",
   "id": "dca80c96",
   "metadata": {},
   "source": [
    "**1. Criterio de optimización:**\n",
    "\n",
    "- Maximizar\n",
    "\n",
    "**2. Función:** \n",
    "\n",
    "La función a optimizar es el monto invertido en acciones de cada empresa multiplicado por la tasa de rendimiento anual. Se desea maximizar dicha función para llegar a la máxima ganancia posible.\n",
    "\n",
    "$$max. 0.023x_1 + 0.019x_2 + 0.061x_3 + 0.033x_4 + 0.030x_5 + 0.057x_6 + 0.038x_7$$\n",
    "\n",
    "\n",
    "**3. Definir Variables:**\n",
    "\n",
    "Cada x representa el monto invertido en acciones de las siguientes empresas:\n",
    "\n",
    "- $x_1$: Alsea, S.A.B. de C.V.\n",
    "- $x_2$: Megacable Holdings, S.A.B de C.V.\n",
    "- $x_3$: América Móvil, S.A.B de C.V.\n",
    "- $x_4$: Grupo Bimbo, S.A.B de C.V.\n",
    "- $x_5$: Arca Continental, S.A.B de C.V.\n",
    "- $x_6$: Grupo Financiero Banorte, S.A.B de C.V.\n",
    "- $x_7$: Grupo Carso, S.A.B de C.V.\n",
    "\n",
    "**4. Restricciones:**\n",
    "\n",
    "El monto total de todas las acciones no debe superar los \\$500,000\n",
    "- $x_{1} + x_{2} + x_{3} + x_{4} + x_{5} + x_{6} + x_{7}\\leq 500000$\n",
    "\n",
    "El número de acciones (monto entre precio de acción) de ciertas empresas (Arca continental, Grupo Financiero Banorte y Grupo Carso) deben ser un valor único, por lo tanto:\n",
    "- $\\frac{x_{5}}{139.96} = 300$\n",
    "- $\\frac{x_{6}}{133.94} = 350$\n",
    "- $\\frac{x_{7}}{75.19} = 450$\n",
    "\n",
    "El número de acciones de ciertas empresas (Alsea y Megacable) debe ser como mínimo: \n",
    "- $\\frac{x_{2}}{45.14} \\geq 900$\n",
    "- $\\frac{x_{1}}{38.46} \\geq 700$\n",
    "\n",
    "El número de acciones de América móvil no debe de superar un número en específico:\n",
    "- $\\frac{x_{3}}{17.03} \\leq 1400$\n",
    "\n",
    "El número de acciones en el sector de Telecomunicaciones (Megacable y América móvil) debe ser como mínimo 2500\n",
    "- $(\\frac{x_{2}}{45.14}+\\frac{x_{3}}{17.03}) \\geq 2500$\n",
    "\n",
    "El número de acciones en el sector de Consumos frecuentes (Grupo Bimbo y Arca continental) debe ser como mínimo 1000\n",
    "- $(\\frac{x_{4}}{73.45}+\\frac{x_{5}}{139.96}) \\geq 1000$\n"
   ]
  },
  {
   "cell_type": "markdown",
   "id": "6abdd631",
   "metadata": {},
   "source": [
    "\n",
    "\n",
    "5. Matrices\n",
    "\\begin{gather}\n",
    "x\n",
    " =\n",
    "  \\begin{bmatrix}\n",
    "   x_1 \\\\\n",
    "   x_2 \\\\\n",
    "   x_3 \\\\\n",
    "   x_4 \\\\\n",
    "   x_5 \\\\\n",
    "   x_6 \\\\\n",
    "   x_7 \\\\\n",
    "   \\end{bmatrix}\n",
    "\\end{gather}\n",
    "\n",
    "\\begin{gather}\n",
    "c\n",
    " =\n",
    "  \\begin{bmatrix}\n",
    "   0.023 \\\\\n",
    "   0.019 \\\\\n",
    "   0.061 \\\\\n",
    "   0.033 \\\\\n",
    "   0.030 \\\\\n",
    "   0.057 \\\\\n",
    "   0.038 \\\\\n",
    "   \\end{bmatrix}\n",
    "\\end{gather}\n",
    "\n",
    "\\begin{gather}\n",
    "A_{ub}\n",
    " =\n",
    "  \\begin{bmatrix}\n",
    "   1 & 1 & 1 & 1 & 1 & 1 & 1\\\\\n",
    "   0 & \\frac{-1}{45.14} & 0 & 0 & 0 & 0 & 0\\\\\n",
    "   \\frac{-1}{38.46} & 0 & 0 & 0 & 0 & 0 & 0\\\\\n",
    "   0 & 0 & \\frac{1}{17.03} & 0 & 0 & 0 & 0\\\\\n",
    "   0 & \\frac{-1}{45.14} & \\frac{-1}{17.03} & 0 & 0 & 0 & 0\\\\\n",
    "   0 & 0 & 0 & \\frac{-1}{73.45} & \\frac{-1}{139.96} & 0 & 0\\\\\n",
    "   \\end{bmatrix}\n",
    "\\end{gather}\n",
    "\n",
    "\\begin{gather}\n",
    "b_{ub}\n",
    " =\n",
    "  \\begin{bmatrix}\n",
    "   500000\\\\\n",
    "   -900\\\\\n",
    "   -700\\\\\n",
    "   1400\\\\\n",
    "   -2500\\\\\n",
    "   -1000\\\\\n",
    "   \\end{bmatrix}\n",
    "\\end{gather}\n",
    "\n",
    "\\begin{gather}\n",
    "A_{eq}\n",
    " =\n",
    "  \\begin{bmatrix}\n",
    "   0 & 0 & 0 & 0 & \\frac{1}{139.96} & 0 & 0\\\\\n",
    "   0 & 0 & 0 & 0 & 0 & \\frac{1}{133.94} & 0\\\\\n",
    "   0 & 0 & 0 & 0 & 0 & 0 & \\frac{1}{75.19}\\\n",
    "   \\end{bmatrix}\n",
    "\\end{gather}\n",
    "\n",
    "\\begin{gather}\n",
    "b_{eq}\n",
    " =\n",
    "  \\begin{bmatrix}\n",
    "   300\\\\\n",
    "   350\\\\\n",
    "   450\\\\\n",
    "   \\end{bmatrix}\n",
    "\\end{gather}\n"
   ]
  },
  {
   "cell_type": "markdown",
   "id": "53202b98",
   "metadata": {},
   "source": [
    "### Solución del problema de optimización"
   ]
  },
  {
   "cell_type": "code",
   "execution_count": 2,
   "id": "3e81f8d7",
   "metadata": {},
   "outputs": [],
   "source": [
    "import numpy as np\n",
    "import scipy.optimize as opt"
   ]
  },
  {
   "cell_type": "code",
   "execution_count": 3,
   "id": "6aa0d011",
   "metadata": {},
   "outputs": [
    {
     "name": "stdout",
     "output_type": "stream",
     "text": [
      "Ganancia anual esperada: $ 15819.19\n",
      "\n",
      "$  26922 invertido en Alsea\n",
      "$ 112850 invertido en Megacable\n",
      "$      0 invertido en America móvil\n",
      "$ 237525 invertido en Grupo Bimbo\n",
      "$  41988 invertido en Arca continental\n",
      "$  46879 invertido en Grupo Financiero Banorte\n",
      "$  33835 invertido en Grupo Carso\n"
     ]
    }
   ],
   "source": [
    "empresas = [\"Alsea\", \"Megacable\", \"America móvil\", \"Grupo Bimbo\", \"Arca continental\", \"Grupo Financiero Banorte\", \"Grupo Carso\"]\n",
    "c = np.array([-0.023, -0.019, -0.061, -0.033, -0.03, -0.057, -0.038])\n",
    "A_ub = np.array([[1, 1, 1, 1, 1, 1, 1],\n",
    "                [0, -1/45.14, 0, 0, 0, 0, 0],\n",
    "                [-1/38.46, 0, 0, 0, 0, 0, 0],\n",
    "                [0, 0, 1/17.03, 0, 0, 0, 0],\n",
    "                [0, -1/45.14, -1/17.03, 0, 0, 0, 0],\n",
    "                [0, 0, 0, -1/73.45, -1/139.96, 0, 0]])\n",
    "b_ub = np.array([500000, -900, -700, 1400, -2500, -1000])\n",
    "A_eq = np.array([[0, 0, 0, 0, 1/139.96, 0, 0],\n",
    "                [0, 0, 0, 0, 0, 1/133.94, 0],\n",
    "                [0, 0, 1, 0, 0, 0, 1/75.19]])\n",
    "b_eq = np.array([300, 350, 450])\n",
    "sol = opt.linprog(c, A_ub, b_ub, A_eq, b_eq)\n",
    "print(\"Ganancia anual esperada: $ {}\".format(round(sol.get(\"fun\"), 2)*-1))\n",
    "print(\"\")\n",
    "for i in range(7):\n",
    "    print(\"${:7} invertido en {}\".format(round(sol.get(\"x\")[i]), empresas[i]))"
   ]
  },
  {
   "cell_type": "markdown",
   "id": "5536f915",
   "metadata": {},
   "source": [
    "Por lo tanto, el número de acciones a invertir en cada empresa son los siguientes:\n",
    "\n",
    "- Alsea: 700 acciones\n",
    "- Megacable: 2500 acciones\n",
    "- América móvil: 0 acciones\n",
    "- Grupo Bimbo: 3233 acciones\n",
    "- Arca continental: 300 acciones\n",
    "- Grupo Financiero Banorte: 350 acciones\n",
    "- Grupo Carso: 450 acciones"
   ]
  },
  {
   "cell_type": "markdown",
   "id": "f1058e1d",
   "metadata": {},
   "source": [
    "El algoritmo de optimización se condujo a una solución factible debido a que, los resultados obtenidos representan el monto a invertir en cada empresa respetando las cláusulas presentadas por el inversionista, y al mismo tiempo, maximizando su ganancia anual esperada."
   ]
  },
  {
   "cell_type": "markdown",
   "id": "4e98cb96",
   "metadata": {},
   "source": [
    "Empresa|Esperado (acciones)|Obtenido (acciones)\n",
    ":----|----|----\n",
    "Alsea|Mínimo 700 |700\n",
    "Megacable|Mínimo 900|2500\n",
    "América móvil|Máximo 1400|0\n",
    "Grupo Bimbo| - |3233\n",
    "Arca continental|300|300 \n",
    "Grupo Financiero Banorte|350|350\n",
    "Grupo Carso|450|450"
   ]
  },
  {
   "cell_type": "markdown",
   "id": "f67ddd62",
   "metadata": {},
   "source": [
    "Sector|Esperado (acciones)|Obtenido (acciones)\n",
    ":----|----|----\n",
    "Servicios de Telecomunicaciones|Mínimo 2500 |2500\n",
    "Productos de consumo frecuente|Mínimo 1000|3533"
   ]
  },
  {
   "cell_type": "markdown",
   "id": "850227e1",
   "metadata": {},
   "source": [
    "**Resultados:**\n",
    "\n",
    "Empresa|Acciones|Precio|Monto|Tasa rendimiento|Ganancia anual\n",
    ":----|----|----|----|----|----\n",
    "Alsea|700|$\\$$38.46|$\\$$26,922|2.32%|$\\$$619.20\n",
    "Megacable|2500|$\\$$45.14|$\\$$112,850|1.92%|$\\$$2,166.72\n",
    "América móvil|0|$\\$$17.03|$\\$$0|6.13%|$\\$$0\n",
    "Grupo Bimbo|3233|$\\$$73.45|$\\$$237,525|3.32%|$\\$$7,838.32\n",
    "Arca continental|300|$\\$$139.96|$\\$$41,988|3.00%|$\\$$1,256.64\n",
    "Grupo Financiero Banorte|350|$\\$$133.94|$\\$$46,879|5.76%|$\\$$2,700.23\n",
    "Grupo Carso|450|$\\$$75.19|$\\$$33,835|3.83%|$\\$$1,295.88\n",
    "|||||$\\$$15,819.19"
   ]
  },
  {
   "cell_type": "markdown",
   "id": "315c48b2",
   "metadata": {},
   "source": [
    "Como conclusión, se logró maximizar la ganancia del inversionista, esto con base en las restricciones que él mismo propuso en un primer momento. Tanto las empresas en las que obligatoriamente quería invertir, como el mínimo y máximo de acciones en distintos sectores. De esta forma, se obtiene un portafolio de inversión diverso, con diferentes empresas y la máxima ganancia posible.\n",
    "\n",
    "Sin embargo, consideramos que a pesar de que se maximizó la ganancia esperada con las cláusulas dadas por el cliente, no hay necesidad de invertir un número tan específico de acciones en las empresas que él deseaba, de esta forma, hay otras maneras de invertir para conseguir un portafolio diverso y tal vez con más ganancias.\n",
    "\n",
    "También hay que tener en cuenta que los múltiplos bursátiles, en este caso el usado Precio Utilidad, están basados en datos e información del pasado, por lo que no pueden ser tan acertados para predecir el futuro de las acciones y sus valores. Debido a esto, la tasa de rendimiento usada es calculada a partir de múltiplos bursátiles, por lo cual su uso dentro del ejercicio es una predicción de la ganancia, la cual puede variar demasiado durante el año de vida de la acción. Además en el mundo bursátil, las acciones siempre cambian debido al comportamiento humano, por lo tanto pueden llegar a ser impredecibles."
   ]
  },
  {
   "cell_type": "markdown",
   "id": "e2b06392",
   "metadata": {},
   "source": [
    "**Referencias:**\n",
    "\n",
    "- Grupo BMV Home. (s. f.). Recuperado 23 de septiembre de 2022, de https://www.bmv.com.mx/\n",
    "- Yahoo Finance. (s. f.). Recuperado 23 de septiembre de 2022, de https://finance.yahoo.com/"
   ]
  }
 ],
 "metadata": {
  "kernelspec": {
   "display_name": "Python 3 (ipykernel)",
   "language": "python",
   "name": "python3"
  },
  "language_info": {
   "codemirror_mode": {
    "name": "ipython",
    "version": 3
   },
   "file_extension": ".py",
   "mimetype": "text/x-python",
   "name": "python",
   "nbconvert_exporter": "python",
   "pygments_lexer": "ipython3",
   "version": "3.9.12"
  }
 },
 "nbformat": 4,
 "nbformat_minor": 5
}
