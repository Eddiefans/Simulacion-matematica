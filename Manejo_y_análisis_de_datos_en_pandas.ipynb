{
 "cells": [
  {
   "cell_type": "markdown",
   "metadata": {},
   "source": [
    "# Aplicando Python para análisis de precios: descarga, manejo y análisis de datos"
   ]
  },
  {
   "cell_type": "markdown",
   "metadata": {},
   "source": [
    "<img style=\"float: right; margin: 0px 0px 15px 15px;\" src=\"https://upload.wikimedia.org/wikipedia/commons/0/0a/Python.svg\" width=\"300px\" height=\"100px\" />\n",
    "\n",
    "> Veremos un caso de aplicación de simulación montecarlo en la toma de decisiones. Para lograr este objetivo, primero veremos como manipular datos con *pandas*, tanto desde un archivo local de excel como remotamente desde Yahoo Finance.\n",
    "\n",
    "> Python Data Analysis Library: pandas es una librería de código abierto, fácil de usar y que provee alto rendimiento en structuras de datos y herramientas de análisis de datos para el lenguaje de programación Python.\n",
    "\n",
    "**Referencias:**\n",
    "- http://pandas.pydata.org/\n",
    "- http://www.learndatasci.com/python-finance-part-yahoo-finance-api-pandas-matplotlib/\n",
    "- https://www.datacamp.com/community/tutorials/python-excel-tutorial"
   ]
  },
  {
   "cell_type": "markdown",
   "metadata": {},
   "source": [
    "## 0. Motivación\n",
    "\n",
    "<img style=\"float: right; margin: 0px 0px 15px 15px;\" src=\"https://upload.wikimedia.org/wikipedia/commons/d/d7/Philippine-stock-market-board.jpg\" width=\"400px\" height=\"125px\" />\n",
    "\n",
    "Hace una década, los instrumentos financieros estaban en la cúspide de la popularidad. Las instituciones financieras de todo el mundo estaban negociando miles de millones de dólares de estos instrumentos a diario, y los analistas cuantitativos estaban modelándolos utilizando el cálculo estocástico y el poderoso `C++`.\n",
    "\n",
    "Sin embargo, el avance en los últimos años ha sido impresionante y las cosas han cambiado. Por una parte, la [crisis financiera del 2008](https://es.wikipedia.org/wiki/Crisis_financiera_de_2008) fue producida por los instrumentos financieros llamados *derivados*. Por otra parte, los volúmenes transaccionales han bajado y la demanda de modelado con `C++` se ha marchitado con ellos. Además, un nuevo jugador entró en la competencia... `¡Python!`\n",
    "\n",
    "`Python` ha estado ganando muchos seguidores en la industria financiera en los últimos años y con razón. No en vano, junto a `R` son los lenguajes de programación más utilizados en cuanto a análisis financiero."
   ]
  },
  {
   "cell_type": "markdown",
   "metadata": {},
   "source": [
    "## 1. Descarga de datos de Yahoo! Finance\n",
    "Para esto utilizaremos el paquete *pandas_datareader*.\n",
    "\n",
    "**Nota**: Usualmente, las distribuciones de Python no cuentan, por defecto, con el paquete *pandas_datareader*. Por lo que será necesario instalarlo aparte:\n",
    "- buscar en inicio \"Anaconda prompt\" y ejecutarlo como administrador;\n",
    "- el siguiente comando instala el paquete en Anaconda: *conda install pandas-datareader*;\n",
    "- una vez finalice la instalación correr el comando: *conda list*, y buscar que sí se haya instalado pandas-datareader"
   ]
  },
  {
   "cell_type": "code",
   "execution_count": 4,
   "metadata": {},
   "outputs": [],
   "source": [
    "import pandas_datareader.data as web"
   ]
  },
  {
   "cell_type": "markdown",
   "metadata": {},
   "source": [
    "Primero importaremos datos desde un archivo con extensión `.csv`"
   ]
  },
  {
   "cell_type": "code",
   "execution_count": 9,
   "metadata": {},
   "outputs": [
    {
     "name": "stdout",
     "output_type": "stream",
     "text": [
      "            Date        Open        High         Low       Close   Adj Close  \\\n",
      "0     2015-01-02   78.580002   78.930000   77.699997   78.449997   78.449997   \n",
      "1     2015-01-05   77.980003   79.250000   76.860001   77.190002   77.190002   \n",
      "2     2015-01-06   77.230003   77.589996   75.360001   76.150002   76.150002   \n",
      "3     2015-01-07   76.760002   77.360001   75.820000   76.150002   76.150002   \n",
      "4     2015-01-08   76.739998   78.230003   76.080002   78.180000   78.180000   \n",
      "...          ...         ...         ...         ...         ...         ...   \n",
      "1001  2018-12-24  123.099998  129.740005  123.019997  124.059998  124.059998   \n",
      "1002  2018-12-26  126.000000  134.240005  125.889999  134.179993  134.179993   \n",
      "1003  2018-12-27  132.440002  134.990005  129.669998  134.520004  134.520004   \n",
      "1004  2018-12-28  135.339996  135.919998  132.199997  133.199997  133.199997   \n",
      "1005  2018-12-31  134.449997  134.639999  129.949997  131.089996  131.089996   \n",
      "\n",
      "        Volume  \n",
      "0     18177500  \n",
      "1     26452200  \n",
      "2     27399300  \n",
      "3     22045300  \n",
      "4     23961000  \n",
      "...        ...  \n",
      "1001  22066000  \n",
      "1002  39723400  \n",
      "1003  31202500  \n",
      "1004  22627600  \n",
      "1005  24625300  \n",
      "\n",
      "[1006 rows x 7 columns]\n",
      "Open         1.333854e+02\n",
      "High         1.346752e+02\n",
      "Low          1.320096e+02\n",
      "Close        1.334132e+02\n",
      "Adj Close    1.334132e+02\n",
      "Volume       2.422082e+07\n",
      "dtype: float64\n",
      "Open         3.578391e+01\n",
      "High         3.608193e+01\n",
      "Low          3.550655e+01\n",
      "Close        3.582824e+01\n",
      "Adj Close    3.582824e+01\n",
      "Volume       1.463149e+07\n",
      "dtype: float64\n",
      "              Open         High          Low        Close    Adj Close  \\\n",
      "count  1006.000000  1006.000000  1006.000000  1006.000000  1006.000000   \n",
      "mean    133.385427   134.675159   132.009553   133.413191   133.413191   \n",
      "std      35.783907    36.081929    35.506553    35.828240    35.828240   \n",
      "min      74.040001    74.830002    72.000000    74.050003    74.050003   \n",
      "25%     105.240002   106.249998   104.005001   105.047497   105.047497   \n",
      "50%     129.195000   129.979996   128.244996   129.150002   129.150002   \n",
      "75%     167.420002   168.955002   165.800000   167.407501   167.407501   \n",
      "max     215.720001   218.619995   214.270004   217.500000   217.500000   \n",
      "\n",
      "             Volume  \n",
      "count  1.006000e+03  \n",
      "mean   2.422082e+07  \n",
      "std    1.463149e+07  \n",
      "min    5.913100e+06  \n",
      "25%    1.561465e+07  \n",
      "50%    2.034995e+07  \n",
      "75%    2.715410e+07  \n",
      "max    1.698037e+08  \n"
     ]
    },
    {
     "name": "stderr",
     "output_type": "stream",
     "text": [
      "C:\\Users\\eddie\\AppData\\Local\\Temp\\ipykernel_9872\\1956438962.py:6: FutureWarning: Dropping of nuisance columns in DataFrame reductions (with 'numeric_only=None') is deprecated; in a future version this will raise TypeError.  Select only valid columns before calling the reduction.\n",
      "  print(data.mean())\n",
      "C:\\Users\\eddie\\AppData\\Local\\Temp\\ipykernel_9872\\1956438962.py:7: FutureWarning: Dropping of nuisance columns in DataFrame reductions (with 'numeric_only=None') is deprecated; in a future version this will raise TypeError.  Select only valid columns before calling the reduction.\n",
      "  print(data.std())\n"
     ]
    }
   ],
   "source": [
    "import pandas as pd\n",
    "\n",
    "data = pd.read_csv(\"Excels\\FB.csv\")\n",
    "print(data)\n",
    "\n",
    "print(data.mean())\n",
    "print(data.std())\n",
    "print(data.describe())"
   ]
  },
  {
   "cell_type": "code",
   "execution_count": null,
   "metadata": {},
   "outputs": [],
   "source": []
  },
  {
   "cell_type": "code",
   "execution_count": null,
   "metadata": {},
   "outputs": [],
   "source": []
  },
  {
   "cell_type": "markdown",
   "metadata": {},
   "source": [
    "Ahora lo haremos desde Yahoo Finance"
   ]
  },
  {
   "cell_type": "code",
   "execution_count": 11,
   "metadata": {},
   "outputs": [],
   "source": [
    "web.DataReader?"
   ]
  },
  {
   "cell_type": "code",
   "execution_count": 20,
   "metadata": {},
   "outputs": [
    {
     "data": {
      "text/html": [
       "<div>\n",
       "<style scoped>\n",
       "    .dataframe tbody tr th:only-of-type {\n",
       "        vertical-align: middle;\n",
       "    }\n",
       "\n",
       "    .dataframe tbody tr th {\n",
       "        vertical-align: top;\n",
       "    }\n",
       "\n",
       "    .dataframe thead th {\n",
       "        text-align: right;\n",
       "    }\n",
       "</style>\n",
       "<table border=\"1\" class=\"dataframe\">\n",
       "  <thead>\n",
       "    <tr style=\"text-align: right;\">\n",
       "      <th></th>\n",
       "      <th>High</th>\n",
       "      <th>Low</th>\n",
       "      <th>Open</th>\n",
       "      <th>Close</th>\n",
       "      <th>Volume</th>\n",
       "      <th>Adj Close</th>\n",
       "    </tr>\n",
       "    <tr>\n",
       "      <th>Date</th>\n",
       "      <th></th>\n",
       "      <th></th>\n",
       "      <th></th>\n",
       "      <th></th>\n",
       "      <th></th>\n",
       "      <th></th>\n",
       "    </tr>\n",
       "  </thead>\n",
       "  <tbody>\n",
       "    <tr>\n",
       "      <th>2003-11-24</th>\n",
       "      <td>0.379821</td>\n",
       "      <td>0.365179</td>\n",
       "      <td>0.366071</td>\n",
       "      <td>0.377679</td>\n",
       "      <td>381824800</td>\n",
       "      <td>0.322474</td>\n",
       "    </tr>\n",
       "    <tr>\n",
       "      <th>2003-11-25</th>\n",
       "      <td>0.379464</td>\n",
       "      <td>0.368036</td>\n",
       "      <td>0.379107</td>\n",
       "      <td>0.369286</td>\n",
       "      <td>268654400</td>\n",
       "      <td>0.315308</td>\n",
       "    </tr>\n",
       "    <tr>\n",
       "      <th>2003-11-26</th>\n",
       "      <td>0.377679</td>\n",
       "      <td>0.361607</td>\n",
       "      <td>0.373036</td>\n",
       "      <td>0.370000</td>\n",
       "      <td>245128800</td>\n",
       "      <td>0.315918</td>\n",
       "    </tr>\n",
       "    <tr>\n",
       "      <th>2003-11-28</th>\n",
       "      <td>0.376250</td>\n",
       "      <td>0.366429</td>\n",
       "      <td>0.371071</td>\n",
       "      <td>0.373393</td>\n",
       "      <td>76098400</td>\n",
       "      <td>0.318815</td>\n",
       "    </tr>\n",
       "    <tr>\n",
       "      <th>2003-12-01</th>\n",
       "      <td>0.390179</td>\n",
       "      <td>0.375000</td>\n",
       "      <td>0.375714</td>\n",
       "      <td>0.387679</td>\n",
       "      <td>361536000</td>\n",
       "      <td>0.331013</td>\n",
       "    </tr>\n",
       "    <tr>\n",
       "      <th>...</th>\n",
       "      <td>...</td>\n",
       "      <td>...</td>\n",
       "      <td>...</td>\n",
       "      <td>...</td>\n",
       "      <td>...</td>\n",
       "      <td>...</td>\n",
       "    </tr>\n",
       "    <tr>\n",
       "      <th>2004-10-04</th>\n",
       "      <td>0.699643</td>\n",
       "      <td>0.691964</td>\n",
       "      <td>0.699643</td>\n",
       "      <td>0.692679</td>\n",
       "      <td>574084000</td>\n",
       "      <td>0.591431</td>\n",
       "    </tr>\n",
       "    <tr>\n",
       "      <th>2004-10-05</th>\n",
       "      <td>0.708393</td>\n",
       "      <td>0.685714</td>\n",
       "      <td>0.688571</td>\n",
       "      <td>0.703036</td>\n",
       "      <td>406162400</td>\n",
       "      <td>0.600275</td>\n",
       "    </tr>\n",
       "    <tr>\n",
       "      <th>2004-10-06</th>\n",
       "      <td>0.727857</td>\n",
       "      <td>0.704821</td>\n",
       "      <td>0.705357</td>\n",
       "      <td>0.725714</td>\n",
       "      <td>446303200</td>\n",
       "      <td>0.619638</td>\n",
       "    </tr>\n",
       "    <tr>\n",
       "      <th>2004-10-07</th>\n",
       "      <td>0.730893</td>\n",
       "      <td>0.704643</td>\n",
       "      <td>0.723929</td>\n",
       "      <td>0.707500</td>\n",
       "      <td>426148800</td>\n",
       "      <td>0.604086</td>\n",
       "    </tr>\n",
       "    <tr>\n",
       "      <th>2004-10-08</th>\n",
       "      <td>0.710179</td>\n",
       "      <td>0.693571</td>\n",
       "      <td>0.706429</td>\n",
       "      <td>0.697500</td>\n",
       "      <td>359228800</td>\n",
       "      <td>0.595548</td>\n",
       "    </tr>\n",
       "  </tbody>\n",
       "</table>\n",
       "<p>220 rows × 6 columns</p>\n",
       "</div>"
      ],
      "text/plain": [
       "                High       Low      Open     Close     Volume  Adj Close\n",
       "Date                                                                    \n",
       "2003-11-24  0.379821  0.365179  0.366071  0.377679  381824800   0.322474\n",
       "2003-11-25  0.379464  0.368036  0.379107  0.369286  268654400   0.315308\n",
       "2003-11-26  0.377679  0.361607  0.373036  0.370000  245128800   0.315918\n",
       "2003-11-28  0.376250  0.366429  0.371071  0.373393   76098400   0.318815\n",
       "2003-12-01  0.390179  0.375000  0.375714  0.387679  361536000   0.331013\n",
       "...              ...       ...       ...       ...        ...        ...\n",
       "2004-10-04  0.699643  0.691964  0.699643  0.692679  574084000   0.591431\n",
       "2004-10-05  0.708393  0.685714  0.688571  0.703036  406162400   0.600275\n",
       "2004-10-06  0.727857  0.704821  0.705357  0.725714  446303200   0.619638\n",
       "2004-10-07  0.730893  0.704643  0.723929  0.707500  426148800   0.604086\n",
       "2004-10-08  0.710179  0.693571  0.706429  0.697500  359228800   0.595548\n",
       "\n",
       "[220 rows x 6 columns]"
      ]
     },
     "execution_count": 20,
     "metadata": {},
     "output_type": "execute_result"
    }
   ],
   "source": [
    "data = web.DataReader(\"AAPL\", \"yahoo\", \"2003-11-22\", \"2004-10-10\")\n",
    "data"
   ]
  },
  {
   "cell_type": "markdown",
   "metadata": {},
   "source": [
    "#### La api de yahoo es inestable. Puede ser que nos toque intentar varias veces antes de tener éxito"
   ]
  },
  {
   "cell_type": "code",
   "execution_count": 21,
   "metadata": {},
   "outputs": [
    {
     "data": {
      "text/plain": [
       "Date\n",
       "2003-11-24    0.366071\n",
       "2003-11-25    0.379107\n",
       "2003-11-26    0.373036\n",
       "2003-11-28    0.371071\n",
       "2003-12-01    0.375714\n",
       "                ...   \n",
       "2004-10-04    0.699643\n",
       "2004-10-05    0.688571\n",
       "2004-10-06    0.705357\n",
       "2004-10-07    0.723929\n",
       "2004-10-08    0.706429\n",
       "Name: Open, Length: 220, dtype: float64"
      ]
     },
     "execution_count": 21,
     "metadata": {},
     "output_type": "execute_result"
    }
   ],
   "source": [
    "data[\"Open\"]"
   ]
  },
  {
   "cell_type": "code",
   "execution_count": 22,
   "metadata": {},
   "outputs": [
    {
     "data": {
      "text/html": [
       "<div>\n",
       "<style scoped>\n",
       "    .dataframe tbody tr th:only-of-type {\n",
       "        vertical-align: middle;\n",
       "    }\n",
       "\n",
       "    .dataframe tbody tr th {\n",
       "        vertical-align: top;\n",
       "    }\n",
       "\n",
       "    .dataframe thead th {\n",
       "        text-align: right;\n",
       "    }\n",
       "</style>\n",
       "<table border=\"1\" class=\"dataframe\">\n",
       "  <thead>\n",
       "    <tr style=\"text-align: right;\">\n",
       "      <th></th>\n",
       "      <th>High</th>\n",
       "      <th>Low</th>\n",
       "      <th>Open</th>\n",
       "      <th>Close</th>\n",
       "      <th>Volume</th>\n",
       "      <th>Adj Close</th>\n",
       "    </tr>\n",
       "  </thead>\n",
       "  <tbody>\n",
       "    <tr>\n",
       "      <th>count</th>\n",
       "      <td>220.000000</td>\n",
       "      <td>220.000000</td>\n",
       "      <td>220.000000</td>\n",
       "      <td>220.000000</td>\n",
       "      <td>2.200000e+02</td>\n",
       "      <td>220.000000</td>\n",
       "    </tr>\n",
       "    <tr>\n",
       "      <th>mean</th>\n",
       "      <td>0.508011</td>\n",
       "      <td>0.492483</td>\n",
       "      <td>0.498999</td>\n",
       "      <td>0.500798</td>\n",
       "      <td>3.701000e+08</td>\n",
       "      <td>0.427597</td>\n",
       "    </tr>\n",
       "    <tr>\n",
       "      <th>std</th>\n",
       "      <td>0.093581</td>\n",
       "      <td>0.091125</td>\n",
       "      <td>0.091866</td>\n",
       "      <td>0.092758</td>\n",
       "      <td>2.185498e+08</td>\n",
       "      <td>0.079200</td>\n",
       "    </tr>\n",
       "    <tr>\n",
       "      <th>min</th>\n",
       "      <td>0.355179</td>\n",
       "      <td>0.343750</td>\n",
       "      <td>0.350893</td>\n",
       "      <td>0.351786</td>\n",
       "      <td>7.609840e+07</td>\n",
       "      <td>0.300366</td>\n",
       "    </tr>\n",
       "    <tr>\n",
       "      <th>25%</th>\n",
       "      <td>0.421473</td>\n",
       "      <td>0.407143</td>\n",
       "      <td>0.412098</td>\n",
       "      <td>0.411830</td>\n",
       "      <td>2.488388e+08</td>\n",
       "      <td>0.351634</td>\n",
       "    </tr>\n",
       "    <tr>\n",
       "      <th>50%</th>\n",
       "      <td>0.499732</td>\n",
       "      <td>0.483928</td>\n",
       "      <td>0.491071</td>\n",
       "      <td>0.491339</td>\n",
       "      <td>3.235876e+08</td>\n",
       "      <td>0.419521</td>\n",
       "    </tr>\n",
       "    <tr>\n",
       "      <th>75%</th>\n",
       "      <td>0.573928</td>\n",
       "      <td>0.556295</td>\n",
       "      <td>0.561875</td>\n",
       "      <td>0.565982</td>\n",
       "      <td>4.124792e+08</td>\n",
       "      <td>0.483254</td>\n",
       "    </tr>\n",
       "    <tr>\n",
       "      <th>max</th>\n",
       "      <td>0.730893</td>\n",
       "      <td>0.704821</td>\n",
       "      <td>0.723929</td>\n",
       "      <td>0.725714</td>\n",
       "      <td>1.767724e+09</td>\n",
       "      <td>0.619638</td>\n",
       "    </tr>\n",
       "  </tbody>\n",
       "</table>\n",
       "</div>"
      ],
      "text/plain": [
       "             High         Low        Open       Close        Volume  \\\n",
       "count  220.000000  220.000000  220.000000  220.000000  2.200000e+02   \n",
       "mean     0.508011    0.492483    0.498999    0.500798  3.701000e+08   \n",
       "std      0.093581    0.091125    0.091866    0.092758  2.185498e+08   \n",
       "min      0.355179    0.343750    0.350893    0.351786  7.609840e+07   \n",
       "25%      0.421473    0.407143    0.412098    0.411830  2.488388e+08   \n",
       "50%      0.499732    0.483928    0.491071    0.491339  3.235876e+08   \n",
       "75%      0.573928    0.556295    0.561875    0.565982  4.124792e+08   \n",
       "max      0.730893    0.704821    0.723929    0.725714  1.767724e+09   \n",
       "\n",
       "        Adj Close  \n",
       "count  220.000000  \n",
       "mean     0.427597  \n",
       "std      0.079200  \n",
       "min      0.300366  \n",
       "25%      0.351634  \n",
       "50%      0.419521  \n",
       "75%      0.483254  \n",
       "max      0.619638  "
      ]
     },
     "execution_count": 22,
     "metadata": {},
     "output_type": "execute_result"
    }
   ],
   "source": [
    "data.describe()"
   ]
  },
  {
   "cell_type": "code",
   "execution_count": 26,
   "metadata": {},
   "outputs": [
    {
     "data": {
      "text/plain": [
       "Date\n",
       "2012-01-03    21.527197\n",
       "2012-01-04    22.033810\n",
       "2012-01-05    22.258970\n",
       "2012-01-06    22.604759\n",
       "2012-01-09    22.307220\n",
       "                ...    \n",
       "2012-12-24    22.375805\n",
       "2012-12-26    22.210428\n",
       "2012-12-27    22.293116\n",
       "2012-12-28    21.954086\n",
       "2012-12-31    22.086390\n",
       "Name: Adj Close, Length: 250, dtype: float64"
      ]
     },
     "execution_count": 26,
     "metadata": {},
     "output_type": "execute_result"
    }
   ],
   "source": [
    "def getClose(name, start, end):\n",
    "    return web.DataReader(name, \"yahoo\", start, end)[\"Adj Close\"]\n",
    "\n",
    "data = getClose(\"MSFT\", \"2012-01-01\", \"2013-01-01\")\n",
    "data"
   ]
  },
  {
   "cell_type": "code",
   "execution_count": 29,
   "metadata": {},
   "outputs": [
    {
     "name": "stdout",
     "output_type": "stream",
     "text": [
      "Symbols        MSFT        NFLX        TSLA\n",
      "count    505.000000  505.000000  505.000000\n",
      "mean     157.831829  387.966593   57.528172\n",
      "std       37.001222   78.931238   55.979811\n",
      "min       93.573837  254.589996   11.931333\n",
      "25%      131.003983  329.089996   17.361334\n",
      "50%      150.186401  364.369995   28.509333\n",
      "75%      197.933960  469.959991   80.577332\n",
      "max      227.637238  556.549988  235.223328\n"
     ]
    },
    {
     "data": {
      "text/plain": [
       "<AxesSubplot:xlabel='Date'>"
      ]
     },
     "execution_count": 29,
     "metadata": {},
     "output_type": "execute_result"
    },
    {
     "data": {
      "image/png": "[encoded data removed]",
      "text/plain": [
       "<Figure size 432x288 with 1 Axes>"
      ]
     },
     "metadata": {
      "needs_background": "light"
     },
     "output_type": "display_data"
    }
   ],
   "source": [
    "\n",
    "\n",
    "names = [\"MSFT\", \"NFLX\", \"TSLA\"]\n",
    "data = getClose(names, \"2019-01-01\", \"2021-01-01\")\n",
    "data\n",
    "\n",
    "print(data.describe())\n",
    "\n",
    "%matplotlib inline\n",
    "data.plot()"
   ]
  },
  {
   "cell_type": "markdown",
   "metadata": {},
   "source": [
    "¿Cómo lucen estos datos?"
   ]
  },
  {
   "cell_type": "code",
   "execution_count": 33,
   "metadata": {},
   "outputs": [
    {
     "data": {
      "text/plain": [
       "<AxesSubplot:ylabel='Frequency'>"
      ]
     },
     "execution_count": 33,
     "metadata": {},
     "output_type": "execute_result"
    },
    {
     "data": {
      "image/png": "[encoded data removed]",
      "text/plain": [
       "<Figure size 432x288 with 1 Axes>"
      ]
     },
     "metadata": {
      "needs_background": "light"
     },
     "output_type": "display_data"
    }
   ],
   "source": [
    "data.plot.hist(alpha=0.5)"
   ]
  },
  {
   "cell_type": "code",
   "execution_count": null,
   "metadata": {},
   "outputs": [],
   "source": []
  },
  {
   "cell_type": "code",
   "execution_count": null,
   "metadata": {},
   "outputs": [],
   "source": []
  },
  {
   "cell_type": "markdown",
   "metadata": {},
   "source": [
    "Una vez tenemos los datos, podemos operar con ellos. Por ejemplo un resumen de datos estadísticos se podría obtener con"
   ]
  },
  {
   "cell_type": "code",
   "execution_count": null,
   "metadata": {},
   "outputs": [],
   "source": []
  },
  {
   "cell_type": "code",
   "execution_count": null,
   "metadata": {},
   "outputs": [],
   "source": []
  },
  {
   "cell_type": "code",
   "execution_count": null,
   "metadata": {},
   "outputs": [],
   "source": []
  },
  {
   "cell_type": "markdown",
   "metadata": {},
   "source": [
    "## 2. Rendimientos diarios\n",
    "\n",
    "Para una sucesión de precios $\\{S_t\\}_{t=0}^{n}$, el rendimiento simple $R_t$ se define como el el cambio porcentual\n",
    "$$\n",
    "R_t=\\frac{S_t-S_{t-1}}{S_{t-1}}\n",
    "$$\n",
    "para $t=1,\\ldots,n$.\n",
    "\n",
    "Para el ejemplo en curso, ¿cómo calcular esto?"
   ]
  },
  {
   "cell_type": "code",
   "execution_count": 47,
   "metadata": {},
   "outputs": [
    {
     "data": {
      "text/html": [
       "<div>\n",
       "<style scoped>\n",
       "    .dataframe tbody tr th:only-of-type {\n",
       "        vertical-align: middle;\n",
       "    }\n",
       "\n",
       "    .dataframe tbody tr th {\n",
       "        vertical-align: top;\n",
       "    }\n",
       "\n",
       "    .dataframe thead th {\n",
       "        text-align: right;\n",
       "    }\n",
       "</style>\n",
       "<table border=\"1\" class=\"dataframe\">\n",
       "  <thead>\n",
       "    <tr style=\"text-align: right;\">\n",
       "      <th>Symbols</th>\n",
       "      <th>MSFT</th>\n",
       "      <th>NFLX</th>\n",
       "      <th>TSLA</th>\n",
       "    </tr>\n",
       "    <tr>\n",
       "      <th>Date</th>\n",
       "      <th></th>\n",
       "      <th></th>\n",
       "      <th></th>\n",
       "    </tr>\n",
       "  </thead>\n",
       "  <tbody>\n",
       "    <tr>\n",
       "      <th>2019-01-02</th>\n",
       "      <td>NaN</td>\n",
       "      <td>NaN</td>\n",
       "      <td>NaN</td>\n",
       "    </tr>\n",
       "    <tr>\n",
       "      <th>2019-01-03</th>\n",
       "      <td>97.147713</td>\n",
       "      <td>267.660004</td>\n",
       "      <td>20.674667</td>\n",
       "    </tr>\n",
       "    <tr>\n",
       "      <th>2019-01-04</th>\n",
       "      <td>93.573837</td>\n",
       "      <td>271.200012</td>\n",
       "      <td>20.024000</td>\n",
       "    </tr>\n",
       "    <tr>\n",
       "      <th>2019-01-07</th>\n",
       "      <td>97.925888</td>\n",
       "      <td>297.570007</td>\n",
       "      <td>21.179333</td>\n",
       "    </tr>\n",
       "    <tr>\n",
       "      <th>2019-01-08</th>\n",
       "      <td>98.050774</td>\n",
       "      <td>315.339996</td>\n",
       "      <td>22.330667</td>\n",
       "    </tr>\n",
       "  </tbody>\n",
       "</table>\n",
       "</div>"
      ],
      "text/plain": [
       "Symbols          MSFT        NFLX       TSLA\n",
       "Date                                        \n",
       "2019-01-02        NaN         NaN        NaN\n",
       "2019-01-03  97.147713  267.660004  20.674667\n",
       "2019-01-04  93.573837  271.200012  20.024000\n",
       "2019-01-07  97.925888  297.570007  21.179333\n",
       "2019-01-08  98.050774  315.339996  22.330667"
      ]
     },
     "execution_count": 47,
     "metadata": {},
     "output_type": "execute_result"
    }
   ],
   "source": [
    "data.shift().head()"
   ]
  },
  {
   "cell_type": "code",
   "execution_count": 50,
   "metadata": {},
   "outputs": [
    {
     "name": "stdout",
     "output_type": "stream",
     "text": [
      "Symbols         MSFT      NFLX      TSLA\n",
      "Date                                    \n",
      "2019-01-02       NaN       NaN       NaN\n",
      "2019-01-03 -0.036788  0.013226 -0.031472\n",
      "2019-01-04  0.046509  0.097234  0.057697\n",
      "2019-01-07  0.001275  0.059717  0.054361\n",
      "2019-01-08  0.007251  0.015634  0.001164\n",
      "...              ...       ...       ...\n",
      "2020-12-24  0.007827 -0.000991  0.024443\n",
      "2020-12-28  0.009921  0.010020  0.002901\n",
      "2020-12-29 -0.003601  0.022634  0.003466\n",
      "2020-12-30 -0.011019 -0.011830  0.043229\n",
      "2020-12-31  0.003338  0.030767  0.015674\n",
      "\n",
      "[505 rows x 3 columns]\n"
     ]
    },
    {
     "data": {
      "text/html": [
       "<div>\n",
       "<style scoped>\n",
       "    .dataframe tbody tr th:only-of-type {\n",
       "        vertical-align: middle;\n",
       "    }\n",
       "\n",
       "    .dataframe tbody tr th {\n",
       "        vertical-align: top;\n",
       "    }\n",
       "\n",
       "    .dataframe thead th {\n",
       "        text-align: right;\n",
       "    }\n",
       "</style>\n",
       "<table border=\"1\" class=\"dataframe\">\n",
       "  <thead>\n",
       "    <tr style=\"text-align: right;\">\n",
       "      <th>Symbols</th>\n",
       "      <th>MSFT</th>\n",
       "      <th>NFLX</th>\n",
       "      <th>TSLA</th>\n",
       "    </tr>\n",
       "  </thead>\n",
       "  <tbody>\n",
       "    <tr>\n",
       "      <th>count</th>\n",
       "      <td>504.000000</td>\n",
       "      <td>504.000000</td>\n",
       "      <td>504.000000</td>\n",
       "    </tr>\n",
       "    <tr>\n",
       "      <th>mean</th>\n",
       "      <td>0.001846</td>\n",
       "      <td>0.001727</td>\n",
       "      <td>0.005874</td>\n",
       "    </tr>\n",
       "    <tr>\n",
       "      <th>std</th>\n",
       "      <td>0.021463</td>\n",
       "      <td>0.025736</td>\n",
       "      <td>0.045553</td>\n",
       "    </tr>\n",
       "    <tr>\n",
       "      <th>min</th>\n",
       "      <td>-0.147390</td>\n",
       "      <td>-0.111389</td>\n",
       "      <td>-0.210628</td>\n",
       "    </tr>\n",
       "    <tr>\n",
       "      <th>25%</th>\n",
       "      <td>-0.007217</td>\n",
       "      <td>-0.012066</td>\n",
       "      <td>-0.014371</td>\n",
       "    </tr>\n",
       "    <tr>\n",
       "      <th>50%</th>\n",
       "      <td>0.001917</td>\n",
       "      <td>0.000876</td>\n",
       "      <td>0.003776</td>\n",
       "    </tr>\n",
       "    <tr>\n",
       "      <th>75%</th>\n",
       "      <td>0.011009</td>\n",
       "      <td>0.015766</td>\n",
       "      <td>0.025623</td>\n",
       "    </tr>\n",
       "    <tr>\n",
       "      <th>max</th>\n",
       "      <td>0.142169</td>\n",
       "      <td>0.116087</td>\n",
       "      <td>0.198949</td>\n",
       "    </tr>\n",
       "  </tbody>\n",
       "</table>\n",
       "</div>"
      ],
      "text/plain": [
       "Symbols        MSFT        NFLX        TSLA\n",
       "count    504.000000  504.000000  504.000000\n",
       "mean       0.001846    0.001727    0.005874\n",
       "std        0.021463    0.025736    0.045553\n",
       "min       -0.147390   -0.111389   -0.210628\n",
       "25%       -0.007217   -0.012066   -0.014371\n",
       "50%        0.001917    0.000876    0.003776\n",
       "75%        0.011009    0.015766    0.025623\n",
       "max        0.142169    0.116087    0.198949"
      ]
     },
     "execution_count": 50,
     "metadata": {},
     "output_type": "execute_result"
    }
   ],
   "source": [
    "R = (data - data.shift())/data.shift()\n",
    "print(R)\n",
    "R.describe()"
   ]
  },
  {
   "cell_type": "code",
   "execution_count": 52,
   "metadata": {},
   "outputs": [
    {
     "data": {
      "text/plain": [
       "<AxesSubplot:xlabel='Date'>"
      ]
     },
     "execution_count": 52,
     "metadata": {},
     "output_type": "execute_result"
    },
    {
     "data": {
      "image/png": "[encoded data removed]",
      "text/plain": [
       "<Figure size 432x288 with 1 Axes>"
      ]
     },
     "metadata": {
      "needs_background": "light"
     },
     "output_type": "display_data"
    }
   ],
   "source": [
    "R[\"TSLA\"].plot()"
   ]
  },
  {
   "cell_type": "markdown",
   "metadata": {},
   "source": [
    "y la gráfica de los rendimientos se puede obtener como..."
   ]
  },
  {
   "cell_type": "code",
   "execution_count": 54,
   "metadata": {},
   "outputs": [
    {
     "data": {
      "text/plain": [
       "array([[<AxesSubplot:title={'center':'MSFT'}>,\n",
       "        <AxesSubplot:title={'center':'NFLX'}>],\n",
       "       [<AxesSubplot:title={'center':'TSLA'}>, <AxesSubplot:>]],\n",
       "      dtype=object)"
      ]
     },
     "execution_count": 54,
     "metadata": {},
     "output_type": "execute_result"
    },
    {
     "data": {
      "image/png": "[encoded data removed]",
      "text/plain": [
       "<Figure size 432x288 with 4 Axes>"
      ]
     },
     "metadata": {
      "needs_background": "light"
     },
     "output_type": "display_data"
    }
   ],
   "source": [
    "R.hist()"
   ]
  },
  {
   "cell_type": "code",
   "execution_count": 55,
   "metadata": {},
   "outputs": [
    {
     "data": {
      "text/html": [
       "<div>\n",
       "<style scoped>\n",
       "    .dataframe tbody tr th:only-of-type {\n",
       "        vertical-align: middle;\n",
       "    }\n",
       "\n",
       "    .dataframe tbody tr th {\n",
       "        vertical-align: top;\n",
       "    }\n",
       "\n",
       "    .dataframe thead th {\n",
       "        text-align: right;\n",
       "    }\n",
       "</style>\n",
       "<table border=\"1\" class=\"dataframe\">\n",
       "  <thead>\n",
       "    <tr style=\"text-align: right;\">\n",
       "      <th>Symbols</th>\n",
       "      <th>MSFT</th>\n",
       "      <th>NFLX</th>\n",
       "      <th>TSLA</th>\n",
       "    </tr>\n",
       "    <tr>\n",
       "      <th>Date</th>\n",
       "      <th></th>\n",
       "      <th></th>\n",
       "      <th></th>\n",
       "    </tr>\n",
       "  </thead>\n",
       "  <tbody>\n",
       "    <tr>\n",
       "      <th>2019-01-02</th>\n",
       "      <td>NaN</td>\n",
       "      <td>NaN</td>\n",
       "      <td>NaN</td>\n",
       "    </tr>\n",
       "    <tr>\n",
       "      <th>2019-01-03</th>\n",
       "      <td>-0.037482</td>\n",
       "      <td>0.013139</td>\n",
       "      <td>-0.031978</td>\n",
       "    </tr>\n",
       "    <tr>\n",
       "      <th>2019-01-04</th>\n",
       "      <td>0.045460</td>\n",
       "      <td>0.092793</td>\n",
       "      <td>0.056094</td>\n",
       "    </tr>\n",
       "    <tr>\n",
       "      <th>2019-01-07</th>\n",
       "      <td>0.001274</td>\n",
       "      <td>0.058002</td>\n",
       "      <td>0.052935</td>\n",
       "    </tr>\n",
       "    <tr>\n",
       "      <th>2019-01-08</th>\n",
       "      <td>0.007224</td>\n",
       "      <td>0.015513</td>\n",
       "      <td>0.001164</td>\n",
       "    </tr>\n",
       "  </tbody>\n",
       "</table>\n",
       "</div>"
      ],
      "text/plain": [
       "Symbols         MSFT      NFLX      TSLA\n",
       "Date                                    \n",
       "2019-01-02       NaN       NaN       NaN\n",
       "2019-01-03 -0.037482  0.013139 -0.031978\n",
       "2019-01-04  0.045460  0.092793  0.056094\n",
       "2019-01-07  0.001274  0.058002  0.052935\n",
       "2019-01-08  0.007224  0.015513  0.001164"
      ]
     },
     "execution_count": 55,
     "metadata": {},
     "output_type": "execute_result"
    }
   ],
   "source": [
    "import numpy as np\n",
    "r = np.log(data/data.shift())\n",
    "r.head()"
   ]
  },
  {
   "cell_type": "code",
   "execution_count": null,
   "metadata": {},
   "outputs": [],
   "source": []
  },
  {
   "cell_type": "markdown",
   "metadata": {},
   "source": [
    "Donde se observa que el rendimiento tiene una tendencia constante y, por tanto, se puede plantear la hipótesis de que se puede modelar usando un proceso estocástico estacionario en media."
   ]
  },
  {
   "cell_type": "markdown",
   "metadata": {},
   "source": [
    "Otro rendimiento usado con frecuencia es el rendimiento continuamente compuesto o rendimiento logaritmico. Éste, está definido como\n",
    "\n",
    "$$\n",
    "r_t=\\ln\\left(\\frac{S_t}{S_{t-1}}\\right).\n",
    "$$\n",
    "\n",
    "**Esta ecuación sólo es válida cuando se tienen periodos cortos de tiempo**\n",
    "Es fácil darse cuenta que $r_t=\\ln(1+R_t)$.\n",
    "\n",
    "\n",
    "Para este caso, la fórmula del rendimiento continuamente compuesto se translada facilmente a código Python (obtener, graficar y comparar)."
   ]
  },
  {
   "cell_type": "code",
   "execution_count": null,
   "metadata": {},
   "outputs": [],
   "source": []
  },
  {
   "cell_type": "code",
   "execution_count": null,
   "metadata": {},
   "outputs": [],
   "source": []
  },
  {
   "cell_type": "code",
   "execution_count": null,
   "metadata": {},
   "outputs": [],
   "source": []
  },
  {
   "cell_type": "markdown",
   "metadata": {},
   "source": [
    "Donde se observa que el rendimiento tiene una tendencia constante y, por tanto, se puede plantear la hipótesis de que se puede modelar usando un proceso estocástico estacionario en media.\n",
    "\n",
    "Podemos incluso plantear la hipótesis de que los log rendimientos son normales..."
   ]
  },
  {
   "cell_type": "code",
   "execution_count": null,
   "metadata": {},
   "outputs": [],
   "source": []
  },
  {
   "cell_type": "code",
   "execution_count": null,
   "metadata": {},
   "outputs": [],
   "source": []
  },
  {
   "cell_type": "code",
   "execution_count": null,
   "metadata": {},
   "outputs": [],
   "source": []
  },
  {
   "cell_type": "markdown",
   "metadata": {},
   "source": [
    "___\n",
    "Recapitulando, hoy aprendimos a obtener datos con pandas-datareader directamente desde un archivo local ó fuentes remotas.\n",
    "\n",
    "Por otra parte, estudiamos los rendimientos diarios y dimos con la conclusión de que se podrían modelar como un proceso estocástico estacionario normal."
   ]
  },
  {
   "cell_type": "markdown",
   "metadata": {},
   "source": [
    "La siguiente clase veremos como simular escenarios de comportamiento de los precios futuros (no determinístico, no sabemos como se comporta, muchas posibilidades: montecarlo) a partir de datos de ingresos diarios.\n",
    "\n",
    "Luego, con esas predicciones veremos la probabilidad de que el precio de las acciones quede por encima (debajo) de cierto umbral y con ello tomar decisiones de vender (comprar) estas acciones."
   ]
  }
 ],
 "metadata": {
  "kernelspec": {
   "display_name": "Python 3 (ipykernel)",
   "language": "python",
   "name": "python3"
  },
  "language_info": {
   "codemirror_mode": {
    "name": "ipython",
    "version": 3
   },
   "file_extension": ".py",
   "mimetype": "text/x-python",
   "name": "python",
   "nbconvert_exporter": "python",
   "pygments_lexer": "ipython3",
   "version": "3.9.12"
  }
 },
 "nbformat": 4,
 "nbformat_minor": 2
}
