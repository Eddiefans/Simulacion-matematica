{
 "cells": [
  {
   "cell_type": "markdown",
   "metadata": {},
   "source": [
    "# Tarea - Ajuste de curvas"
   ]
  },
  {
   "cell_type": "code",
   "execution_count": 1,
   "metadata": {},
   "outputs": [],
   "source": [
    "import numpy as np\n",
    "import pandas as pd\n",
    "import matplotlib.pyplot as plt\n"
   ]
  },
  {
   "cell_type": "markdown",
   "metadata": {},
   "source": [
    "---\n",
    "### Problema 1\n",
    "\n",
    "Los siguientes datos representan el costo en dólares de la electricidad según Western Electricity Coordinating Council desde el 2014 (y su pronóstico para el 2040)\n",
    "\n",
    "Tomado de:\n",
    "https://www.quandl.com/data/EIA/AEO_2016_REF_NO_CPP_PRCE_NA_COMM_NA_ELC_NA_WECCRKS_NCNTPKWH_A-Electricity-End-Use-Prices-Commercial-Western-Electricity-Coordinating-Council-Rockies-No-CPP-AEO2016"
   ]
  },
  {
   "cell_type": "markdown",
   "metadata": {},
   "source": [
    "1. Ajuste estos datos a polinomios de grado 1 hasta 3 (los datos en $x$ corresponden a los años de 2014 a 2040, sin embargo son valores muy grandes para elevarlos a una potencia, use una representación para estos años, por ejemplo $2014 \\rightarrow 0$ y $2040\\rightarrow 26$).\n",
    "\n",
    "2. Muestre las tres curvas ajustadas junto a los datos de los costos en un solo gráfico"
   ]
  },
  {
   "cell_type": "code",
   "execution_count": 52,
   "metadata": {},
   "outputs": [
    {
     "name": "stdout",
     "output_type": "stream",
     "text": [
      "x = año - 2014\n",
      "\n",
      "Polinomio de grado 1:\n"
     ]
    },
    {
     "data": {
      "text/latex": [
       "$\\displaystyle 9.12+0.19x$"
      ],
      "text/plain": [
       "<IPython.core.display.Math object>"
      ]
     },
     "metadata": {},
     "output_type": "display_data"
    },
    {
     "name": "stdout",
     "output_type": "stream",
     "text": [
      "Polinomio de grado 2:\n"
     ]
    },
    {
     "data": {
      "text/latex": [
       "$\\displaystyle 9.59+0.07x +0.004x^2$"
      ],
      "text/plain": [
       "<IPython.core.display.Math object>"
      ]
     },
     "metadata": {},
     "output_type": "display_data"
    },
    {
     "name": "stdout",
     "output_type": "stream",
     "text": [
      "Polinomio de grado 2:\n"
     ]
    },
    {
     "data": {
      "text/latex": [
       "$\\displaystyle 9.57+0.08x +0.003x^2 +3.0 \\cdot 10^{-5}x^3$"
      ],
      "text/plain": [
       "<IPython.core.display.Math object>"
      ]
     },
     "metadata": {},
     "output_type": "display_data"
    },
    {
     "data": {
      "image/png": "[encoded data removed]",
      "text/plain": [
       "<Figure size 432x288 with 1 Axes>"
      ]
     },
     "metadata": {
      "needs_background": "light"
     },
     "output_type": "display_data"
    }
   ],
   "source": [
    "import numpy as np\n",
    "import sympy as sp\n",
    "import matplotlib.pyplot as pt\n",
    "import scipy.optimize as op\n",
    "from IPython.display import display, Math\n",
    "\n",
    "def difference(beta, X, y, n):\n",
    "    beta = np.reshape(beta, [n, -1])\n",
    "    y_pred = X @ beta\n",
    "    return ((y - y_pred).T @ (y - y_pred))[0][0]\n",
    "\n",
    "data = np.array([10.051101,  9.259127,  9.444813,  9.557723,  9.977324, 10.298326,\n",
    "       10.447217, 10.550506, 10.590784, 10.657418, 10.743085, 10.831965,\n",
    "       10.988435, 11.153055, 11.313326, 11.557165, 11.860136, 12.122511,\n",
    "       12.356448, 12.611391, 12.814569, 13.111372, 13.357134, 13.559012,\n",
    "       13.85861 , 14.135924, 14.436149])\n",
    "\n",
    "x = np.linspace(0, 26, 27)\n",
    "x2 = x**2\n",
    "x3 = x**3\n",
    "\n",
    "betai1 = np.random.rand(2)\n",
    "betai2 = np.random.rand(3)\n",
    "betai3 = np.random.rand(4)\n",
    "\n",
    "x = np.reshape(x, [len(x), -1])\n",
    "x2 = np.reshape(x2, [len(x2), -1])\n",
    "x3 = np.reshape(x3, [len(x3), -1])\n",
    "\n",
    "X = np.hstack((np.ones([len(x), 1]), x))\n",
    "X2 = np.hstack((np.ones([len(x2), 1]), x, x2))\n",
    "X3 = np.hstack((np.ones([len(x3), 1]), x, x2, x3))\n",
    "\n",
    "y = np.reshape(data, [len(data), -1])\n",
    "\n",
    "sol = op.minimize(difference, betai1, args=(X, y, 2))\n",
    "sol2 = op.minimize(difference, betai2, args=(X2, y, 3))\n",
    "sol3 = op.minimize(difference, betai3, args=(X3, y, 4))\n",
    "\n",
    "print(\"x = año - 2014\")\n",
    "print(\"\")\n",
    "print(\"Polinomio de grado 1:\")\n",
    "display(Math(sp.latex(round(sol.get(\"x\")[0], 2))+\"+\"+sp.latex(round(sol.get(\"x\")[1], 2))+\"x\"))\n",
    "print(\"Polinomio de grado 2:\")\n",
    "display(Math(sp.latex(round(sol2.get(\"x\")[0], 2))+\"+\"+sp.latex(round(sol2.get(\"x\")[1], 2))+\"x +\"+sp.latex(round(sol2.get(\"x\")[2], 3))+\"x^2\"))\n",
    "print(\"Polinomio de grado 2:\")\n",
    "display(Math(sp.latex(round(sol3.get(\"x\")[0], 2))+\"+\"+sp.latex(round(sol3.get(\"x\")[1], 2))+\"x +\"+sp.latex(round(sol3.get(\"x\")[2], 3))+\"x^2 +\"+sp.latex(round(sol3.get(\"x\")[3], 5))+\"x^3\"))\n",
    "\n",
    "pt.figure()\n",
    "pt.scatter(x, data, c=\"red\", s=20)\n",
    "pt.plot(x, sol.get(\"x\")[0]+sol.get(\"x\")[1]*x, \"#0083D5\", label=\"Grado 1\")\n",
    "pt.plot(x, sol2.get(\"x\")[0]+sol2.get(\"x\")[1]*x+sol2.get(\"x\")[2]*x2, \"#CB00D5\", linewidth=2.5, label=\"Grado 2\")\n",
    "pt.plot(x, sol3.get(\"x\")[0]+sol3.get(\"x\")[1]*x+sol3.get(\"x\")[2]*x2+sol3.get(\"x\")[3]*x3, \"#66D500\", label=\"Grado 3\")\n",
    "pt.legend()\n",
    "pt.grid()\n",
    "\n"
   ]
  },
  {
   "cell_type": "markdown",
   "metadata": {},
   "source": [
    "---"
   ]
  },
  {
   "cell_type": "markdown",
   "metadata": {},
   "source": [
    "___\n",
    "### Problema 2\n",
    "\n",
    "El archivo `population_data.csv` contiene información histórica anual de México relativa a la población, nacimientos y muertes desde el año 1950 hasta el año 2015. La primer columna corresponde a los años, la segunda a la población, la tercera a los nacimientos y la última a los decesos.\n",
    "\n",
    "Tomado de: https://en.wikipedia.org/wiki/Demographics_of_Mexico.\n",
    "\n",
    "Importe estos datos usando la función `read_csv` del paquete `pandas`\n",
    "\n",
    "1. Usando los años como variable independiente $x$ y la población como variable dependiente $y$, ajustar polinomios de grado 1 hasta grado 3.\n",
    "\n",
    "    * Mostrar en un solo gráfico los datos de población contra los años, y los polinomios ajustados.\n",
    "\n",
    "    * Graficar el error cuadrático acumulado contra el número de términos.\n",
    "\n",
    "2. Repetir el punto 1 usando los nacimientos como variable dependiente $y$. Grafique las curvas ajustadas junto con los datos de nacimientos. Vea en un gráfico el error acumulado."
   ]
  },
  {
   "cell_type": "markdown",
   "metadata": {},
   "source": [
    "---"
   ]
  },
  {
   "cell_type": "code",
   "execution_count": 55,
   "metadata": {},
   "outputs": [
    {
     "name": "stdout",
     "output_type": "stream",
     "text": [
      "x = año - 1950\n",
      "y = Población\n",
      "\n",
      "Polinomio de grado 1:\n"
     ]
    },
    {
     "data": {
      "text/latex": [
       "$\\displaystyle 24138.02+1543.97x$"
      ],
      "text/plain": [
       "<IPython.core.display.Math object>"
      ]
     },
     "metadata": {},
     "output_type": "display_data"
    },
    {
     "name": "stdout",
     "output_type": "stream",
     "text": [
      "Polinomio de grado 2:\n"
     ]
    },
    {
     "data": {
      "text/latex": [
       "$\\displaystyle 24425.59+1517.01x +0.415x^2$"
      ],
      "text/plain": [
       "<IPython.core.display.Math object>"
      ]
     },
     "metadata": {},
     "output_type": "display_data"
    },
    {
     "name": "stdout",
     "output_type": "stream",
     "text": [
      "Polinomio de grado 2:\n"
     ]
    },
    {
     "data": {
      "text/latex": [
       "$\\displaystyle 28477.78+739.08x +30.565x^2 +-0.30923x^3$"
      ],
      "text/plain": [
       "<IPython.core.display.Math object>"
      ]
     },
     "metadata": {},
     "output_type": "display_data"
    },
    {
     "data": {
      "image/png": "[encoded data removed]",
      "text/plain": [
       "<Figure size 432x288 with 1 Axes>"
      ]
     },
     "metadata": {
      "needs_background": "light"
     },
     "output_type": "display_data"
    }
   ],
   "source": [
    "import numpy as np\n",
    "import pandas as p\n",
    "\n",
    "def difference(beta, X, y, n):\n",
    "    beta = np.reshape(beta, [n, -1])\n",
    "    y_pred = X @ beta\n",
    "    return ((y - y_pred).T @ (y - y_pred))[0][0]\n",
    "\n",
    "data = p.read_csv(\"Excels/population_data.csv\")\n",
    "\n",
    "years = np.array(data.get(\"Year\").values.tolist())-1950\n",
    "population = np.array(data.get(\"Poblacion\").values.tolist())\n",
    "births = np.array(data.get(\"Nacimientos\").values.tolist())\n",
    "deaths = np.array(data.get(\"Decesos\").values.tolist())\n",
    "\n",
    "x = np.linspace(0, years[-1], 66)\n",
    "x2 = x**2\n",
    "x3 = x**3\n",
    "\n",
    "betai1 = np.random.rand(2)\n",
    "betai2 = np.random.rand(3)\n",
    "betai3 = np.random.rand(4)\n",
    "\n",
    "x = np.reshape(x, [len(x), -1])\n",
    "x2 = np.reshape(x2, [len(x2), -1])\n",
    "x3 = np.reshape(x3, [len(x3), -1])\n",
    "\n",
    "X = np.hstack((np.ones([len(x), 1]), x))\n",
    "X2 = np.hstack((np.ones([len(x2), 1]), x, x2))\n",
    "X3 = np.hstack((np.ones([len(x3), 1]), x, x2, x3))\n",
    "\n",
    "y1 = np.reshape(population, [len(population), -1])\n",
    "\n",
    "sol = op.minimize(difference, betai1, args=(X, y1, 2))\n",
    "sol2 = op.minimize(difference, betai2, args=(X2, y1, 3))\n",
    "sol3 = op.minimize(difference, betai3, args=(X3, y1, 4))\n",
    "\n",
    "print(\"x = año - 1950\")\n",
    "print(\"y = Población\")\n",
    "print(\"\")\n",
    "print(\"Polinomio de grado 1:\")\n",
    "display(Math(sp.latex(round(sol.get(\"x\")[0], 2))+\"+\"+sp.latex(round(sol.get(\"x\")[1], 2))+\"x\"))\n",
    "print(\"Polinomio de grado 2:\")\n",
    "display(Math(sp.latex(round(sol2.get(\"x\")[0], 2))+\"+\"+sp.latex(round(sol2.get(\"x\")[1], 2))+\"x +\"+sp.latex(round(sol2.get(\"x\")[2], 3))+\"x^2\"))\n",
    "print(\"Polinomio de grado 2:\")\n",
    "display(Math(sp.latex(round(sol3.get(\"x\")[0], 2))+\"+\"+sp.latex(round(sol3.get(\"x\")[1], 2))+\"x +\"+sp.latex(round(sol3.get(\"x\")[2], 3))+\"x^2 +\"+sp.latex(round(sol3.get(\"x\")[3], 5))+\"x^3\"))\n",
    "\n",
    "pt.figure()\n",
    "pt.scatter(x, y1, c=\"red\", s=20)\n",
    "pt.plot(x, sol.get(\"x\")[0]+sol.get(\"x\")[1]*x, \"#0083D5\", label=\"Grado 1\")\n",
    "pt.plot(x, sol2.get(\"x\")[0]+sol2.get(\"x\")[1]*x+sol2.get(\"x\")[2]*x2, \"#CB00D5\", label=\"Grado 2\")\n",
    "pt.plot(x, sol3.get(\"x\")[0]+sol3.get(\"x\")[1]*x+sol3.get(\"x\")[2]*x2+sol3.get(\"x\")[3]*x3, \"#66D500\", label=\"Grado 3\")\n",
    "pt.legend()\n",
    "pt.grid()\n",
    "\n"
   ]
  },
  {
   "cell_type": "code",
   "execution_count": 54,
   "metadata": {},
   "outputs": [
    {
     "name": "stdout",
     "output_type": "stream",
     "text": [
      "x = año - 1950\n",
      "y = Nacimientos\n",
      "\n",
      "Polinomio de grado 1:\n"
     ]
    },
    {
     "data": {
      "text/latex": [
       "$\\displaystyle 1563428.21+21966.32x$"
      ],
      "text/plain": [
       "<IPython.core.display.Math object>"
      ]
     },
     "metadata": {},
     "output_type": "display_data"
    },
    {
     "name": "stdout",
     "output_type": "stream",
     "text": [
      "Polinomio de grado 2:\n"
     ]
    },
    {
     "data": {
      "text/latex": [
       "$\\displaystyle 1021018.46+72782.92x +-781.623x^2$"
      ],
      "text/plain": [
       "<IPython.core.display.Math object>"
      ]
     },
     "metadata": {},
     "output_type": "display_data"
    },
    {
     "name": "stdout",
     "output_type": "stream",
     "text": [
      "Polinomio de grado 2:\n"
     ]
    },
    {
     "data": {
      "text/latex": [
       "$\\displaystyle 1088460.86+59857.08x +-280.901x^2 +-5.13446x^3$"
      ],
      "text/plain": [
       "<IPython.core.display.Math object>"
      ]
     },
     "metadata": {},
     "output_type": "display_data"
    },
    {
     "data": {
      "image/png": "[encoded data removed]",
      "text/plain": [
       "<Figure size 432x288 with 1 Axes>"
      ]
     },
     "metadata": {
      "needs_background": "light"
     },
     "output_type": "display_data"
    }
   ],
   "source": [
    "import numpy as np\n",
    "import pandas as p\n",
    "\n",
    "def difference(beta, X, y, n):\n",
    "    beta = np.reshape(beta, [n, -1])\n",
    "    y_pred = X @ beta\n",
    "    return ((y - y_pred).T @ (y - y_pred))[0][0]\n",
    "\n",
    "data = p.read_csv(\"Excels/population_data.csv\")\n",
    "\n",
    "years = np.array(data.get(\"Year\").values.tolist())-1950\n",
    "population = np.array(data.get(\"Poblacion\").values.tolist())\n",
    "births = np.array(data.get(\"Nacimientos\").values.tolist())\n",
    "deaths = np.array(data.get(\"Decesos\").values.tolist())\n",
    "\n",
    "x = np.linspace(0, years[-1], 66)\n",
    "x2 = x**2\n",
    "x3 = x**3\n",
    "\n",
    "betai1 = np.random.rand(2)\n",
    "betai2 = np.random.rand(3)\n",
    "betai3 = np.random.rand(4)\n",
    "\n",
    "x = np.reshape(x, [len(x), -1])\n",
    "x2 = np.reshape(x2, [len(x2), -1])\n",
    "x3 = np.reshape(x3, [len(x3), -1])\n",
    "\n",
    "X = np.hstack((np.ones([len(x), 1]), x))\n",
    "X2 = np.hstack((np.ones([len(x2), 1]), x, x2))\n",
    "X3 = np.hstack((np.ones([len(x3), 1]), x, x2, x3))\n",
    "\n",
    "y1 = np.reshape(births, [len(births), -1])\n",
    "\n",
    "sol = op.minimize(difference, betai1, args=(X, y1, 2))\n",
    "sol2 = op.minimize(difference, betai2, args=(X2, y1, 3))\n",
    "sol3 = op.minimize(difference, betai3, args=(X3, y1, 4))\n",
    "\n",
    "print(\"x = año - 1950\")\n",
    "print(\"y = Nacimientos\")\n",
    "print(\"\")\n",
    "print(\"Polinomio de grado 1:\")\n",
    "display(Math(sp.latex(round(sol.get(\"x\")[0], 2))+\"+\"+sp.latex(round(sol.get(\"x\")[1], 2))+\"x\"))\n",
    "print(\"Polinomio de grado 2:\")\n",
    "display(Math(sp.latex(round(sol2.get(\"x\")[0], 2))+\"+\"+sp.latex(round(sol2.get(\"x\")[1], 2))+\"x +\"+sp.latex(round(sol2.get(\"x\")[2], 3))+\"x^2\"))\n",
    "print(\"Polinomio de grado 2:\")\n",
    "display(Math(sp.latex(round(sol3.get(\"x\")[0], 2))+\"+\"+sp.latex(round(sol3.get(\"x\")[1], 2))+\"x +\"+sp.latex(round(sol3.get(\"x\")[2], 3))+\"x^2 +\"+sp.latex(round(sol3.get(\"x\")[3], 5))+\"x^3\"))\n",
    "\n",
    "pt.figure()\n",
    "pt.scatter(x, y1, c=\"red\", s=20)\n",
    "pt.plot(x, sol.get(\"x\")[0]+sol.get(\"x\")[1]*x, \"#0083D5\", label=\"Grado 1\")\n",
    "pt.plot(x, sol2.get(\"x\")[0]+sol2.get(\"x\")[1]*x+sol2.get(\"x\")[2]*x2, \"#CB00D5\", label=\"Grado 2\")\n",
    "pt.plot(x, sol3.get(\"x\")[0]+sol3.get(\"x\")[1]*x+sol3.get(\"x\")[2]*x2+sol3.get(\"x\")[3]*x3, \"#66D500\", label=\"Grado 3\")\n",
    "pt.legend()\n",
    "pt.grid()"
   ]
  }
 ],
 "metadata": {
  "kernelspec": {
   "display_name": "Python 3 (ipykernel)",
   "language": "python",
   "name": "python3"
  },
  "language_info": {
   "codemirror_mode": {
    "name": "ipython",
    "version": 3
   },
   "file_extension": ".py",
   "mimetype": "text/x-python",
   "name": "python",
   "nbconvert_exporter": "python",
   "pygments_lexer": "ipython3",
   "version": "3.9.7"
  }
 },
 "nbformat": 4,
 "nbformat_minor": 2
}
